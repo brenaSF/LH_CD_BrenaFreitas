{
  "nbformat": 4,
  "nbformat_minor": 0,
  "metadata": {
    "colab": {
      "provenance": [],
      "authorship_tag": "ABX9TyN/hD3aYYH7MeAR+aFKBevf",
      "include_colab_link": true
    },
    "kernelspec": {
      "name": "python3",
      "display_name": "Python 3"
    },
    "language_info": {
      "name": "python"
    }
  },
  "cells": [
    {
      "cell_type": "markdown",
      "metadata": {
        "id": "view-in-github",
        "colab_type": "text"
      },
      "source": [
        "<a href=\"https://colab.research.google.com/github/brenaSF/LH_CD_BrenaFreitas/blob/main/LH_CD_BrenaFreitas.ipynb\" target=\"_parent\"><img src=\"https://colab.research.google.com/assets/colab-badge.svg\" alt=\"Open In Colab\"/></a>"
      ]
    },
    {
      "cell_type": "markdown",
      "source": [
        "# Desafio - Indicium Precificação EDA\n",
        "Objetivo é desenvolver um modelo de previsão de preços a partir do dataset oferecido, e avaliar tal modelo utilizando as métricas de avaliação que mais fazem sentido para o problema."
      ],
      "metadata": {
        "id": "VteUpj1IHcT6"
      }
    },
    {
      "cell_type": "markdown",
      "source": [
        "## Importação de bibliotecas"
      ],
      "metadata": {
        "id": "jgSCE6FIHKyF"
      }
    },
    {
      "cell_type": "code",
      "execution_count": 1,
      "metadata": {
        "id": "5G5Yq75ROtx3"
      },
      "outputs": [],
      "source": [
        "import pandas as pd\n",
        "import numpy as np\n",
        "import matplotlib.pyplot as plt\n",
        "import seaborn as sn\n",
        "import matplotlib"
      ]
    },
    {
      "cell_type": "code",
      "source": [
        "print(pd.__version__)\n",
        "print(np.__version__)\n",
        "print(matplotlib.__version__)\n",
        "print(sn.__version__)"
      ],
      "metadata": {
        "id": "nhGHQbG8nzSH",
        "colab": {
          "base_uri": "https://localhost:8080/"
        },
        "outputId": "f7f66211-05e1-4c9d-825c-017e58711d9d"
      },
      "execution_count": 2,
      "outputs": [
        {
          "output_type": "stream",
          "name": "stdout",
          "text": [
            "1.5.3\n",
            "1.25.2\n",
            "3.7.1\n",
            "0.13.1\n"
          ]
        }
      ]
    },
    {
      "cell_type": "markdown",
      "source": [
        "## Pré-processamento\n",
        "\n"
      ],
      "metadata": {
        "id": "2Du4qmOmbX-H"
      }
    },
    {
      "cell_type": "code",
      "source": [
        "data = pd.read_csv(\"teste_indicium_precificacao.csv\")"
      ],
      "metadata": {
        "id": "B3gH9dV7bcAM"
      },
      "execution_count": 5,
      "outputs": []
    },
    {
      "cell_type": "code",
      "source": [
        "data.head()"
      ],
      "metadata": {
        "colab": {
          "base_uri": "https://localhost:8080/",
          "height": 417
        },
        "id": "Uh7nrZ2Ubqjp",
        "outputId": "d48b795e-ce87-42ca-b3fe-e1d1b89d2d65"
      },
      "execution_count": 6,
      "outputs": [
        {
          "output_type": "execute_result",
          "data": {
            "text/plain": [
              "     id                                              nome  host_id  \\\n",
              "0  2595                             Skylit Midtown Castle     2845   \n",
              "1  3647               THE VILLAGE OF HARLEM....NEW YORK !     4632   \n",
              "2  3831                   Cozy Entire Floor of Brownstone     4869   \n",
              "3  5022  Entire Apt: Spacious Studio/Loft by central park     7192   \n",
              "4  5099         Large Cozy 1 BR Apartment In Midtown East     7322   \n",
              "\n",
              "     host_name bairro_group        bairro  latitude  longitude  \\\n",
              "0     Jennifer    Manhattan       Midtown  40.75362  -73.98377   \n",
              "1    Elisabeth    Manhattan        Harlem  40.80902  -73.94190   \n",
              "2  LisaRoxanne     Brooklyn  Clinton Hill  40.68514  -73.95976   \n",
              "3        Laura    Manhattan   East Harlem  40.79851  -73.94399   \n",
              "4        Chris    Manhattan   Murray Hill  40.74767  -73.97500   \n",
              "\n",
              "         room_type  price  minimo_noites  numero_de_reviews ultima_review  \\\n",
              "0  Entire home/apt    225              1                 45    2019-05-21   \n",
              "1     Private room    150              3                  0           NaN   \n",
              "2  Entire home/apt     89              1                270    2019-07-05   \n",
              "3  Entire home/apt     80             10                  9    2018-11-19   \n",
              "4  Entire home/apt    200              3                 74    2019-06-22   \n",
              "\n",
              "   reviews_por_mes  calculado_host_listings_count  disponibilidade_365  \n",
              "0             0.38                              2                  355  \n",
              "1              NaN                              1                  365  \n",
              "2             4.64                              1                  194  \n",
              "3             0.10                              1                    0  \n",
              "4             0.59                              1                  129  "
            ],
            "text/html": [
              "\n",
              "  <div id=\"df-36e06570-bea6-453f-b6f0-b37e0b26a855\" class=\"colab-df-container\">\n",
              "    <div>\n",
              "<style scoped>\n",
              "    .dataframe tbody tr th:only-of-type {\n",
              "        vertical-align: middle;\n",
              "    }\n",
              "\n",
              "    .dataframe tbody tr th {\n",
              "        vertical-align: top;\n",
              "    }\n",
              "\n",
              "    .dataframe thead th {\n",
              "        text-align: right;\n",
              "    }\n",
              "</style>\n",
              "<table border=\"1\" class=\"dataframe\">\n",
              "  <thead>\n",
              "    <tr style=\"text-align: right;\">\n",
              "      <th></th>\n",
              "      <th>id</th>\n",
              "      <th>nome</th>\n",
              "      <th>host_id</th>\n",
              "      <th>host_name</th>\n",
              "      <th>bairro_group</th>\n",
              "      <th>bairro</th>\n",
              "      <th>latitude</th>\n",
              "      <th>longitude</th>\n",
              "      <th>room_type</th>\n",
              "      <th>price</th>\n",
              "      <th>minimo_noites</th>\n",
              "      <th>numero_de_reviews</th>\n",
              "      <th>ultima_review</th>\n",
              "      <th>reviews_por_mes</th>\n",
              "      <th>calculado_host_listings_count</th>\n",
              "      <th>disponibilidade_365</th>\n",
              "    </tr>\n",
              "  </thead>\n",
              "  <tbody>\n",
              "    <tr>\n",
              "      <th>0</th>\n",
              "      <td>2595</td>\n",
              "      <td>Skylit Midtown Castle</td>\n",
              "      <td>2845</td>\n",
              "      <td>Jennifer</td>\n",
              "      <td>Manhattan</td>\n",
              "      <td>Midtown</td>\n",
              "      <td>40.75362</td>\n",
              "      <td>-73.98377</td>\n",
              "      <td>Entire home/apt</td>\n",
              "      <td>225</td>\n",
              "      <td>1</td>\n",
              "      <td>45</td>\n",
              "      <td>2019-05-21</td>\n",
              "      <td>0.38</td>\n",
              "      <td>2</td>\n",
              "      <td>355</td>\n",
              "    </tr>\n",
              "    <tr>\n",
              "      <th>1</th>\n",
              "      <td>3647</td>\n",
              "      <td>THE VILLAGE OF HARLEM....NEW YORK !</td>\n",
              "      <td>4632</td>\n",
              "      <td>Elisabeth</td>\n",
              "      <td>Manhattan</td>\n",
              "      <td>Harlem</td>\n",
              "      <td>40.80902</td>\n",
              "      <td>-73.94190</td>\n",
              "      <td>Private room</td>\n",
              "      <td>150</td>\n",
              "      <td>3</td>\n",
              "      <td>0</td>\n",
              "      <td>NaN</td>\n",
              "      <td>NaN</td>\n",
              "      <td>1</td>\n",
              "      <td>365</td>\n",
              "    </tr>\n",
              "    <tr>\n",
              "      <th>2</th>\n",
              "      <td>3831</td>\n",
              "      <td>Cozy Entire Floor of Brownstone</td>\n",
              "      <td>4869</td>\n",
              "      <td>LisaRoxanne</td>\n",
              "      <td>Brooklyn</td>\n",
              "      <td>Clinton Hill</td>\n",
              "      <td>40.68514</td>\n",
              "      <td>-73.95976</td>\n",
              "      <td>Entire home/apt</td>\n",
              "      <td>89</td>\n",
              "      <td>1</td>\n",
              "      <td>270</td>\n",
              "      <td>2019-07-05</td>\n",
              "      <td>4.64</td>\n",
              "      <td>1</td>\n",
              "      <td>194</td>\n",
              "    </tr>\n",
              "    <tr>\n",
              "      <th>3</th>\n",
              "      <td>5022</td>\n",
              "      <td>Entire Apt: Spacious Studio/Loft by central park</td>\n",
              "      <td>7192</td>\n",
              "      <td>Laura</td>\n",
              "      <td>Manhattan</td>\n",
              "      <td>East Harlem</td>\n",
              "      <td>40.79851</td>\n",
              "      <td>-73.94399</td>\n",
              "      <td>Entire home/apt</td>\n",
              "      <td>80</td>\n",
              "      <td>10</td>\n",
              "      <td>9</td>\n",
              "      <td>2018-11-19</td>\n",
              "      <td>0.10</td>\n",
              "      <td>1</td>\n",
              "      <td>0</td>\n",
              "    </tr>\n",
              "    <tr>\n",
              "      <th>4</th>\n",
              "      <td>5099</td>\n",
              "      <td>Large Cozy 1 BR Apartment In Midtown East</td>\n",
              "      <td>7322</td>\n",
              "      <td>Chris</td>\n",
              "      <td>Manhattan</td>\n",
              "      <td>Murray Hill</td>\n",
              "      <td>40.74767</td>\n",
              "      <td>-73.97500</td>\n",
              "      <td>Entire home/apt</td>\n",
              "      <td>200</td>\n",
              "      <td>3</td>\n",
              "      <td>74</td>\n",
              "      <td>2019-06-22</td>\n",
              "      <td>0.59</td>\n",
              "      <td>1</td>\n",
              "      <td>129</td>\n",
              "    </tr>\n",
              "  </tbody>\n",
              "</table>\n",
              "</div>\n",
              "    <div class=\"colab-df-buttons\">\n",
              "\n",
              "  <div class=\"colab-df-container\">\n",
              "    <button class=\"colab-df-convert\" onclick=\"convertToInteractive('df-36e06570-bea6-453f-b6f0-b37e0b26a855')\"\n",
              "            title=\"Convert this dataframe to an interactive table.\"\n",
              "            style=\"display:none;\">\n",
              "\n",
              "  <svg xmlns=\"http://www.w3.org/2000/svg\" height=\"24px\" viewBox=\"0 -960 960 960\">\n",
              "    <path d=\"M120-120v-720h720v720H120Zm60-500h600v-160H180v160Zm220 220h160v-160H400v160Zm0 220h160v-160H400v160ZM180-400h160v-160H180v160Zm440 0h160v-160H620v160ZM180-180h160v-160H180v160Zm440 0h160v-160H620v160Z\"/>\n",
              "  </svg>\n",
              "    </button>\n",
              "\n",
              "  <style>\n",
              "    .colab-df-container {\n",
              "      display:flex;\n",
              "      gap: 12px;\n",
              "    }\n",
              "\n",
              "    .colab-df-convert {\n",
              "      background-color: #E8F0FE;\n",
              "      border: none;\n",
              "      border-radius: 50%;\n",
              "      cursor: pointer;\n",
              "      display: none;\n",
              "      fill: #1967D2;\n",
              "      height: 32px;\n",
              "      padding: 0 0 0 0;\n",
              "      width: 32px;\n",
              "    }\n",
              "\n",
              "    .colab-df-convert:hover {\n",
              "      background-color: #E2EBFA;\n",
              "      box-shadow: 0px 1px 2px rgba(60, 64, 67, 0.3), 0px 1px 3px 1px rgba(60, 64, 67, 0.15);\n",
              "      fill: #174EA6;\n",
              "    }\n",
              "\n",
              "    .colab-df-buttons div {\n",
              "      margin-bottom: 4px;\n",
              "    }\n",
              "\n",
              "    [theme=dark] .colab-df-convert {\n",
              "      background-color: #3B4455;\n",
              "      fill: #D2E3FC;\n",
              "    }\n",
              "\n",
              "    [theme=dark] .colab-df-convert:hover {\n",
              "      background-color: #434B5C;\n",
              "      box-shadow: 0px 1px 3px 1px rgba(0, 0, 0, 0.15);\n",
              "      filter: drop-shadow(0px 1px 2px rgba(0, 0, 0, 0.3));\n",
              "      fill: #FFFFFF;\n",
              "    }\n",
              "  </style>\n",
              "\n",
              "    <script>\n",
              "      const buttonEl =\n",
              "        document.querySelector('#df-36e06570-bea6-453f-b6f0-b37e0b26a855 button.colab-df-convert');\n",
              "      buttonEl.style.display =\n",
              "        google.colab.kernel.accessAllowed ? 'block' : 'none';\n",
              "\n",
              "      async function convertToInteractive(key) {\n",
              "        const element = document.querySelector('#df-36e06570-bea6-453f-b6f0-b37e0b26a855');\n",
              "        const dataTable =\n",
              "          await google.colab.kernel.invokeFunction('convertToInteractive',\n",
              "                                                    [key], {});\n",
              "        if (!dataTable) return;\n",
              "\n",
              "        const docLinkHtml = 'Like what you see? Visit the ' +\n",
              "          '<a target=\"_blank\" href=https://colab.research.google.com/notebooks/data_table.ipynb>data table notebook</a>'\n",
              "          + ' to learn more about interactive tables.';\n",
              "        element.innerHTML = '';\n",
              "        dataTable['output_type'] = 'display_data';\n",
              "        await google.colab.output.renderOutput(dataTable, element);\n",
              "        const docLink = document.createElement('div');\n",
              "        docLink.innerHTML = docLinkHtml;\n",
              "        element.appendChild(docLink);\n",
              "      }\n",
              "    </script>\n",
              "  </div>\n",
              "\n",
              "\n",
              "<div id=\"df-5017d4ff-d965-44d8-b28c-5d3480041dcd\">\n",
              "  <button class=\"colab-df-quickchart\" onclick=\"quickchart('df-5017d4ff-d965-44d8-b28c-5d3480041dcd')\"\n",
              "            title=\"Suggest charts\"\n",
              "            style=\"display:none;\">\n",
              "\n",
              "<svg xmlns=\"http://www.w3.org/2000/svg\" height=\"24px\"viewBox=\"0 0 24 24\"\n",
              "     width=\"24px\">\n",
              "    <g>\n",
              "        <path d=\"M19 3H5c-1.1 0-2 .9-2 2v14c0 1.1.9 2 2 2h14c1.1 0 2-.9 2-2V5c0-1.1-.9-2-2-2zM9 17H7v-7h2v7zm4 0h-2V7h2v10zm4 0h-2v-4h2v4z\"/>\n",
              "    </g>\n",
              "</svg>\n",
              "  </button>\n",
              "\n",
              "<style>\n",
              "  .colab-df-quickchart {\n",
              "      --bg-color: #E8F0FE;\n",
              "      --fill-color: #1967D2;\n",
              "      --hover-bg-color: #E2EBFA;\n",
              "      --hover-fill-color: #174EA6;\n",
              "      --disabled-fill-color: #AAA;\n",
              "      --disabled-bg-color: #DDD;\n",
              "  }\n",
              "\n",
              "  [theme=dark] .colab-df-quickchart {\n",
              "      --bg-color: #3B4455;\n",
              "      --fill-color: #D2E3FC;\n",
              "      --hover-bg-color: #434B5C;\n",
              "      --hover-fill-color: #FFFFFF;\n",
              "      --disabled-bg-color: #3B4455;\n",
              "      --disabled-fill-color: #666;\n",
              "  }\n",
              "\n",
              "  .colab-df-quickchart {\n",
              "    background-color: var(--bg-color);\n",
              "    border: none;\n",
              "    border-radius: 50%;\n",
              "    cursor: pointer;\n",
              "    display: none;\n",
              "    fill: var(--fill-color);\n",
              "    height: 32px;\n",
              "    padding: 0;\n",
              "    width: 32px;\n",
              "  }\n",
              "\n",
              "  .colab-df-quickchart:hover {\n",
              "    background-color: var(--hover-bg-color);\n",
              "    box-shadow: 0 1px 2px rgba(60, 64, 67, 0.3), 0 1px 3px 1px rgba(60, 64, 67, 0.15);\n",
              "    fill: var(--button-hover-fill-color);\n",
              "  }\n",
              "\n",
              "  .colab-df-quickchart-complete:disabled,\n",
              "  .colab-df-quickchart-complete:disabled:hover {\n",
              "    background-color: var(--disabled-bg-color);\n",
              "    fill: var(--disabled-fill-color);\n",
              "    box-shadow: none;\n",
              "  }\n",
              "\n",
              "  .colab-df-spinner {\n",
              "    border: 2px solid var(--fill-color);\n",
              "    border-color: transparent;\n",
              "    border-bottom-color: var(--fill-color);\n",
              "    animation:\n",
              "      spin 1s steps(1) infinite;\n",
              "  }\n",
              "\n",
              "  @keyframes spin {\n",
              "    0% {\n",
              "      border-color: transparent;\n",
              "      border-bottom-color: var(--fill-color);\n",
              "      border-left-color: var(--fill-color);\n",
              "    }\n",
              "    20% {\n",
              "      border-color: transparent;\n",
              "      border-left-color: var(--fill-color);\n",
              "      border-top-color: var(--fill-color);\n",
              "    }\n",
              "    30% {\n",
              "      border-color: transparent;\n",
              "      border-left-color: var(--fill-color);\n",
              "      border-top-color: var(--fill-color);\n",
              "      border-right-color: var(--fill-color);\n",
              "    }\n",
              "    40% {\n",
              "      border-color: transparent;\n",
              "      border-right-color: var(--fill-color);\n",
              "      border-top-color: var(--fill-color);\n",
              "    }\n",
              "    60% {\n",
              "      border-color: transparent;\n",
              "      border-right-color: var(--fill-color);\n",
              "    }\n",
              "    80% {\n",
              "      border-color: transparent;\n",
              "      border-right-color: var(--fill-color);\n",
              "      border-bottom-color: var(--fill-color);\n",
              "    }\n",
              "    90% {\n",
              "      border-color: transparent;\n",
              "      border-bottom-color: var(--fill-color);\n",
              "    }\n",
              "  }\n",
              "</style>\n",
              "\n",
              "  <script>\n",
              "    async function quickchart(key) {\n",
              "      const quickchartButtonEl =\n",
              "        document.querySelector('#' + key + ' button');\n",
              "      quickchartButtonEl.disabled = true;  // To prevent multiple clicks.\n",
              "      quickchartButtonEl.classList.add('colab-df-spinner');\n",
              "      try {\n",
              "        const charts = await google.colab.kernel.invokeFunction(\n",
              "            'suggestCharts', [key], {});\n",
              "      } catch (error) {\n",
              "        console.error('Error during call to suggestCharts:', error);\n",
              "      }\n",
              "      quickchartButtonEl.classList.remove('colab-df-spinner');\n",
              "      quickchartButtonEl.classList.add('colab-df-quickchart-complete');\n",
              "    }\n",
              "    (() => {\n",
              "      let quickchartButtonEl =\n",
              "        document.querySelector('#df-5017d4ff-d965-44d8-b28c-5d3480041dcd button');\n",
              "      quickchartButtonEl.style.display =\n",
              "        google.colab.kernel.accessAllowed ? 'block' : 'none';\n",
              "    })();\n",
              "  </script>\n",
              "</div>\n",
              "\n",
              "    </div>\n",
              "  </div>\n"
            ],
            "application/vnd.google.colaboratory.intrinsic+json": {
              "type": "dataframe",
              "variable_name": "data",
              "summary": "{\n  \"name\": \"data\",\n  \"rows\": 48894,\n  \"fields\": [\n    {\n      \"column\": \"id\",\n      \"properties\": {\n        \"dtype\": \"number\",\n        \"std\": 10982884,\n        \"min\": 2595,\n        \"max\": 36487245,\n        \"samples\": [\n          318021,\n          35729594,\n          12342441\n        ],\n        \"num_unique_values\": 48894,\n        \"semantic_type\": \"\",\n        \"description\": \"\"\n      }\n    },\n    {\n      \"column\": \"nome\",\n      \"properties\": {\n        \"dtype\": \"string\",\n        \"samples\": [\n          \"Luxurious Penthouse 3bed/2bath Apt w/Gym, Doorman\",\n          \"Bright Room in Williamsburg\",\n          \"Manhattan apt in the best part of NYC\"\n        ],\n        \"num_unique_values\": 47904,\n        \"semantic_type\": \"\",\n        \"description\": \"\"\n      }\n    },\n    {\n      \"column\": \"host_id\",\n      \"properties\": {\n        \"dtype\": \"number\",\n        \"std\": 78611176,\n        \"min\": 2438,\n        \"max\": 274321313,\n        \"samples\": [\n          15355526,\n          5592151,\n          208938947\n        ],\n        \"num_unique_values\": 37457,\n        \"semantic_type\": \"\",\n        \"description\": \"\"\n      }\n    },\n    {\n      \"column\": \"host_name\",\n      \"properties\": {\n        \"dtype\": \"category\",\n        \"samples\": [\n          \"Eki\",\n          \"Laine\",\n          \"Elen\"\n        ],\n        \"num_unique_values\": 11452,\n        \"semantic_type\": \"\",\n        \"description\": \"\"\n      }\n    },\n    {\n      \"column\": \"bairro_group\",\n      \"properties\": {\n        \"dtype\": \"category\",\n        \"samples\": [\n          \"Brooklyn\",\n          \"Bronx\",\n          \"Queens\"\n        ],\n        \"num_unique_values\": 5,\n        \"semantic_type\": \"\",\n        \"description\": \"\"\n      }\n    },\n    {\n      \"column\": \"bairro\",\n      \"properties\": {\n        \"dtype\": \"category\",\n        \"samples\": [\n          \"Stuyvesant Town\",\n          \"Eltingville\",\n          \"Stapleton\"\n        ],\n        \"num_unique_values\": 221,\n        \"semantic_type\": \"\",\n        \"description\": \"\"\n      }\n    },\n    {\n      \"column\": \"latitude\",\n      \"properties\": {\n        \"dtype\": \"number\",\n        \"std\": 0.05452939126301221,\n        \"min\": 40.49979,\n        \"max\": 40.91306,\n        \"samples\": [\n          40.58633,\n          40.75961,\n          40.82243\n        ],\n        \"num_unique_values\": 19048,\n        \"semantic_type\": \"\",\n        \"description\": \"\"\n      }\n    },\n    {\n      \"column\": \"longitude\",\n      \"properties\": {\n        \"dtype\": \"number\",\n        \"std\": 0.04615711771264084,\n        \"min\": -74.24442,\n        \"max\": -73.71299,\n        \"samples\": [\n          -73.88892,\n          -73.87851,\n          -73.97175\n        ],\n        \"num_unique_values\": 14718,\n        \"semantic_type\": \"\",\n        \"description\": \"\"\n      }\n    },\n    {\n      \"column\": \"room_type\",\n      \"properties\": {\n        \"dtype\": \"category\",\n        \"samples\": [\n          \"Entire home/apt\",\n          \"Private room\",\n          \"Shared room\"\n        ],\n        \"num_unique_values\": 3,\n        \"semantic_type\": \"\",\n        \"description\": \"\"\n      }\n    },\n    {\n      \"column\": \"price\",\n      \"properties\": {\n        \"dtype\": \"number\",\n        \"std\": 240,\n        \"min\": 0,\n        \"max\": 10000,\n        \"samples\": [\n          519,\n          675,\n          488\n        ],\n        \"num_unique_values\": 674,\n        \"semantic_type\": \"\",\n        \"description\": \"\"\n      }\n    },\n    {\n      \"column\": \"minimo_noites\",\n      \"properties\": {\n        \"dtype\": \"number\",\n        \"std\": 20,\n        \"min\": 1,\n        \"max\": 1250,\n        \"samples\": [\n          160,\n          60,\n          2\n        ],\n        \"num_unique_values\": 109,\n        \"semantic_type\": \"\",\n        \"description\": \"\"\n      }\n    },\n    {\n      \"column\": \"numero_de_reviews\",\n      \"properties\": {\n        \"dtype\": \"number\",\n        \"std\": 44,\n        \"min\": 0,\n        \"max\": 629,\n        \"samples\": [\n          12,\n          144,\n          314\n        ],\n        \"num_unique_values\": 394,\n        \"semantic_type\": \"\",\n        \"description\": \"\"\n      }\n    },\n    {\n      \"column\": \"ultima_review\",\n      \"properties\": {\n        \"dtype\": \"object\",\n        \"min\": \"2011-03-28 00:00:00\",\n        \"max\": \"2019-07-08 00:00:00\",\n        \"samples\": [\n          \"2018-05-17\",\n          \"2017-06-18\",\n          \"2019-02-27\"\n        ],\n        \"num_unique_values\": 1764,\n        \"semantic_type\": \"\",\n        \"description\": \"\"\n      }\n    },\n    {\n      \"column\": \"reviews_por_mes\",\n      \"properties\": {\n        \"dtype\": \"number\",\n        \"std\": 1.6804532620154509,\n        \"min\": 0.01,\n        \"max\": 58.5,\n        \"samples\": [\n          1.7,\n          3.4,\n          2.14\n        ],\n        \"num_unique_values\": 937,\n        \"semantic_type\": \"\",\n        \"description\": \"\"\n      }\n    },\n    {\n      \"column\": \"calculado_host_listings_count\",\n      \"properties\": {\n        \"dtype\": \"number\",\n        \"std\": 32,\n        \"min\": 1,\n        \"max\": 327,\n        \"samples\": [\n          37,\n          17,\n          121\n        ],\n        \"num_unique_values\": 47,\n        \"semantic_type\": \"\",\n        \"description\": \"\"\n      }\n    },\n    {\n      \"column\": \"disponibilidade_365\",\n      \"properties\": {\n        \"dtype\": \"number\",\n        \"std\": 131,\n        \"min\": 0,\n        \"max\": 365,\n        \"samples\": [\n          335,\n          309,\n          249\n        ],\n        \"num_unique_values\": 366,\n        \"semantic_type\": \"\",\n        \"description\": \"\"\n      }\n    }\n  ]\n}"
            }
          },
          "metadata": {},
          "execution_count": 6
        }
      ]
    },
    {
      "cell_type": "code",
      "source": [
        "data.count()"
      ],
      "metadata": {
        "colab": {
          "base_uri": "https://localhost:8080/"
        },
        "id": "R37D7XF1bsyH",
        "outputId": "f9376279-5b73-46e2-c94e-45b902076980"
      },
      "execution_count": 7,
      "outputs": [
        {
          "output_type": "execute_result",
          "data": {
            "text/plain": [
              "id                               48894\n",
              "nome                             48878\n",
              "host_id                          48894\n",
              "host_name                        48873\n",
              "bairro_group                     48894\n",
              "bairro                           48894\n",
              "latitude                         48894\n",
              "longitude                        48894\n",
              "room_type                        48894\n",
              "price                            48894\n",
              "minimo_noites                    48894\n",
              "numero_de_reviews                48894\n",
              "ultima_review                    38842\n",
              "reviews_por_mes                  38842\n",
              "calculado_host_listings_count    48894\n",
              "disponibilidade_365              48894\n",
              "dtype: int64"
            ]
          },
          "metadata": {},
          "execution_count": 7
        }
      ]
    },
    {
      "cell_type": "code",
      "source": [
        "data.info()"
      ],
      "metadata": {
        "colab": {
          "base_uri": "https://localhost:8080/"
        },
        "id": "x1mLot94uhXO",
        "outputId": "5dcfff5c-f4fa-456d-b603-d20bda641827"
      },
      "execution_count": 8,
      "outputs": [
        {
          "output_type": "stream",
          "name": "stdout",
          "text": [
            "<class 'pandas.core.frame.DataFrame'>\n",
            "RangeIndex: 48894 entries, 0 to 48893\n",
            "Data columns (total 16 columns):\n",
            " #   Column                         Non-Null Count  Dtype  \n",
            "---  ------                         --------------  -----  \n",
            " 0   id                             48894 non-null  int64  \n",
            " 1   nome                           48878 non-null  object \n",
            " 2   host_id                        48894 non-null  int64  \n",
            " 3   host_name                      48873 non-null  object \n",
            " 4   bairro_group                   48894 non-null  object \n",
            " 5   bairro                         48894 non-null  object \n",
            " 6   latitude                       48894 non-null  float64\n",
            " 7   longitude                      48894 non-null  float64\n",
            " 8   room_type                      48894 non-null  object \n",
            " 9   price                          48894 non-null  int64  \n",
            " 10  minimo_noites                  48894 non-null  int64  \n",
            " 11  numero_de_reviews              48894 non-null  int64  \n",
            " 12  ultima_review                  38842 non-null  object \n",
            " 13  reviews_por_mes                38842 non-null  float64\n",
            " 14  calculado_host_listings_count  48894 non-null  int64  \n",
            " 15  disponibilidade_365            48894 non-null  int64  \n",
            "dtypes: float64(3), int64(7), object(6)\n",
            "memory usage: 6.0+ MB\n"
          ]
        }
      ]
    },
    {
      "cell_type": "markdown",
      "source": [
        "### visualização das variáveis categóricas e numéricas"
      ],
      "metadata": {
        "id": "rx73kz5uMRCL"
      }
    },
    {
      "cell_type": "code",
      "source": [
        "# Frequência da ocorrência dos nomes dos diferentes locais para aluguel\n",
        "frequencia_nome_local = data['nome'].value_counts()\n",
        "\n",
        "frequencia_nome_local\n",
        "\n"
      ],
      "metadata": {
        "colab": {
          "base_uri": "https://localhost:8080/"
        },
        "id": "UfuBIv1UMW2J",
        "outputId": "126c4b44-7b3a-464d-ab0d-c8475d563dfa"
      },
      "execution_count": 9,
      "outputs": [
        {
          "output_type": "execute_result",
          "data": {
            "text/plain": [
              "Hillside Hotel                                        18\n",
              "Home away from home                                   17\n",
              "New york Multi-unit building                          16\n",
              "Brooklyn Apartment                                    12\n",
              "Loft Suite @ The Box House Hotel                      11\n",
              "                                                      ..\n",
              "Feel at Home                                           1\n",
              "Spacious Modern Alcove Studio in a Luxury Building     1\n",
              "Artist's Room in Large Apartment                       1\n",
              "Modern Oasis in Central Park Slope                     1\n",
              "Trendy duplex in the very heart of Hell's Kitchen      1\n",
              "Name: nome, Length: 47904, dtype: int64"
            ]
          },
          "metadata": {},
          "execution_count": 9
        }
      ]
    },
    {
      "cell_type": "code",
      "source": [
        "frequencia_nome_local = data['nome'].value_counts()\n",
        "\n",
        "frequencia_nome_local"
      ],
      "metadata": {
        "colab": {
          "base_uri": "https://localhost:8080/"
        },
        "id": "IDHIMkivVjOF",
        "outputId": "b146f388-a18b-48cc-dc4a-b0dcae20cd20"
      },
      "execution_count": 10,
      "outputs": [
        {
          "output_type": "execute_result",
          "data": {
            "text/plain": [
              "Hillside Hotel                                        18\n",
              "Home away from home                                   17\n",
              "New york Multi-unit building                          16\n",
              "Brooklyn Apartment                                    12\n",
              "Loft Suite @ The Box House Hotel                      11\n",
              "                                                      ..\n",
              "Feel at Home                                           1\n",
              "Spacious Modern Alcove Studio in a Luxury Building     1\n",
              "Artist's Room in Large Apartment                       1\n",
              "Modern Oasis in Central Park Slope                     1\n",
              "Trendy duplex in the very heart of Hell's Kitchen      1\n",
              "Name: nome, Length: 47904, dtype: int64"
            ]
          },
          "metadata": {},
          "execution_count": 10
        }
      ]
    },
    {
      "cell_type": "code",
      "source": [
        "valor = len(data['nome'])\n",
        "\n",
        "print(valor)\n",
        "\n",
        "total_nomes_unicos = len(frequencia_nome_local)\n",
        "\n",
        "print(\"Nomes de locais únicos :\",total_nomes_unicos )"
      ],
      "metadata": {
        "colab": {
          "base_uri": "https://localhost:8080/"
        },
        "id": "ygjOoRLlMnKb",
        "outputId": "68868ca0-8f2d-4d97-fb0e-059dcc58c4af"
      },
      "execution_count": 11,
      "outputs": [
        {
          "output_type": "stream",
          "name": "stdout",
          "text": [
            "48894\n",
            "Nomes de locais únicos : 47904\n"
          ]
        }
      ]
    },
    {
      "cell_type": "code",
      "source": [
        "minimo = data['minimo_noites'] >= 400"
      ],
      "metadata": {
        "id": "6svFMpkHKMLd"
      },
      "execution_count": 12,
      "outputs": []
    },
    {
      "cell_type": "code",
      "source": [
        "minimo"
      ],
      "metadata": {
        "colab": {
          "base_uri": "https://localhost:8080/"
        },
        "id": "0nVaDLYQKeWR",
        "outputId": "a53a3341-4823-47c5-bb48-ac0b7f916a38"
      },
      "execution_count": 13,
      "outputs": [
        {
          "output_type": "execute_result",
          "data": {
            "text/plain": [
              "0        False\n",
              "1        False\n",
              "2        False\n",
              "3        False\n",
              "4        False\n",
              "         ...  \n",
              "48889    False\n",
              "48890    False\n",
              "48891    False\n",
              "48892    False\n",
              "48893    False\n",
              "Name: minimo_noites, Length: 48894, dtype: bool"
            ]
          },
          "metadata": {},
          "execution_count": 13
        }
      ]
    },
    {
      "cell_type": "markdown",
      "source": [
        "### dados faltantes/duplos"
      ],
      "metadata": {
        "id": "IQrhaVoXMJ0e"
      }
    },
    {
      "cell_type": "code",
      "source": [
        "valores_faltantes = data.isna().sum()\n",
        "valores_faltantes"
      ],
      "metadata": {
        "colab": {
          "base_uri": "https://localhost:8080/"
        },
        "id": "zON1SVYZcBJU",
        "outputId": "fac7e0d4-fd32-43e6-b2f7-12a9d798d199"
      },
      "execution_count": 14,
      "outputs": [
        {
          "output_type": "execute_result",
          "data": {
            "text/plain": [
              "id                                   0\n",
              "nome                                16\n",
              "host_id                              0\n",
              "host_name                           21\n",
              "bairro_group                         0\n",
              "bairro                               0\n",
              "latitude                             0\n",
              "longitude                            0\n",
              "room_type                            0\n",
              "price                                0\n",
              "minimo_noites                        0\n",
              "numero_de_reviews                    0\n",
              "ultima_review                    10052\n",
              "reviews_por_mes                  10052\n",
              "calculado_host_listings_count        0\n",
              "disponibilidade_365                  0\n",
              "dtype: int64"
            ]
          },
          "metadata": {},
          "execution_count": 14
        }
      ]
    },
    {
      "cell_type": "code",
      "source": [
        " data.drop(['id', 'host_name','host_id','nome'], axis=1, inplace=True)"
      ],
      "metadata": {
        "id": "lh4FDho-r7bK"
      },
      "execution_count": 15,
      "outputs": []
    },
    {
      "cell_type": "code",
      "source": [
        "data = data.rename(columns={'bairro_group': 'bairro_grupo', 'room_type': 'tipo_quarto', 'price': 'preco', 'numero_de_reviews': 'numero_avaliacoes','calculado_host_listings_count':'contagem_listas_hosts'})"
      ],
      "metadata": {
        "id": "ngiBjkc9sWts"
      },
      "execution_count": 16,
      "outputs": []
    },
    {
      "cell_type": "code",
      "source": [
        "data.head()"
      ],
      "metadata": {
        "colab": {
          "base_uri": "https://localhost:8080/",
          "height": 295
        },
        "id": "jAn-3q-esRya",
        "outputId": "64a63d47-4c07-4add-a923-0049018dcdb7"
      },
      "execution_count": 17,
      "outputs": [
        {
          "output_type": "execute_result",
          "data": {
            "text/plain": [
              "  bairro_grupo        bairro  latitude  longitude      tipo_quarto  preco  \\\n",
              "0    Manhattan       Midtown  40.75362  -73.98377  Entire home/apt    225   \n",
              "1    Manhattan        Harlem  40.80902  -73.94190     Private room    150   \n",
              "2     Brooklyn  Clinton Hill  40.68514  -73.95976  Entire home/apt     89   \n",
              "3    Manhattan   East Harlem  40.79851  -73.94399  Entire home/apt     80   \n",
              "4    Manhattan   Murray Hill  40.74767  -73.97500  Entire home/apt    200   \n",
              "\n",
              "   minimo_noites  numero_avaliacoes ultima_review  reviews_por_mes  \\\n",
              "0              1                 45    2019-05-21             0.38   \n",
              "1              3                  0           NaN              NaN   \n",
              "2              1                270    2019-07-05             4.64   \n",
              "3             10                  9    2018-11-19             0.10   \n",
              "4              3                 74    2019-06-22             0.59   \n",
              "\n",
              "   contagem_listas_hosts  disponibilidade_365  \n",
              "0                      2                  355  \n",
              "1                      1                  365  \n",
              "2                      1                  194  \n",
              "3                      1                    0  \n",
              "4                      1                  129  "
            ],
            "text/html": [
              "\n",
              "  <div id=\"df-00691e0e-6d03-4a80-ad9f-b7b5d0080a35\" class=\"colab-df-container\">\n",
              "    <div>\n",
              "<style scoped>\n",
              "    .dataframe tbody tr th:only-of-type {\n",
              "        vertical-align: middle;\n",
              "    }\n",
              "\n",
              "    .dataframe tbody tr th {\n",
              "        vertical-align: top;\n",
              "    }\n",
              "\n",
              "    .dataframe thead th {\n",
              "        text-align: right;\n",
              "    }\n",
              "</style>\n",
              "<table border=\"1\" class=\"dataframe\">\n",
              "  <thead>\n",
              "    <tr style=\"text-align: right;\">\n",
              "      <th></th>\n",
              "      <th>bairro_grupo</th>\n",
              "      <th>bairro</th>\n",
              "      <th>latitude</th>\n",
              "      <th>longitude</th>\n",
              "      <th>tipo_quarto</th>\n",
              "      <th>preco</th>\n",
              "      <th>minimo_noites</th>\n",
              "      <th>numero_avaliacoes</th>\n",
              "      <th>ultima_review</th>\n",
              "      <th>reviews_por_mes</th>\n",
              "      <th>contagem_listas_hosts</th>\n",
              "      <th>disponibilidade_365</th>\n",
              "    </tr>\n",
              "  </thead>\n",
              "  <tbody>\n",
              "    <tr>\n",
              "      <th>0</th>\n",
              "      <td>Manhattan</td>\n",
              "      <td>Midtown</td>\n",
              "      <td>40.75362</td>\n",
              "      <td>-73.98377</td>\n",
              "      <td>Entire home/apt</td>\n",
              "      <td>225</td>\n",
              "      <td>1</td>\n",
              "      <td>45</td>\n",
              "      <td>2019-05-21</td>\n",
              "      <td>0.38</td>\n",
              "      <td>2</td>\n",
              "      <td>355</td>\n",
              "    </tr>\n",
              "    <tr>\n",
              "      <th>1</th>\n",
              "      <td>Manhattan</td>\n",
              "      <td>Harlem</td>\n",
              "      <td>40.80902</td>\n",
              "      <td>-73.94190</td>\n",
              "      <td>Private room</td>\n",
              "      <td>150</td>\n",
              "      <td>3</td>\n",
              "      <td>0</td>\n",
              "      <td>NaN</td>\n",
              "      <td>NaN</td>\n",
              "      <td>1</td>\n",
              "      <td>365</td>\n",
              "    </tr>\n",
              "    <tr>\n",
              "      <th>2</th>\n",
              "      <td>Brooklyn</td>\n",
              "      <td>Clinton Hill</td>\n",
              "      <td>40.68514</td>\n",
              "      <td>-73.95976</td>\n",
              "      <td>Entire home/apt</td>\n",
              "      <td>89</td>\n",
              "      <td>1</td>\n",
              "      <td>270</td>\n",
              "      <td>2019-07-05</td>\n",
              "      <td>4.64</td>\n",
              "      <td>1</td>\n",
              "      <td>194</td>\n",
              "    </tr>\n",
              "    <tr>\n",
              "      <th>3</th>\n",
              "      <td>Manhattan</td>\n",
              "      <td>East Harlem</td>\n",
              "      <td>40.79851</td>\n",
              "      <td>-73.94399</td>\n",
              "      <td>Entire home/apt</td>\n",
              "      <td>80</td>\n",
              "      <td>10</td>\n",
              "      <td>9</td>\n",
              "      <td>2018-11-19</td>\n",
              "      <td>0.10</td>\n",
              "      <td>1</td>\n",
              "      <td>0</td>\n",
              "    </tr>\n",
              "    <tr>\n",
              "      <th>4</th>\n",
              "      <td>Manhattan</td>\n",
              "      <td>Murray Hill</td>\n",
              "      <td>40.74767</td>\n",
              "      <td>-73.97500</td>\n",
              "      <td>Entire home/apt</td>\n",
              "      <td>200</td>\n",
              "      <td>3</td>\n",
              "      <td>74</td>\n",
              "      <td>2019-06-22</td>\n",
              "      <td>0.59</td>\n",
              "      <td>1</td>\n",
              "      <td>129</td>\n",
              "    </tr>\n",
              "  </tbody>\n",
              "</table>\n",
              "</div>\n",
              "    <div class=\"colab-df-buttons\">\n",
              "\n",
              "  <div class=\"colab-df-container\">\n",
              "    <button class=\"colab-df-convert\" onclick=\"convertToInteractive('df-00691e0e-6d03-4a80-ad9f-b7b5d0080a35')\"\n",
              "            title=\"Convert this dataframe to an interactive table.\"\n",
              "            style=\"display:none;\">\n",
              "\n",
              "  <svg xmlns=\"http://www.w3.org/2000/svg\" height=\"24px\" viewBox=\"0 -960 960 960\">\n",
              "    <path d=\"M120-120v-720h720v720H120Zm60-500h600v-160H180v160Zm220 220h160v-160H400v160Zm0 220h160v-160H400v160ZM180-400h160v-160H180v160Zm440 0h160v-160H620v160ZM180-180h160v-160H180v160Zm440 0h160v-160H620v160Z\"/>\n",
              "  </svg>\n",
              "    </button>\n",
              "\n",
              "  <style>\n",
              "    .colab-df-container {\n",
              "      display:flex;\n",
              "      gap: 12px;\n",
              "    }\n",
              "\n",
              "    .colab-df-convert {\n",
              "      background-color: #E8F0FE;\n",
              "      border: none;\n",
              "      border-radius: 50%;\n",
              "      cursor: pointer;\n",
              "      display: none;\n",
              "      fill: #1967D2;\n",
              "      height: 32px;\n",
              "      padding: 0 0 0 0;\n",
              "      width: 32px;\n",
              "    }\n",
              "\n",
              "    .colab-df-convert:hover {\n",
              "      background-color: #E2EBFA;\n",
              "      box-shadow: 0px 1px 2px rgba(60, 64, 67, 0.3), 0px 1px 3px 1px rgba(60, 64, 67, 0.15);\n",
              "      fill: #174EA6;\n",
              "    }\n",
              "\n",
              "    .colab-df-buttons div {\n",
              "      margin-bottom: 4px;\n",
              "    }\n",
              "\n",
              "    [theme=dark] .colab-df-convert {\n",
              "      background-color: #3B4455;\n",
              "      fill: #D2E3FC;\n",
              "    }\n",
              "\n",
              "    [theme=dark] .colab-df-convert:hover {\n",
              "      background-color: #434B5C;\n",
              "      box-shadow: 0px 1px 3px 1px rgba(0, 0, 0, 0.15);\n",
              "      filter: drop-shadow(0px 1px 2px rgba(0, 0, 0, 0.3));\n",
              "      fill: #FFFFFF;\n",
              "    }\n",
              "  </style>\n",
              "\n",
              "    <script>\n",
              "      const buttonEl =\n",
              "        document.querySelector('#df-00691e0e-6d03-4a80-ad9f-b7b5d0080a35 button.colab-df-convert');\n",
              "      buttonEl.style.display =\n",
              "        google.colab.kernel.accessAllowed ? 'block' : 'none';\n",
              "\n",
              "      async function convertToInteractive(key) {\n",
              "        const element = document.querySelector('#df-00691e0e-6d03-4a80-ad9f-b7b5d0080a35');\n",
              "        const dataTable =\n",
              "          await google.colab.kernel.invokeFunction('convertToInteractive',\n",
              "                                                    [key], {});\n",
              "        if (!dataTable) return;\n",
              "\n",
              "        const docLinkHtml = 'Like what you see? Visit the ' +\n",
              "          '<a target=\"_blank\" href=https://colab.research.google.com/notebooks/data_table.ipynb>data table notebook</a>'\n",
              "          + ' to learn more about interactive tables.';\n",
              "        element.innerHTML = '';\n",
              "        dataTable['output_type'] = 'display_data';\n",
              "        await google.colab.output.renderOutput(dataTable, element);\n",
              "        const docLink = document.createElement('div');\n",
              "        docLink.innerHTML = docLinkHtml;\n",
              "        element.appendChild(docLink);\n",
              "      }\n",
              "    </script>\n",
              "  </div>\n",
              "\n",
              "\n",
              "<div id=\"df-c38c7696-f3f0-411c-8987-b5bc07728c83\">\n",
              "  <button class=\"colab-df-quickchart\" onclick=\"quickchart('df-c38c7696-f3f0-411c-8987-b5bc07728c83')\"\n",
              "            title=\"Suggest charts\"\n",
              "            style=\"display:none;\">\n",
              "\n",
              "<svg xmlns=\"http://www.w3.org/2000/svg\" height=\"24px\"viewBox=\"0 0 24 24\"\n",
              "     width=\"24px\">\n",
              "    <g>\n",
              "        <path d=\"M19 3H5c-1.1 0-2 .9-2 2v14c0 1.1.9 2 2 2h14c1.1 0 2-.9 2-2V5c0-1.1-.9-2-2-2zM9 17H7v-7h2v7zm4 0h-2V7h2v10zm4 0h-2v-4h2v4z\"/>\n",
              "    </g>\n",
              "</svg>\n",
              "  </button>\n",
              "\n",
              "<style>\n",
              "  .colab-df-quickchart {\n",
              "      --bg-color: #E8F0FE;\n",
              "      --fill-color: #1967D2;\n",
              "      --hover-bg-color: #E2EBFA;\n",
              "      --hover-fill-color: #174EA6;\n",
              "      --disabled-fill-color: #AAA;\n",
              "      --disabled-bg-color: #DDD;\n",
              "  }\n",
              "\n",
              "  [theme=dark] .colab-df-quickchart {\n",
              "      --bg-color: #3B4455;\n",
              "      --fill-color: #D2E3FC;\n",
              "      --hover-bg-color: #434B5C;\n",
              "      --hover-fill-color: #FFFFFF;\n",
              "      --disabled-bg-color: #3B4455;\n",
              "      --disabled-fill-color: #666;\n",
              "  }\n",
              "\n",
              "  .colab-df-quickchart {\n",
              "    background-color: var(--bg-color);\n",
              "    border: none;\n",
              "    border-radius: 50%;\n",
              "    cursor: pointer;\n",
              "    display: none;\n",
              "    fill: var(--fill-color);\n",
              "    height: 32px;\n",
              "    padding: 0;\n",
              "    width: 32px;\n",
              "  }\n",
              "\n",
              "  .colab-df-quickchart:hover {\n",
              "    background-color: var(--hover-bg-color);\n",
              "    box-shadow: 0 1px 2px rgba(60, 64, 67, 0.3), 0 1px 3px 1px rgba(60, 64, 67, 0.15);\n",
              "    fill: var(--button-hover-fill-color);\n",
              "  }\n",
              "\n",
              "  .colab-df-quickchart-complete:disabled,\n",
              "  .colab-df-quickchart-complete:disabled:hover {\n",
              "    background-color: var(--disabled-bg-color);\n",
              "    fill: var(--disabled-fill-color);\n",
              "    box-shadow: none;\n",
              "  }\n",
              "\n",
              "  .colab-df-spinner {\n",
              "    border: 2px solid var(--fill-color);\n",
              "    border-color: transparent;\n",
              "    border-bottom-color: var(--fill-color);\n",
              "    animation:\n",
              "      spin 1s steps(1) infinite;\n",
              "  }\n",
              "\n",
              "  @keyframes spin {\n",
              "    0% {\n",
              "      border-color: transparent;\n",
              "      border-bottom-color: var(--fill-color);\n",
              "      border-left-color: var(--fill-color);\n",
              "    }\n",
              "    20% {\n",
              "      border-color: transparent;\n",
              "      border-left-color: var(--fill-color);\n",
              "      border-top-color: var(--fill-color);\n",
              "    }\n",
              "    30% {\n",
              "      border-color: transparent;\n",
              "      border-left-color: var(--fill-color);\n",
              "      border-top-color: var(--fill-color);\n",
              "      border-right-color: var(--fill-color);\n",
              "    }\n",
              "    40% {\n",
              "      border-color: transparent;\n",
              "      border-right-color: var(--fill-color);\n",
              "      border-top-color: var(--fill-color);\n",
              "    }\n",
              "    60% {\n",
              "      border-color: transparent;\n",
              "      border-right-color: var(--fill-color);\n",
              "    }\n",
              "    80% {\n",
              "      border-color: transparent;\n",
              "      border-right-color: var(--fill-color);\n",
              "      border-bottom-color: var(--fill-color);\n",
              "    }\n",
              "    90% {\n",
              "      border-color: transparent;\n",
              "      border-bottom-color: var(--fill-color);\n",
              "    }\n",
              "  }\n",
              "</style>\n",
              "\n",
              "  <script>\n",
              "    async function quickchart(key) {\n",
              "      const quickchartButtonEl =\n",
              "        document.querySelector('#' + key + ' button');\n",
              "      quickchartButtonEl.disabled = true;  // To prevent multiple clicks.\n",
              "      quickchartButtonEl.classList.add('colab-df-spinner');\n",
              "      try {\n",
              "        const charts = await google.colab.kernel.invokeFunction(\n",
              "            'suggestCharts', [key], {});\n",
              "      } catch (error) {\n",
              "        console.error('Error during call to suggestCharts:', error);\n",
              "      }\n",
              "      quickchartButtonEl.classList.remove('colab-df-spinner');\n",
              "      quickchartButtonEl.classList.add('colab-df-quickchart-complete');\n",
              "    }\n",
              "    (() => {\n",
              "      let quickchartButtonEl =\n",
              "        document.querySelector('#df-c38c7696-f3f0-411c-8987-b5bc07728c83 button');\n",
              "      quickchartButtonEl.style.display =\n",
              "        google.colab.kernel.accessAllowed ? 'block' : 'none';\n",
              "    })();\n",
              "  </script>\n",
              "</div>\n",
              "\n",
              "    </div>\n",
              "  </div>\n"
            ],
            "application/vnd.google.colaboratory.intrinsic+json": {
              "type": "dataframe",
              "variable_name": "data",
              "summary": "{\n  \"name\": \"data\",\n  \"rows\": 48894,\n  \"fields\": [\n    {\n      \"column\": \"bairro_grupo\",\n      \"properties\": {\n        \"dtype\": \"category\",\n        \"samples\": [\n          \"Brooklyn\",\n          \"Bronx\",\n          \"Queens\"\n        ],\n        \"num_unique_values\": 5,\n        \"semantic_type\": \"\",\n        \"description\": \"\"\n      }\n    },\n    {\n      \"column\": \"bairro\",\n      \"properties\": {\n        \"dtype\": \"category\",\n        \"samples\": [\n          \"Stuyvesant Town\",\n          \"Eltingville\",\n          \"Stapleton\"\n        ],\n        \"num_unique_values\": 221,\n        \"semantic_type\": \"\",\n        \"description\": \"\"\n      }\n    },\n    {\n      \"column\": \"latitude\",\n      \"properties\": {\n        \"dtype\": \"number\",\n        \"std\": 0.05452939126301221,\n        \"min\": 40.49979,\n        \"max\": 40.91306,\n        \"samples\": [\n          40.58633,\n          40.75961,\n          40.82243\n        ],\n        \"num_unique_values\": 19048,\n        \"semantic_type\": \"\",\n        \"description\": \"\"\n      }\n    },\n    {\n      \"column\": \"longitude\",\n      \"properties\": {\n        \"dtype\": \"number\",\n        \"std\": 0.04615711771264084,\n        \"min\": -74.24442,\n        \"max\": -73.71299,\n        \"samples\": [\n          -73.88892,\n          -73.87851,\n          -73.97175\n        ],\n        \"num_unique_values\": 14718,\n        \"semantic_type\": \"\",\n        \"description\": \"\"\n      }\n    },\n    {\n      \"column\": \"tipo_quarto\",\n      \"properties\": {\n        \"dtype\": \"category\",\n        \"samples\": [\n          \"Entire home/apt\",\n          \"Private room\",\n          \"Shared room\"\n        ],\n        \"num_unique_values\": 3,\n        \"semantic_type\": \"\",\n        \"description\": \"\"\n      }\n    },\n    {\n      \"column\": \"preco\",\n      \"properties\": {\n        \"dtype\": \"number\",\n        \"std\": 240,\n        \"min\": 0,\n        \"max\": 10000,\n        \"samples\": [\n          519,\n          675,\n          488\n        ],\n        \"num_unique_values\": 674,\n        \"semantic_type\": \"\",\n        \"description\": \"\"\n      }\n    },\n    {\n      \"column\": \"minimo_noites\",\n      \"properties\": {\n        \"dtype\": \"number\",\n        \"std\": 20,\n        \"min\": 1,\n        \"max\": 1250,\n        \"samples\": [\n          160,\n          60,\n          2\n        ],\n        \"num_unique_values\": 109,\n        \"semantic_type\": \"\",\n        \"description\": \"\"\n      }\n    },\n    {\n      \"column\": \"numero_avaliacoes\",\n      \"properties\": {\n        \"dtype\": \"number\",\n        \"std\": 44,\n        \"min\": 0,\n        \"max\": 629,\n        \"samples\": [\n          12,\n          144,\n          314\n        ],\n        \"num_unique_values\": 394,\n        \"semantic_type\": \"\",\n        \"description\": \"\"\n      }\n    },\n    {\n      \"column\": \"ultima_review\",\n      \"properties\": {\n        \"dtype\": \"object\",\n        \"min\": \"2011-03-28 00:00:00\",\n        \"max\": \"2019-07-08 00:00:00\",\n        \"samples\": [\n          \"2018-05-17\",\n          \"2017-06-18\",\n          \"2019-02-27\"\n        ],\n        \"num_unique_values\": 1764,\n        \"semantic_type\": \"\",\n        \"description\": \"\"\n      }\n    },\n    {\n      \"column\": \"reviews_por_mes\",\n      \"properties\": {\n        \"dtype\": \"number\",\n        \"std\": 1.6804532620154509,\n        \"min\": 0.01,\n        \"max\": 58.5,\n        \"samples\": [\n          1.7,\n          3.4,\n          2.14\n        ],\n        \"num_unique_values\": 937,\n        \"semantic_type\": \"\",\n        \"description\": \"\"\n      }\n    },\n    {\n      \"column\": \"contagem_listas_hosts\",\n      \"properties\": {\n        \"dtype\": \"number\",\n        \"std\": 32,\n        \"min\": 1,\n        \"max\": 327,\n        \"samples\": [\n          37,\n          17,\n          121\n        ],\n        \"num_unique_values\": 47,\n        \"semantic_type\": \"\",\n        \"description\": \"\"\n      }\n    },\n    {\n      \"column\": \"disponibilidade_365\",\n      \"properties\": {\n        \"dtype\": \"number\",\n        \"std\": 131,\n        \"min\": 0,\n        \"max\": 365,\n        \"samples\": [\n          335,\n          309,\n          249\n        ],\n        \"num_unique_values\": 366,\n        \"semantic_type\": \"\",\n        \"description\": \"\"\n      }\n    }\n  ]\n}"
            }
          },
          "metadata": {},
          "execution_count": 17
        }
      ]
    },
    {
      "cell_type": "code",
      "source": [
        "# Retirar valores nulos\n",
        "\n",
        "data = data.drop(columns=['ultima_review'])\n",
        "data = data.drop(columns=['reviews_por_mes'])"
      ],
      "metadata": {
        "id": "w8ubNga8QMhp"
      },
      "execution_count": 18,
      "outputs": []
    },
    {
      "cell_type": "code",
      "source": [
        "data = data.dropna()\n",
        "valores_faltantes_data = data.isna().sum()\n",
        "valores_faltantes_data"
      ],
      "metadata": {
        "id": "uGWASyKkJNPt",
        "colab": {
          "base_uri": "https://localhost:8080/"
        },
        "outputId": "c8235abe-72df-42bb-ddb2-45fd51368b68"
      },
      "execution_count": 19,
      "outputs": [
        {
          "output_type": "execute_result",
          "data": {
            "text/plain": [
              "bairro_grupo             0\n",
              "bairro                   0\n",
              "latitude                 0\n",
              "longitude                0\n",
              "tipo_quarto              0\n",
              "preco                    0\n",
              "minimo_noites            0\n",
              "numero_avaliacoes        0\n",
              "contagem_listas_hosts    0\n",
              "disponibilidade_365      0\n",
              "dtype: int64"
            ]
          },
          "metadata": {},
          "execution_count": 19
        }
      ]
    },
    {
      "cell_type": "code",
      "source": [
        "#Verificar se há duplicatas\n",
        "\n",
        "duplicatas = data.duplicated()\n",
        "\n",
        "print(data[duplicatas])\n"
      ],
      "metadata": {
        "colab": {
          "base_uri": "https://localhost:8080/"
        },
        "id": "hnGP-hhNLpZO",
        "outputId": "e7aa1da7-4260-4083-b890-d150cbb56405"
      },
      "execution_count": 20,
      "outputs": [
        {
          "output_type": "stream",
          "name": "stdout",
          "text": [
            "Empty DataFrame\n",
            "Columns: [bairro_grupo, bairro, latitude, longitude, tipo_quarto, preco, minimo_noites, numero_avaliacoes, contagem_listas_hosts, disponibilidade_365]\n",
            "Index: []\n"
          ]
        }
      ]
    },
    {
      "cell_type": "code",
      "source": [
        "valores_ausentes = data.isnull().sum()\n",
        "valores_ausentes"
      ],
      "metadata": {
        "colab": {
          "base_uri": "https://localhost:8080/"
        },
        "id": "VOQsFhJQNgdJ",
        "outputId": "6943d6b1-c73e-4cef-b928-8775c05c78bc"
      },
      "execution_count": 21,
      "outputs": [
        {
          "output_type": "execute_result",
          "data": {
            "text/plain": [
              "bairro_grupo             0\n",
              "bairro                   0\n",
              "latitude                 0\n",
              "longitude                0\n",
              "tipo_quarto              0\n",
              "preco                    0\n",
              "minimo_noites            0\n",
              "numero_avaliacoes        0\n",
              "contagem_listas_hosts    0\n",
              "disponibilidade_365      0\n",
              "dtype: int64"
            ]
          },
          "metadata": {},
          "execution_count": 21
        }
      ]
    },
    {
      "cell_type": "markdown",
      "source": [
        "### preço nulo"
      ],
      "metadata": {
        "id": "zaoXgyvq-oj9"
      }
    },
    {
      "cell_type": "code",
      "source": [
        "menor_preco = data['preco'].min()"
      ],
      "metadata": {
        "id": "DzT8zdMg5NGm"
      },
      "execution_count": 22,
      "outputs": []
    },
    {
      "cell_type": "code",
      "source": [
        "indice_preco_zero = data['preco'].idxmin()\n",
        "print(\"Índice onde o preço é zero:\", indice_preco_zero)\n",
        "\n",
        "posicoes_preco_minimo = data.loc[data['preco'] == menor_preco].index\n",
        "print(\"Posições com preço mínimo:\", posicoes_preco_minimo)\n",
        "\n",
        "\n"
      ],
      "metadata": {
        "colab": {
          "base_uri": "https://localhost:8080/"
        },
        "id": "2Vx3Q9eZLWHH",
        "outputId": "a3f7706a-a8c7-44d8-cfdd-80ce56285434"
      },
      "execution_count": 23,
      "outputs": [
        {
          "output_type": "stream",
          "name": "stdout",
          "text": [
            "Índice onde o preço é zero: 23160\n",
            "Posições com preço mínimo: Int64Index([23160, 25432, 25633, 25752, 25777, 25793, 25794, 25795, 26258,\n",
            "            26840, 26865],\n",
            "           dtype='int64')\n"
          ]
        }
      ]
    },
    {
      "cell_type": "code",
      "source": [
        "data = data[data['preco'] != 0]"
      ],
      "metadata": {
        "id": "n_VjyKsBDnKY"
      },
      "execution_count": 24,
      "outputs": []
    },
    {
      "cell_type": "code",
      "source": [
        "menor_preco = data['preco'].min()\n",
        "\n",
        "print(\"menor preço:\",menor_preco)"
      ],
      "metadata": {
        "colab": {
          "base_uri": "https://localhost:8080/"
        },
        "id": "kOgs-oOADq3v",
        "outputId": "2fdd7156-8955-4f3a-c04a-cf776a6c6ec7"
      },
      "execution_count": 25,
      "outputs": [
        {
          "output_type": "stream",
          "name": "stdout",
          "text": [
            "menor preço: 10\n"
          ]
        }
      ]
    },
    {
      "cell_type": "code",
      "source": [],
      "metadata": {
        "id": "dTGlje9IDLBf"
      },
      "execution_count": 25,
      "outputs": []
    },
    {
      "cell_type": "code",
      "source": [
        "data = data.dropna(subset=['preco'])\n",
        "linhas_preco_faltante = data[data['preco'].isnull()]\n",
        "\n",
        "print(\"Linhas onde o preço é faltante:\")\n",
        "print(linhas_preco_faltante)\n",
        "\n",
        "valores_ausentes2 = data.isnull().sum()\n",
        "valores_ausentes2"
      ],
      "metadata": {
        "colab": {
          "base_uri": "https://localhost:8080/"
        },
        "id": "qUf6dx_kEd_x",
        "outputId": "671d610f-22f9-436e-9518-8d9c22f41ffe"
      },
      "execution_count": 26,
      "outputs": [
        {
          "output_type": "stream",
          "name": "stdout",
          "text": [
            "Linhas onde o preço é faltante:\n",
            "Empty DataFrame\n",
            "Columns: [bairro_grupo, bairro, latitude, longitude, tipo_quarto, preco, minimo_noites, numero_avaliacoes, contagem_listas_hosts, disponibilidade_365]\n",
            "Index: []\n"
          ]
        },
        {
          "output_type": "execute_result",
          "data": {
            "text/plain": [
              "bairro_grupo             0\n",
              "bairro                   0\n",
              "latitude                 0\n",
              "longitude                0\n",
              "tipo_quarto              0\n",
              "preco                    0\n",
              "minimo_noites            0\n",
              "numero_avaliacoes        0\n",
              "contagem_listas_hosts    0\n",
              "disponibilidade_365      0\n",
              "dtype: int64"
            ]
          },
          "metadata": {},
          "execution_count": 26
        }
      ]
    },
    {
      "cell_type": "code",
      "source": [
        "data.count()"
      ],
      "metadata": {
        "colab": {
          "base_uri": "https://localhost:8080/"
        },
        "id": "NA6dmwKO64Ed",
        "outputId": "c99daab7-6c62-4774-8c63-9c127a96f5dd"
      },
      "execution_count": 27,
      "outputs": [
        {
          "output_type": "execute_result",
          "data": {
            "text/plain": [
              "bairro_grupo             48883\n",
              "bairro                   48883\n",
              "latitude                 48883\n",
              "longitude                48883\n",
              "tipo_quarto              48883\n",
              "preco                    48883\n",
              "minimo_noites            48883\n",
              "numero_avaliacoes        48883\n",
              "contagem_listas_hosts    48883\n",
              "disponibilidade_365      48883\n",
              "dtype: int64"
            ]
          },
          "metadata": {},
          "execution_count": 27
        }
      ]
    },
    {
      "cell_type": "markdown",
      "source": [
        "## Análise Exploratória"
      ],
      "metadata": {
        "id": "_dkWqf8dejhQ"
      }
    },
    {
      "cell_type": "markdown",
      "source": [
        "### análise estatística"
      ],
      "metadata": {
        "id": "08N_orGILMmg"
      }
    },
    {
      "cell_type": "code",
      "source": [
        " data.describe()\n"
      ],
      "metadata": {
        "colab": {
          "base_uri": "https://localhost:8080/",
          "height": 300
        },
        "id": "eJHEaYTmFzt4",
        "outputId": "bbeb33b1-e77b-4913-d378-e0dcda5e281d"
      },
      "execution_count": 28,
      "outputs": [
        {
          "output_type": "execute_result",
          "data": {
            "text/plain": [
              "           latitude     longitude         preco  minimo_noites  \\\n",
              "count  48883.000000  48883.000000  48883.000000   48883.000000   \n",
              "mean      40.728954    -73.952175    152.755130       7.030010   \n",
              "std        0.054531      0.046159    240.172716      20.512416   \n",
              "min       40.499790    -74.244420     10.000000       1.000000   \n",
              "25%       40.690100    -73.983080     69.000000       1.000000   \n",
              "50%       40.723080    -73.955680    106.000000       3.000000   \n",
              "75%       40.763120    -73.936290    175.000000       5.000000   \n",
              "max       40.913060    -73.712990  10000.000000    1250.000000   \n",
              "\n",
              "       numero_avaliacoes  contagem_listas_hosts  disponibilidade_365  \n",
              "count       48883.000000           48883.000000         48883.000000  \n",
              "mean           23.272283               7.144652           112.774339  \n",
              "std            44.551739              32.956522           131.623674  \n",
              "min             0.000000               1.000000             0.000000  \n",
              "25%             1.000000               1.000000             0.000000  \n",
              "50%             5.000000               1.000000            45.000000  \n",
              "75%            24.000000               2.000000           227.000000  \n",
              "max           629.000000             327.000000           365.000000  "
            ],
            "text/html": [
              "\n",
              "  <div id=\"df-6c53da7a-3b10-476c-aa1d-0959696b7aa8\" class=\"colab-df-container\">\n",
              "    <div>\n",
              "<style scoped>\n",
              "    .dataframe tbody tr th:only-of-type {\n",
              "        vertical-align: middle;\n",
              "    }\n",
              "\n",
              "    .dataframe tbody tr th {\n",
              "        vertical-align: top;\n",
              "    }\n",
              "\n",
              "    .dataframe thead th {\n",
              "        text-align: right;\n",
              "    }\n",
              "</style>\n",
              "<table border=\"1\" class=\"dataframe\">\n",
              "  <thead>\n",
              "    <tr style=\"text-align: right;\">\n",
              "      <th></th>\n",
              "      <th>latitude</th>\n",
              "      <th>longitude</th>\n",
              "      <th>preco</th>\n",
              "      <th>minimo_noites</th>\n",
              "      <th>numero_avaliacoes</th>\n",
              "      <th>contagem_listas_hosts</th>\n",
              "      <th>disponibilidade_365</th>\n",
              "    </tr>\n",
              "  </thead>\n",
              "  <tbody>\n",
              "    <tr>\n",
              "      <th>count</th>\n",
              "      <td>48883.000000</td>\n",
              "      <td>48883.000000</td>\n",
              "      <td>48883.000000</td>\n",
              "      <td>48883.000000</td>\n",
              "      <td>48883.000000</td>\n",
              "      <td>48883.000000</td>\n",
              "      <td>48883.000000</td>\n",
              "    </tr>\n",
              "    <tr>\n",
              "      <th>mean</th>\n",
              "      <td>40.728954</td>\n",
              "      <td>-73.952175</td>\n",
              "      <td>152.755130</td>\n",
              "      <td>7.030010</td>\n",
              "      <td>23.272283</td>\n",
              "      <td>7.144652</td>\n",
              "      <td>112.774339</td>\n",
              "    </tr>\n",
              "    <tr>\n",
              "      <th>std</th>\n",
              "      <td>0.054531</td>\n",
              "      <td>0.046159</td>\n",
              "      <td>240.172716</td>\n",
              "      <td>20.512416</td>\n",
              "      <td>44.551739</td>\n",
              "      <td>32.956522</td>\n",
              "      <td>131.623674</td>\n",
              "    </tr>\n",
              "    <tr>\n",
              "      <th>min</th>\n",
              "      <td>40.499790</td>\n",
              "      <td>-74.244420</td>\n",
              "      <td>10.000000</td>\n",
              "      <td>1.000000</td>\n",
              "      <td>0.000000</td>\n",
              "      <td>1.000000</td>\n",
              "      <td>0.000000</td>\n",
              "    </tr>\n",
              "    <tr>\n",
              "      <th>25%</th>\n",
              "      <td>40.690100</td>\n",
              "      <td>-73.983080</td>\n",
              "      <td>69.000000</td>\n",
              "      <td>1.000000</td>\n",
              "      <td>1.000000</td>\n",
              "      <td>1.000000</td>\n",
              "      <td>0.000000</td>\n",
              "    </tr>\n",
              "    <tr>\n",
              "      <th>50%</th>\n",
              "      <td>40.723080</td>\n",
              "      <td>-73.955680</td>\n",
              "      <td>106.000000</td>\n",
              "      <td>3.000000</td>\n",
              "      <td>5.000000</td>\n",
              "      <td>1.000000</td>\n",
              "      <td>45.000000</td>\n",
              "    </tr>\n",
              "    <tr>\n",
              "      <th>75%</th>\n",
              "      <td>40.763120</td>\n",
              "      <td>-73.936290</td>\n",
              "      <td>175.000000</td>\n",
              "      <td>5.000000</td>\n",
              "      <td>24.000000</td>\n",
              "      <td>2.000000</td>\n",
              "      <td>227.000000</td>\n",
              "    </tr>\n",
              "    <tr>\n",
              "      <th>max</th>\n",
              "      <td>40.913060</td>\n",
              "      <td>-73.712990</td>\n",
              "      <td>10000.000000</td>\n",
              "      <td>1250.000000</td>\n",
              "      <td>629.000000</td>\n",
              "      <td>327.000000</td>\n",
              "      <td>365.000000</td>\n",
              "    </tr>\n",
              "  </tbody>\n",
              "</table>\n",
              "</div>\n",
              "    <div class=\"colab-df-buttons\">\n",
              "\n",
              "  <div class=\"colab-df-container\">\n",
              "    <button class=\"colab-df-convert\" onclick=\"convertToInteractive('df-6c53da7a-3b10-476c-aa1d-0959696b7aa8')\"\n",
              "            title=\"Convert this dataframe to an interactive table.\"\n",
              "            style=\"display:none;\">\n",
              "\n",
              "  <svg xmlns=\"http://www.w3.org/2000/svg\" height=\"24px\" viewBox=\"0 -960 960 960\">\n",
              "    <path d=\"M120-120v-720h720v720H120Zm60-500h600v-160H180v160Zm220 220h160v-160H400v160Zm0 220h160v-160H400v160ZM180-400h160v-160H180v160Zm440 0h160v-160H620v160ZM180-180h160v-160H180v160Zm440 0h160v-160H620v160Z\"/>\n",
              "  </svg>\n",
              "    </button>\n",
              "\n",
              "  <style>\n",
              "    .colab-df-container {\n",
              "      display:flex;\n",
              "      gap: 12px;\n",
              "    }\n",
              "\n",
              "    .colab-df-convert {\n",
              "      background-color: #E8F0FE;\n",
              "      border: none;\n",
              "      border-radius: 50%;\n",
              "      cursor: pointer;\n",
              "      display: none;\n",
              "      fill: #1967D2;\n",
              "      height: 32px;\n",
              "      padding: 0 0 0 0;\n",
              "      width: 32px;\n",
              "    }\n",
              "\n",
              "    .colab-df-convert:hover {\n",
              "      background-color: #E2EBFA;\n",
              "      box-shadow: 0px 1px 2px rgba(60, 64, 67, 0.3), 0px 1px 3px 1px rgba(60, 64, 67, 0.15);\n",
              "      fill: #174EA6;\n",
              "    }\n",
              "\n",
              "    .colab-df-buttons div {\n",
              "      margin-bottom: 4px;\n",
              "    }\n",
              "\n",
              "    [theme=dark] .colab-df-convert {\n",
              "      background-color: #3B4455;\n",
              "      fill: #D2E3FC;\n",
              "    }\n",
              "\n",
              "    [theme=dark] .colab-df-convert:hover {\n",
              "      background-color: #434B5C;\n",
              "      box-shadow: 0px 1px 3px 1px rgba(0, 0, 0, 0.15);\n",
              "      filter: drop-shadow(0px 1px 2px rgba(0, 0, 0, 0.3));\n",
              "      fill: #FFFFFF;\n",
              "    }\n",
              "  </style>\n",
              "\n",
              "    <script>\n",
              "      const buttonEl =\n",
              "        document.querySelector('#df-6c53da7a-3b10-476c-aa1d-0959696b7aa8 button.colab-df-convert');\n",
              "      buttonEl.style.display =\n",
              "        google.colab.kernel.accessAllowed ? 'block' : 'none';\n",
              "\n",
              "      async function convertToInteractive(key) {\n",
              "        const element = document.querySelector('#df-6c53da7a-3b10-476c-aa1d-0959696b7aa8');\n",
              "        const dataTable =\n",
              "          await google.colab.kernel.invokeFunction('convertToInteractive',\n",
              "                                                    [key], {});\n",
              "        if (!dataTable) return;\n",
              "\n",
              "        const docLinkHtml = 'Like what you see? Visit the ' +\n",
              "          '<a target=\"_blank\" href=https://colab.research.google.com/notebooks/data_table.ipynb>data table notebook</a>'\n",
              "          + ' to learn more about interactive tables.';\n",
              "        element.innerHTML = '';\n",
              "        dataTable['output_type'] = 'display_data';\n",
              "        await google.colab.output.renderOutput(dataTable, element);\n",
              "        const docLink = document.createElement('div');\n",
              "        docLink.innerHTML = docLinkHtml;\n",
              "        element.appendChild(docLink);\n",
              "      }\n",
              "    </script>\n",
              "  </div>\n",
              "\n",
              "\n",
              "<div id=\"df-102aca6f-2f33-4fd1-a4ec-1970cd76587a\">\n",
              "  <button class=\"colab-df-quickchart\" onclick=\"quickchart('df-102aca6f-2f33-4fd1-a4ec-1970cd76587a')\"\n",
              "            title=\"Suggest charts\"\n",
              "            style=\"display:none;\">\n",
              "\n",
              "<svg xmlns=\"http://www.w3.org/2000/svg\" height=\"24px\"viewBox=\"0 0 24 24\"\n",
              "     width=\"24px\">\n",
              "    <g>\n",
              "        <path d=\"M19 3H5c-1.1 0-2 .9-2 2v14c0 1.1.9 2 2 2h14c1.1 0 2-.9 2-2V5c0-1.1-.9-2-2-2zM9 17H7v-7h2v7zm4 0h-2V7h2v10zm4 0h-2v-4h2v4z\"/>\n",
              "    </g>\n",
              "</svg>\n",
              "  </button>\n",
              "\n",
              "<style>\n",
              "  .colab-df-quickchart {\n",
              "      --bg-color: #E8F0FE;\n",
              "      --fill-color: #1967D2;\n",
              "      --hover-bg-color: #E2EBFA;\n",
              "      --hover-fill-color: #174EA6;\n",
              "      --disabled-fill-color: #AAA;\n",
              "      --disabled-bg-color: #DDD;\n",
              "  }\n",
              "\n",
              "  [theme=dark] .colab-df-quickchart {\n",
              "      --bg-color: #3B4455;\n",
              "      --fill-color: #D2E3FC;\n",
              "      --hover-bg-color: #434B5C;\n",
              "      --hover-fill-color: #FFFFFF;\n",
              "      --disabled-bg-color: #3B4455;\n",
              "      --disabled-fill-color: #666;\n",
              "  }\n",
              "\n",
              "  .colab-df-quickchart {\n",
              "    background-color: var(--bg-color);\n",
              "    border: none;\n",
              "    border-radius: 50%;\n",
              "    cursor: pointer;\n",
              "    display: none;\n",
              "    fill: var(--fill-color);\n",
              "    height: 32px;\n",
              "    padding: 0;\n",
              "    width: 32px;\n",
              "  }\n",
              "\n",
              "  .colab-df-quickchart:hover {\n",
              "    background-color: var(--hover-bg-color);\n",
              "    box-shadow: 0 1px 2px rgba(60, 64, 67, 0.3), 0 1px 3px 1px rgba(60, 64, 67, 0.15);\n",
              "    fill: var(--button-hover-fill-color);\n",
              "  }\n",
              "\n",
              "  .colab-df-quickchart-complete:disabled,\n",
              "  .colab-df-quickchart-complete:disabled:hover {\n",
              "    background-color: var(--disabled-bg-color);\n",
              "    fill: var(--disabled-fill-color);\n",
              "    box-shadow: none;\n",
              "  }\n",
              "\n",
              "  .colab-df-spinner {\n",
              "    border: 2px solid var(--fill-color);\n",
              "    border-color: transparent;\n",
              "    border-bottom-color: var(--fill-color);\n",
              "    animation:\n",
              "      spin 1s steps(1) infinite;\n",
              "  }\n",
              "\n",
              "  @keyframes spin {\n",
              "    0% {\n",
              "      border-color: transparent;\n",
              "      border-bottom-color: var(--fill-color);\n",
              "      border-left-color: var(--fill-color);\n",
              "    }\n",
              "    20% {\n",
              "      border-color: transparent;\n",
              "      border-left-color: var(--fill-color);\n",
              "      border-top-color: var(--fill-color);\n",
              "    }\n",
              "    30% {\n",
              "      border-color: transparent;\n",
              "      border-left-color: var(--fill-color);\n",
              "      border-top-color: var(--fill-color);\n",
              "      border-right-color: var(--fill-color);\n",
              "    }\n",
              "    40% {\n",
              "      border-color: transparent;\n",
              "      border-right-color: var(--fill-color);\n",
              "      border-top-color: var(--fill-color);\n",
              "    }\n",
              "    60% {\n",
              "      border-color: transparent;\n",
              "      border-right-color: var(--fill-color);\n",
              "    }\n",
              "    80% {\n",
              "      border-color: transparent;\n",
              "      border-right-color: var(--fill-color);\n",
              "      border-bottom-color: var(--fill-color);\n",
              "    }\n",
              "    90% {\n",
              "      border-color: transparent;\n",
              "      border-bottom-color: var(--fill-color);\n",
              "    }\n",
              "  }\n",
              "</style>\n",
              "\n",
              "  <script>\n",
              "    async function quickchart(key) {\n",
              "      const quickchartButtonEl =\n",
              "        document.querySelector('#' + key + ' button');\n",
              "      quickchartButtonEl.disabled = true;  // To prevent multiple clicks.\n",
              "      quickchartButtonEl.classList.add('colab-df-spinner');\n",
              "      try {\n",
              "        const charts = await google.colab.kernel.invokeFunction(\n",
              "            'suggestCharts', [key], {});\n",
              "      } catch (error) {\n",
              "        console.error('Error during call to suggestCharts:', error);\n",
              "      }\n",
              "      quickchartButtonEl.classList.remove('colab-df-spinner');\n",
              "      quickchartButtonEl.classList.add('colab-df-quickchart-complete');\n",
              "    }\n",
              "    (() => {\n",
              "      let quickchartButtonEl =\n",
              "        document.querySelector('#df-102aca6f-2f33-4fd1-a4ec-1970cd76587a button');\n",
              "      quickchartButtonEl.style.display =\n",
              "        google.colab.kernel.accessAllowed ? 'block' : 'none';\n",
              "    })();\n",
              "  </script>\n",
              "</div>\n",
              "\n",
              "    </div>\n",
              "  </div>\n"
            ],
            "application/vnd.google.colaboratory.intrinsic+json": {
              "type": "dataframe",
              "summary": "{\n  \"name\": \"data\",\n  \"rows\": 8,\n  \"fields\": [\n    {\n      \"column\": \"latitude\",\n      \"properties\": {\n        \"dtype\": \"number\",\n        \"std\": 17270.41357305281,\n        \"min\": 0.054531085503790634,\n        \"max\": 48883.0,\n        \"samples\": [\n          40.72895434793282,\n          40.72308,\n          48883.0\n        ],\n        \"num_unique_values\": 8,\n        \"semantic_type\": \"\",\n        \"description\": \"\"\n      }\n    },\n    {\n      \"column\": \"longitude\",\n      \"properties\": {\n        \"dtype\": \"number\",\n        \"std\": 17305.181949576185,\n        \"min\": -74.24442,\n        \"max\": 48883.0,\n        \"samples\": [\n          -73.95217516457666,\n          -73.95568,\n          48883.0\n        ],\n        \"num_unique_values\": 8,\n        \"semantic_type\": \"\",\n        \"description\": \"\"\n      }\n    },\n    {\n      \"column\": \"preco\",\n      \"properties\": {\n        \"dtype\": \"number\",\n        \"std\": 17092.6882522099,\n        \"min\": 10.0,\n        \"max\": 48883.0,\n        \"samples\": [\n          152.75512959515578,\n          106.0,\n          48883.0\n        ],\n        \"num_unique_values\": 8,\n        \"semantic_type\": \"\",\n        \"description\": \"\"\n      }\n    },\n    {\n      \"column\": \"minimo_noites\",\n      \"properties\": {\n        \"dtype\": \"number\",\n        \"std\": 17223.220535347587,\n        \"min\": 1.0,\n        \"max\": 48883.0,\n        \"samples\": [\n          48883.0,\n          7.030010433074893,\n          5.0\n        ],\n        \"num_unique_values\": 7,\n        \"semantic_type\": \"\",\n        \"description\": \"\"\n      }\n    },\n    {\n      \"column\": \"numero_avaliacoes\",\n      \"properties\": {\n        \"dtype\": \"number\",\n        \"std\": 17247.379215058852,\n        \"min\": 0.0,\n        \"max\": 48883.0,\n        \"samples\": [\n          23.272282797700633,\n          5.0,\n          48883.0\n        ],\n        \"num_unique_values\": 8,\n        \"semantic_type\": \"\",\n        \"description\": \"\"\n      }\n    },\n    {\n      \"column\": \"contagem_listas_hosts\",\n      \"properties\": {\n        \"dtype\": \"number\",\n        \"std\": 17264.32174924633,\n        \"min\": 1.0,\n        \"max\": 48883.0,\n        \"samples\": [\n          48883.0,\n          7.14465151484156,\n          327.0\n        ],\n        \"num_unique_values\": 6,\n        \"semantic_type\": \"\",\n        \"description\": \"\"\n      }\n    },\n    {\n      \"column\": \"disponibilidade_365\",\n      \"properties\": {\n        \"dtype\": \"number\",\n        \"std\": 17238.671630742654,\n        \"min\": 0.0,\n        \"max\": 48883.0,\n        \"samples\": [\n          48883.0,\n          112.77433872716486,\n          227.0\n        ],\n        \"num_unique_values\": 7,\n        \"semantic_type\": \"\",\n        \"description\": \"\"\n      }\n    }\n  ]\n}"
            }
          },
          "metadata": {},
          "execution_count": 28
        }
      ]
    },
    {
      "cell_type": "markdown",
      "source": [
        "### histograma"
      ],
      "metadata": {
        "id": "x_aDc9mDLZIm"
      }
    },
    {
      "cell_type": "code",
      "source": [
        "# Histograma do preço\n",
        "import seaborn as sns\n",
        "\n",
        "xlim = (0, 500)\n",
        "\n",
        "# Plote o histograma com os limites ajustados\n",
        "sns.histplot(data=data, x=\"preco\", kde=True)\n",
        "plt.xlim(xlim)\n",
        "plt.show()\n"
      ],
      "metadata": {
        "colab": {
          "base_uri": "https://localhost:8080/",
          "height": 449
        },
        "id": "TBpFm_AugvA8",
        "outputId": "bc934562-2e79-4a64-99d0-f00d290b7eaa"
      },
      "execution_count": 29,
      "outputs": [
        {
          "output_type": "display_data",
          "data": {
            "text/plain": [
              "<Figure size 640x480 with 1 Axes>"
            ],
            "image/png": "[encoded data removed]"
          },
          "metadata": {}
        }
      ]
    },
    {
      "cell_type": "code",
      "source": [
        "# Histograma do dias minimos para reservar\n",
        "import seaborn as sns\n",
        "\n",
        "xlim = (0, 15)\n",
        "\n",
        "sns.histplot(data=data, x=\"minimo_noites\", kde=True)\n",
        "plt.xlim(xlim)\n",
        "plt.show()\n"
      ],
      "metadata": {
        "colab": {
          "base_uri": "https://localhost:8080/",
          "height": 450
        },
        "id": "m8mPnPRgEyQL",
        "outputId": "ed009f78-8505-4c9e-85d5-f205d5820260"
      },
      "execution_count": 30,
      "outputs": [
        {
          "output_type": "display_data",
          "data": {
            "text/plain": [
              "<Figure size 640x480 with 1 Axes>"
            ],
            "image/png": "[encoded data removed]"
          },
          "metadata": {}
        }
      ]
    },
    {
      "cell_type": "markdown",
      "source": [
        "### Correlação entre variáveis"
      ],
      "metadata": {
        "id": "aVjYP8i5LjyY"
      }
    },
    {
      "cell_type": "code",
      "source": [
        "# Análise de correlação\n",
        "correlacao_minimo_noites = data['minimo_noites'].corr(data['preco'])\n",
        "\n",
        "print(\"Correlação entre número mínimo de noites e preço:\", correlacao_minimo_noites)\n"
      ],
      "metadata": {
        "colab": {
          "base_uri": "https://localhost:8080/"
        },
        "id": "TSuB9Y_MQa6A",
        "outputId": "5312a75a-f20d-47c6-9bca-2dd2913a74ab"
      },
      "execution_count": 31,
      "outputs": [
        {
          "output_type": "stream",
          "name": "stdout",
          "text": [
            "Correlação entre número mínimo de noites e preço: 0.042804874987973154\n"
          ]
        }
      ]
    },
    {
      "cell_type": "code",
      "source": [
        "correlacao_disponibilidade = data['disponibilidade_365'].corr(data['preco'])\n",
        "\n",
        "print(\"Correlação entre disponibilidade ao longo do ano e preço:\", correlacao_disponibilidade)"
      ],
      "metadata": {
        "colab": {
          "base_uri": "https://localhost:8080/"
        },
        "id": "gYGggwKIjbzq",
        "outputId": "f3498414-f48c-4443-e01d-9151d2d712dd"
      },
      "execution_count": 32,
      "outputs": [
        {
          "output_type": "stream",
          "name": "stdout",
          "text": [
            "Correlação entre disponibilidade ao longo do ano e preço: 0.08185118472141635\n"
          ]
        }
      ]
    },
    {
      "cell_type": "code",
      "source": [
        "correlacao = data.corr()"
      ],
      "metadata": {
        "colab": {
          "base_uri": "https://localhost:8080/"
        },
        "id": "39dLaQ4-kCVq",
        "outputId": "74615401-0a03-4aa1-a592-2be062911a8d"
      },
      "execution_count": 33,
      "outputs": [
        {
          "output_type": "stream",
          "name": "stderr",
          "text": [
            "<ipython-input-33-4862daeb16ca>:1: FutureWarning: The default value of numeric_only in DataFrame.corr is deprecated. In a future version, it will default to False. Select only valid columns or specify the value of numeric_only to silence this warning.\n",
            "  correlacao = data.corr()\n"
          ]
        }
      ]
    },
    {
      "cell_type": "code",
      "source": [
        "correlacao"
      ],
      "metadata": {
        "colab": {
          "base_uri": "https://localhost:8080/",
          "height": 269
        },
        "id": "U_5-3pCVGlrR",
        "outputId": "f79a5c41-dbc3-4450-9ee1-51f0b5c7f338"
      },
      "execution_count": 34,
      "outputs": [
        {
          "output_type": "execute_result",
          "data": {
            "text/plain": [
              "                       latitude  longitude     preco  minimo_noites  \\\n",
              "latitude               1.000000   0.084819  0.033899       0.024884   \n",
              "longitude              0.084819   1.000000 -0.149955      -0.062775   \n",
              "preco                  0.033899  -0.149955  1.000000       0.042805   \n",
              "minimo_noites          0.024884  -0.062775  0.042805       1.000000   \n",
              "numero_avaliacoes     -0.015367   0.059013 -0.047926      -0.080082   \n",
              "contagem_listas_hosts  0.019517  -0.114715  0.057462       0.127962   \n",
              "disponibilidade_365   -0.010884   0.082690  0.081851       0.144292   \n",
              "\n",
              "                       numero_avaliacoes  contagem_listas_hosts  \\\n",
              "latitude                       -0.015367               0.019517   \n",
              "longitude                       0.059013              -0.114715   \n",
              "preco                          -0.047926               0.057462   \n",
              "minimo_noites                  -0.080082               0.127962   \n",
              "numero_avaliacoes               1.000000              -0.072385   \n",
              "contagem_listas_hosts          -0.072385               1.000000   \n",
              "disponibilidade_365             0.171994               0.225722   \n",
              "\n",
              "                       disponibilidade_365  \n",
              "latitude                         -0.010884  \n",
              "longitude                         0.082690  \n",
              "preco                             0.081851  \n",
              "minimo_noites                     0.144292  \n",
              "numero_avaliacoes                 0.171994  \n",
              "contagem_listas_hosts             0.225722  \n",
              "disponibilidade_365               1.000000  "
            ],
            "text/html": [
              "\n",
              "  <div id=\"df-d536a3b5-12f1-4330-b860-214d3219f2f1\" class=\"colab-df-container\">\n",
              "    <div>\n",
              "<style scoped>\n",
              "    .dataframe tbody tr th:only-of-type {\n",
              "        vertical-align: middle;\n",
              "    }\n",
              "\n",
              "    .dataframe tbody tr th {\n",
              "        vertical-align: top;\n",
              "    }\n",
              "\n",
              "    .dataframe thead th {\n",
              "        text-align: right;\n",
              "    }\n",
              "</style>\n",
              "<table border=\"1\" class=\"dataframe\">\n",
              "  <thead>\n",
              "    <tr style=\"text-align: right;\">\n",
              "      <th></th>\n",
              "      <th>latitude</th>\n",
              "      <th>longitude</th>\n",
              "      <th>preco</th>\n",
              "      <th>minimo_noites</th>\n",
              "      <th>numero_avaliacoes</th>\n",
              "      <th>contagem_listas_hosts</th>\n",
              "      <th>disponibilidade_365</th>\n",
              "    </tr>\n",
              "  </thead>\n",
              "  <tbody>\n",
              "    <tr>\n",
              "      <th>latitude</th>\n",
              "      <td>1.000000</td>\n",
              "      <td>0.084819</td>\n",
              "      <td>0.033899</td>\n",
              "      <td>0.024884</td>\n",
              "      <td>-0.015367</td>\n",
              "      <td>0.019517</td>\n",
              "      <td>-0.010884</td>\n",
              "    </tr>\n",
              "    <tr>\n",
              "      <th>longitude</th>\n",
              "      <td>0.084819</td>\n",
              "      <td>1.000000</td>\n",
              "      <td>-0.149955</td>\n",
              "      <td>-0.062775</td>\n",
              "      <td>0.059013</td>\n",
              "      <td>-0.114715</td>\n",
              "      <td>0.082690</td>\n",
              "    </tr>\n",
              "    <tr>\n",
              "      <th>preco</th>\n",
              "      <td>0.033899</td>\n",
              "      <td>-0.149955</td>\n",
              "      <td>1.000000</td>\n",
              "      <td>0.042805</td>\n",
              "      <td>-0.047926</td>\n",
              "      <td>0.057462</td>\n",
              "      <td>0.081851</td>\n",
              "    </tr>\n",
              "    <tr>\n",
              "      <th>minimo_noites</th>\n",
              "      <td>0.024884</td>\n",
              "      <td>-0.062775</td>\n",
              "      <td>0.042805</td>\n",
              "      <td>1.000000</td>\n",
              "      <td>-0.080082</td>\n",
              "      <td>0.127962</td>\n",
              "      <td>0.144292</td>\n",
              "    </tr>\n",
              "    <tr>\n",
              "      <th>numero_avaliacoes</th>\n",
              "      <td>-0.015367</td>\n",
              "      <td>0.059013</td>\n",
              "      <td>-0.047926</td>\n",
              "      <td>-0.080082</td>\n",
              "      <td>1.000000</td>\n",
              "      <td>-0.072385</td>\n",
              "      <td>0.171994</td>\n",
              "    </tr>\n",
              "    <tr>\n",
              "      <th>contagem_listas_hosts</th>\n",
              "      <td>0.019517</td>\n",
              "      <td>-0.114715</td>\n",
              "      <td>0.057462</td>\n",
              "      <td>0.127962</td>\n",
              "      <td>-0.072385</td>\n",
              "      <td>1.000000</td>\n",
              "      <td>0.225722</td>\n",
              "    </tr>\n",
              "    <tr>\n",
              "      <th>disponibilidade_365</th>\n",
              "      <td>-0.010884</td>\n",
              "      <td>0.082690</td>\n",
              "      <td>0.081851</td>\n",
              "      <td>0.144292</td>\n",
              "      <td>0.171994</td>\n",
              "      <td>0.225722</td>\n",
              "      <td>1.000000</td>\n",
              "    </tr>\n",
              "  </tbody>\n",
              "</table>\n",
              "</div>\n",
              "    <div class=\"colab-df-buttons\">\n",
              "\n",
              "  <div class=\"colab-df-container\">\n",
              "    <button class=\"colab-df-convert\" onclick=\"convertToInteractive('df-d536a3b5-12f1-4330-b860-214d3219f2f1')\"\n",
              "            title=\"Convert this dataframe to an interactive table.\"\n",
              "            style=\"display:none;\">\n",
              "\n",
              "  <svg xmlns=\"http://www.w3.org/2000/svg\" height=\"24px\" viewBox=\"0 -960 960 960\">\n",
              "    <path d=\"M120-120v-720h720v720H120Zm60-500h600v-160H180v160Zm220 220h160v-160H400v160Zm0 220h160v-160H400v160ZM180-400h160v-160H180v160Zm440 0h160v-160H620v160ZM180-180h160v-160H180v160Zm440 0h160v-160H620v160Z\"/>\n",
              "  </svg>\n",
              "    </button>\n",
              "\n",
              "  <style>\n",
              "    .colab-df-container {\n",
              "      display:flex;\n",
              "      gap: 12px;\n",
              "    }\n",
              "\n",
              "    .colab-df-convert {\n",
              "      background-color: #E8F0FE;\n",
              "      border: none;\n",
              "      border-radius: 50%;\n",
              "      cursor: pointer;\n",
              "      display: none;\n",
              "      fill: #1967D2;\n",
              "      height: 32px;\n",
              "      padding: 0 0 0 0;\n",
              "      width: 32px;\n",
              "    }\n",
              "\n",
              "    .colab-df-convert:hover {\n",
              "      background-color: #E2EBFA;\n",
              "      box-shadow: 0px 1px 2px rgba(60, 64, 67, 0.3), 0px 1px 3px 1px rgba(60, 64, 67, 0.15);\n",
              "      fill: #174EA6;\n",
              "    }\n",
              "\n",
              "    .colab-df-buttons div {\n",
              "      margin-bottom: 4px;\n",
              "    }\n",
              "\n",
              "    [theme=dark] .colab-df-convert {\n",
              "      background-color: #3B4455;\n",
              "      fill: #D2E3FC;\n",
              "    }\n",
              "\n",
              "    [theme=dark] .colab-df-convert:hover {\n",
              "      background-color: #434B5C;\n",
              "      box-shadow: 0px 1px 3px 1px rgba(0, 0, 0, 0.15);\n",
              "      filter: drop-shadow(0px 1px 2px rgba(0, 0, 0, 0.3));\n",
              "      fill: #FFFFFF;\n",
              "    }\n",
              "  </style>\n",
              "\n",
              "    <script>\n",
              "      const buttonEl =\n",
              "        document.querySelector('#df-d536a3b5-12f1-4330-b860-214d3219f2f1 button.colab-df-convert');\n",
              "      buttonEl.style.display =\n",
              "        google.colab.kernel.accessAllowed ? 'block' : 'none';\n",
              "\n",
              "      async function convertToInteractive(key) {\n",
              "        const element = document.querySelector('#df-d536a3b5-12f1-4330-b860-214d3219f2f1');\n",
              "        const dataTable =\n",
              "          await google.colab.kernel.invokeFunction('convertToInteractive',\n",
              "                                                    [key], {});\n",
              "        if (!dataTable) return;\n",
              "\n",
              "        const docLinkHtml = 'Like what you see? Visit the ' +\n",
              "          '<a target=\"_blank\" href=https://colab.research.google.com/notebooks/data_table.ipynb>data table notebook</a>'\n",
              "          + ' to learn more about interactive tables.';\n",
              "        element.innerHTML = '';\n",
              "        dataTable['output_type'] = 'display_data';\n",
              "        await google.colab.output.renderOutput(dataTable, element);\n",
              "        const docLink = document.createElement('div');\n",
              "        docLink.innerHTML = docLinkHtml;\n",
              "        element.appendChild(docLink);\n",
              "      }\n",
              "    </script>\n",
              "  </div>\n",
              "\n",
              "\n",
              "<div id=\"df-535b9476-0168-4672-9b7e-00bd8ccf6b90\">\n",
              "  <button class=\"colab-df-quickchart\" onclick=\"quickchart('df-535b9476-0168-4672-9b7e-00bd8ccf6b90')\"\n",
              "            title=\"Suggest charts\"\n",
              "            style=\"display:none;\">\n",
              "\n",
              "<svg xmlns=\"http://www.w3.org/2000/svg\" height=\"24px\"viewBox=\"0 0 24 24\"\n",
              "     width=\"24px\">\n",
              "    <g>\n",
              "        <path d=\"M19 3H5c-1.1 0-2 .9-2 2v14c0 1.1.9 2 2 2h14c1.1 0 2-.9 2-2V5c0-1.1-.9-2-2-2zM9 17H7v-7h2v7zm4 0h-2V7h2v10zm4 0h-2v-4h2v4z\"/>\n",
              "    </g>\n",
              "</svg>\n",
              "  </button>\n",
              "\n",
              "<style>\n",
              "  .colab-df-quickchart {\n",
              "      --bg-color: #E8F0FE;\n",
              "      --fill-color: #1967D2;\n",
              "      --hover-bg-color: #E2EBFA;\n",
              "      --hover-fill-color: #174EA6;\n",
              "      --disabled-fill-color: #AAA;\n",
              "      --disabled-bg-color: #DDD;\n",
              "  }\n",
              "\n",
              "  [theme=dark] .colab-df-quickchart {\n",
              "      --bg-color: #3B4455;\n",
              "      --fill-color: #D2E3FC;\n",
              "      --hover-bg-color: #434B5C;\n",
              "      --hover-fill-color: #FFFFFF;\n",
              "      --disabled-bg-color: #3B4455;\n",
              "      --disabled-fill-color: #666;\n",
              "  }\n",
              "\n",
              "  .colab-df-quickchart {\n",
              "    background-color: var(--bg-color);\n",
              "    border: none;\n",
              "    border-radius: 50%;\n",
              "    cursor: pointer;\n",
              "    display: none;\n",
              "    fill: var(--fill-color);\n",
              "    height: 32px;\n",
              "    padding: 0;\n",
              "    width: 32px;\n",
              "  }\n",
              "\n",
              "  .colab-df-quickchart:hover {\n",
              "    background-color: var(--hover-bg-color);\n",
              "    box-shadow: 0 1px 2px rgba(60, 64, 67, 0.3), 0 1px 3px 1px rgba(60, 64, 67, 0.15);\n",
              "    fill: var(--button-hover-fill-color);\n",
              "  }\n",
              "\n",
              "  .colab-df-quickchart-complete:disabled,\n",
              "  .colab-df-quickchart-complete:disabled:hover {\n",
              "    background-color: var(--disabled-bg-color);\n",
              "    fill: var(--disabled-fill-color);\n",
              "    box-shadow: none;\n",
              "  }\n",
              "\n",
              "  .colab-df-spinner {\n",
              "    border: 2px solid var(--fill-color);\n",
              "    border-color: transparent;\n",
              "    border-bottom-color: var(--fill-color);\n",
              "    animation:\n",
              "      spin 1s steps(1) infinite;\n",
              "  }\n",
              "\n",
              "  @keyframes spin {\n",
              "    0% {\n",
              "      border-color: transparent;\n",
              "      border-bottom-color: var(--fill-color);\n",
              "      border-left-color: var(--fill-color);\n",
              "    }\n",
              "    20% {\n",
              "      border-color: transparent;\n",
              "      border-left-color: var(--fill-color);\n",
              "      border-top-color: var(--fill-color);\n",
              "    }\n",
              "    30% {\n",
              "      border-color: transparent;\n",
              "      border-left-color: var(--fill-color);\n",
              "      border-top-color: var(--fill-color);\n",
              "      border-right-color: var(--fill-color);\n",
              "    }\n",
              "    40% {\n",
              "      border-color: transparent;\n",
              "      border-right-color: var(--fill-color);\n",
              "      border-top-color: var(--fill-color);\n",
              "    }\n",
              "    60% {\n",
              "      border-color: transparent;\n",
              "      border-right-color: var(--fill-color);\n",
              "    }\n",
              "    80% {\n",
              "      border-color: transparent;\n",
              "      border-right-color: var(--fill-color);\n",
              "      border-bottom-color: var(--fill-color);\n",
              "    }\n",
              "    90% {\n",
              "      border-color: transparent;\n",
              "      border-bottom-color: var(--fill-color);\n",
              "    }\n",
              "  }\n",
              "</style>\n",
              "\n",
              "  <script>\n",
              "    async function quickchart(key) {\n",
              "      const quickchartButtonEl =\n",
              "        document.querySelector('#' + key + ' button');\n",
              "      quickchartButtonEl.disabled = true;  // To prevent multiple clicks.\n",
              "      quickchartButtonEl.classList.add('colab-df-spinner');\n",
              "      try {\n",
              "        const charts = await google.colab.kernel.invokeFunction(\n",
              "            'suggestCharts', [key], {});\n",
              "      } catch (error) {\n",
              "        console.error('Error during call to suggestCharts:', error);\n",
              "      }\n",
              "      quickchartButtonEl.classList.remove('colab-df-spinner');\n",
              "      quickchartButtonEl.classList.add('colab-df-quickchart-complete');\n",
              "    }\n",
              "    (() => {\n",
              "      let quickchartButtonEl =\n",
              "        document.querySelector('#df-535b9476-0168-4672-9b7e-00bd8ccf6b90 button');\n",
              "      quickchartButtonEl.style.display =\n",
              "        google.colab.kernel.accessAllowed ? 'block' : 'none';\n",
              "    })();\n",
              "  </script>\n",
              "</div>\n",
              "\n",
              "  <div id=\"id_5be175a9-4929-494c-9c92-18163ab2ba4e\">\n",
              "    <style>\n",
              "      .colab-df-generate {\n",
              "        background-color: #E8F0FE;\n",
              "        border: none;\n",
              "        border-radius: 50%;\n",
              "        cursor: pointer;\n",
              "        display: none;\n",
              "        fill: #1967D2;\n",
              "        height: 32px;\n",
              "        padding: 0 0 0 0;\n",
              "        width: 32px;\n",
              "      }\n",
              "\n",
              "      .colab-df-generate:hover {\n",
              "        background-color: #E2EBFA;\n",
              "        box-shadow: 0px 1px 2px rgba(60, 64, 67, 0.3), 0px 1px 3px 1px rgba(60, 64, 67, 0.15);\n",
              "        fill: #174EA6;\n",
              "      }\n",
              "\n",
              "      [theme=dark] .colab-df-generate {\n",
              "        background-color: #3B4455;\n",
              "        fill: #D2E3FC;\n",
              "      }\n",
              "\n",
              "      [theme=dark] .colab-df-generate:hover {\n",
              "        background-color: #434B5C;\n",
              "        box-shadow: 0px 1px 3px 1px rgba(0, 0, 0, 0.15);\n",
              "        filter: drop-shadow(0px 1px 2px rgba(0, 0, 0, 0.3));\n",
              "        fill: #FFFFFF;\n",
              "      }\n",
              "    </style>\n",
              "    <button class=\"colab-df-generate\" onclick=\"generateWithVariable('correlacao')\"\n",
              "            title=\"Generate code using this dataframe.\"\n",
              "            style=\"display:none;\">\n",
              "\n",
              "  <svg xmlns=\"http://www.w3.org/2000/svg\" height=\"24px\"viewBox=\"0 0 24 24\"\n",
              "       width=\"24px\">\n",
              "    <path d=\"M7,19H8.4L18.45,9,17,7.55,7,17.6ZM5,21V16.75L18.45,3.32a2,2,0,0,1,2.83,0l1.4,1.43a1.91,1.91,0,0,1,.58,1.4,1.91,1.91,0,0,1-.58,1.4L9.25,21ZM18.45,9,17,7.55Zm-12,3A5.31,5.31,0,0,0,4.9,8.1,5.31,5.31,0,0,0,1,6.5,5.31,5.31,0,0,0,4.9,4.9,5.31,5.31,0,0,0,6.5,1,5.31,5.31,0,0,0,8.1,4.9,5.31,5.31,0,0,0,12,6.5,5.46,5.46,0,0,0,6.5,12Z\"/>\n",
              "  </svg>\n",
              "    </button>\n",
              "    <script>\n",
              "      (() => {\n",
              "      const buttonEl =\n",
              "        document.querySelector('#id_5be175a9-4929-494c-9c92-18163ab2ba4e button.colab-df-generate');\n",
              "      buttonEl.style.display =\n",
              "        google.colab.kernel.accessAllowed ? 'block' : 'none';\n",
              "\n",
              "      buttonEl.onclick = () => {\n",
              "        google.colab.notebook.generateWithVariable('correlacao');\n",
              "      }\n",
              "      })();\n",
              "    </script>\n",
              "  </div>\n",
              "\n",
              "    </div>\n",
              "  </div>\n"
            ],
            "application/vnd.google.colaboratory.intrinsic+json": {
              "type": "dataframe",
              "variable_name": "correlacao",
              "summary": "{\n  \"name\": \"correlacao\",\n  \"rows\": 7,\n  \"fields\": [\n    {\n      \"column\": \"latitude\",\n      \"properties\": {\n        \"dtype\": \"number\",\n        \"std\": 0.37082337338237426,\n        \"min\": -0.015367181173042295,\n        \"max\": 1.0,\n        \"samples\": [\n          1.0,\n          0.08481869675179761,\n          0.0195169068283275\n        ],\n        \"num_unique_values\": 7,\n        \"semantic_type\": \"\",\n        \"description\": \"\"\n      }\n    },\n    {\n      \"column\": \"longitude\",\n      \"properties\": {\n        \"dtype\": \"number\",\n        \"std\": 0.39615323983017525,\n        \"min\": -0.14995472976210214,\n        \"max\": 1.0,\n        \"samples\": [\n          0.08481869675179761,\n          1.0,\n          -0.11471543179478093\n        ],\n        \"num_unique_values\": 7,\n        \"semantic_type\": \"\",\n        \"description\": \"\"\n      }\n    },\n    {\n      \"column\": \"preco\",\n      \"properties\": {\n        \"dtype\": \"number\",\n        \"std\": 0.3850714739638276,\n        \"min\": -0.14995472976210214,\n        \"max\": 1.0,\n        \"samples\": [\n          0.03389894126733908,\n          -0.14995472976210214,\n          0.057461895821124855\n        ],\n        \"num_unique_values\": 7,\n        \"semantic_type\": \"\",\n        \"description\": \"\"\n      }\n    },\n    {\n      \"column\": \"minimo_noites\",\n      \"properties\": {\n        \"dtype\": \"number\",\n        \"std\": 0.3753406429409864,\n        \"min\": -0.0800822275310946,\n        \"max\": 1.0,\n        \"samples\": [\n          0.024884128545667406,\n          -0.06277517629645799,\n          0.127961606556354\n        ],\n        \"num_unique_values\": 7,\n        \"semantic_type\": \"\",\n        \"description\": \"\"\n      }\n    },\n    {\n      \"column\": \"numero_avaliacoes\",\n      \"properties\": {\n        \"dtype\": \"number\",\n        \"std\": 0.3872991339523265,\n        \"min\": -0.0800822275310946,\n        \"max\": 1.0,\n        \"samples\": [\n          -0.015367181173042295,\n          0.05901274106117317,\n          -0.07238495343154269\n        ],\n        \"num_unique_values\": 7,\n        \"semantic_type\": \"\",\n        \"description\": \"\"\n      }\n    },\n    {\n      \"column\": \"contagem_listas_hosts\",\n      \"properties\": {\n        \"dtype\": \"number\",\n        \"std\": 0.38045710363581225,\n        \"min\": -0.11471543179478093,\n        \"max\": 1.0,\n        \"samples\": [\n          0.0195169068283275,\n          -0.11471543179478093,\n          1.0\n        ],\n        \"num_unique_values\": 7,\n        \"semantic_type\": \"\",\n        \"description\": \"\"\n      }\n    },\n    {\n      \"column\": \"disponibilidade_365\",\n      \"properties\": {\n        \"dtype\": \"number\",\n        \"std\": 0.34260134604516573,\n        \"min\": -0.010883990903827223,\n        \"max\": 1.0,\n        \"samples\": [\n          -0.010883990903827223,\n          0.08268950958860236,\n          0.22572190583711976\n        ],\n        \"num_unique_values\": 7,\n        \"semantic_type\": \"\",\n        \"description\": \"\"\n      }\n    }\n  ]\n}"
            }
          },
          "metadata": {},
          "execution_count": 34
        }
      ]
    },
    {
      "cell_type": "code",
      "source": [
        "plot = sn.heatmap(correlacao, annot = True, fmt=\".1f\", linewidths=.6)\n",
        "plot"
      ],
      "metadata": {
        "colab": {
          "base_uri": "https://localhost:8080/",
          "height": 596
        },
        "id": "wnUm6FhRktYD",
        "outputId": "70d61dd7-ad7b-4283-ad50-8e567bb16bb3"
      },
      "execution_count": 35,
      "outputs": [
        {
          "output_type": "execute_result",
          "data": {
            "text/plain": [
              "<Axes: >"
            ]
          },
          "metadata": {},
          "execution_count": 35
        },
        {
          "output_type": "display_data",
          "data": {
            "text/plain": [
              "<Figure size 640x480 with 2 Axes>"
            ],
            "image/png": "[encoded data removed]"
          },
          "metadata": {}
        }
      ]
    },
    {
      "cell_type": "markdown",
      "source": [
        "Ao observar a matriz de correlação entre as variáveis do conjunto de dados, não se pode identificar um relação linear entre as variáveis, portanto, possuem correlação baixa."
      ],
      "metadata": {
        "id": "wiHQcTu2Jq01"
      }
    },
    {
      "cell_type": "markdown",
      "source": [
        "### visualização dos dados"
      ],
      "metadata": {
        "id": "mJrIqEjALo_V"
      }
    },
    {
      "cell_type": "code",
      "source": [
        "plt.figure(figsize=(10, 6))\n",
        "plt.scatter(data['bairro_grupo'], data['preco'])\n",
        "plt.xlabel('Grupos de bairro')\n",
        "plt.ylabel('Preço')\n",
        "plt.title('Relação entre Grupos de bairro e Preço')\n",
        "plt.show()\n"
      ],
      "metadata": {
        "colab": {
          "base_uri": "https://localhost:8080/",
          "height": 564
        },
        "id": "27AKFSxyML0N",
        "outputId": "73a7bb9a-cdc5-49a7-ece7-870b18a20039"
      },
      "execution_count": 36,
      "outputs": [
        {
          "output_type": "display_data",
          "data": {
            "text/plain": [
              "<Figure size 1000x600 with 1 Axes>"
            ],
            "image/png": "[encoded data removed]"
          },
          "metadata": {}
        }
      ]
    },
    {
      "cell_type": "code",
      "source": [
        "plt.figure(figsize=(10, 6))\n",
        "plt.scatter(data['tipo_quarto'], data['preco'])\n",
        "plt.xlabel('Tipo_quarto')\n",
        "plt.ylabel('Preço')\n",
        "plt.title('Relação entre Grupos de bairro e Preço')\n",
        "plt.show()"
      ],
      "metadata": {
        "colab": {
          "base_uri": "https://localhost:8080/",
          "height": 564
        },
        "id": "UjW5ywemGAfd",
        "outputId": "123902c2-58dc-40bb-8cca-01980550dac8"
      },
      "execution_count": 37,
      "outputs": [
        {
          "output_type": "display_data",
          "data": {
            "text/plain": [
              "<Figure size 1000x600 with 1 Axes>"
            ],
            "image/png": "[encoded data removed]"
          },
          "metadata": {}
        }
      ]
    },
    {
      "cell_type": "code",
      "source": [
        "private_room = data[data['tipo_quarto'] == 'Private room'].groupby('bairro_grupo')['tipo_quarto'].count()\n",
        "\n",
        "# Encontrar o grupo de bairro com a maior contagem de quartos privados\n",
        "bairro = private_room.idxmax()\n",
        "maior_concentracao_p = private_room.max()\n",
        "\n",
        "print(f'O grupo de bairro com a maior concentração de quartos privados é \"{bairro}\", com {maior_concentracao_p} quartos privados.')\n"
      ],
      "metadata": {
        "colab": {
          "base_uri": "https://localhost:8080/"
        },
        "id": "6gIPgKl0GHh_",
        "outputId": "96c080fc-e0b1-4881-cbfa-af5528813e96"
      },
      "execution_count": 38,
      "outputs": [
        {
          "output_type": "stream",
          "name": "stdout",
          "text": [
            "O grupo de bairro com a maior concentração de quartos privados é \"Brooklyn\", com 10125 quartos privados.\n"
          ]
        }
      ]
    },
    {
      "cell_type": "code",
      "source": [
        "shared_room = data[data['tipo_quarto'] == 'Shared room'].groupby('bairro_grupo')['tipo_quarto'].count()\n",
        "\n",
        "# Encontrar o grupo de bairro com a maior contagem de quartos privados\n",
        "bairro_shared_room = shared_room.idxmax()\n",
        "maior_concentracao_s = shared_room.max()\n",
        "\n",
        "print(f'O grupo de bairro com a maior concentração de quartos compartilhados é \"{bairro_shared_room}\", com {maior_concentracao_s} quartos compartilhados.')\n"
      ],
      "metadata": {
        "colab": {
          "base_uri": "https://localhost:8080/"
        },
        "id": "qcSLuh73Gyoj",
        "outputId": "3b09fd5c-3aa2-4ff7-802a-10badf83fa23"
      },
      "execution_count": 39,
      "outputs": [
        {
          "output_type": "stream",
          "name": "stdout",
          "text": [
            "O grupo de bairro com a maior concentração de quartos compartilhados é \"Manhattan\", com 480 quartos compartilhados.\n"
          ]
        }
      ]
    },
    {
      "cell_type": "code",
      "source": [
        "entire_home =data[data['tipo_quarto'] == 'Entire home/apt'].groupby('bairro_grupo')['tipo_quarto'].count()\n",
        "\n",
        "bairro_entire_home = entire_home.idxmax()\n",
        "maior_concentracao_e = entire_home.max()\n",
        "\n",
        "print(f'O grupo de bairro com a maior concentração de lugares do tipo entire_home/apt é \"{bairro_entire_home}\", com {maior_concentracao_e} entire home')"
      ],
      "metadata": {
        "colab": {
          "base_uri": "https://localhost:8080/"
        },
        "id": "JWmerraFHEWC",
        "outputId": "bc4628ea-8a6c-4ffe-aaff-746777261e02"
      },
      "execution_count": 40,
      "outputs": [
        {
          "output_type": "stream",
          "name": "stdout",
          "text": [
            "O grupo de bairro com a maior concentração de lugares do tipo entire_home/apt é \"Manhattan\", com 13198 entire home\n"
          ]
        }
      ]
    },
    {
      "cell_type": "markdown",
      "source": [
        "### boxplot"
      ],
      "metadata": {
        "id": "yTDAVnfJLwPO"
      }
    },
    {
      "cell_type": "code",
      "source": [
        "# Construção do Boxplot para variável price.\n",
        "data['preco'].plot(kind='box', vert=False, figsize=(15, 3))\n",
        "\n",
        "plt.show()\n",
        "\n",
        "preco_max= len(data.query('preco >= 8000'))\n",
        "print(f\"Há {preco_max} lugares com preços maiores que 8000.\")\n",
        "\n",
        "preco_min = len(data.query('preco <= 600'))\n",
        "print(f\"Há {preco_min} lugares com preços menores ou igual a 600.\")\n",
        "\n"
      ],
      "metadata": {
        "id": "uNfJl2zHHKA1",
        "colab": {
          "base_uri": "https://localhost:8080/",
          "height": 327
        },
        "outputId": "bb6b771d-bfd3-4e3a-fdf8-1fb8b1af1c0a"
      },
      "execution_count": 41,
      "outputs": [
        {
          "output_type": "display_data",
          "data": {
            "text/plain": [
              "<Figure size 1500x300 with 1 Axes>"
            ],
            "image/png": "[encoded data removed]"
          },
          "metadata": {}
        },
        {
          "output_type": "stream",
          "name": "stdout",
          "text": [
            "Há 8 lugares com preços maiores que 8000.\n",
            "Há 48105 lugares com preços menores ou igual a 600.\n"
          ]
        }
      ]
    },
    {
      "cell_type": "code",
      "source": [
        "data['minimo_noites'].plot(kind='box', vert=False, figsize=(15, 3))\n",
        "plt.show()\n",
        "\n",
        "min_noites = len(data.query('minimo_noites <= 200'))\n",
        "print(f\"Há {min_noites} lugares com  200 dias ou menos para reservar.\")\n",
        "\n",
        "max_noites = len(data.query('minimo_noites >= 200'))\n",
        "print(f\"Há {max_noites} lugares com 200 dias ou mais para reservar.\")"
      ],
      "metadata": {
        "colab": {
          "base_uri": "https://localhost:8080/",
          "height": 325
        },
        "id": "ViB5Hh8lLbex",
        "outputId": "993a9370-9d24-4579-a9a1-24ac37ba4ec8"
      },
      "execution_count": 42,
      "outputs": [
        {
          "output_type": "display_data",
          "data": {
            "text/plain": [
              "<Figure size 1500x300 with 1 Axes>"
            ],
            "image/png": "[encoded data removed]"
          },
          "metadata": {}
        },
        {
          "output_type": "stream",
          "name": "stdout",
          "text": [
            "Há 48814 lugares com  200 dias ou menos para reservar.\n",
            "Há 73 lugares com 200 dias ou mais para reservar.\n"
          ]
        }
      ]
    },
    {
      "cell_type": "markdown",
      "source": [
        "### Criação de novo dataframe"
      ],
      "metadata": {
        "id": "xZ7MxSO_Ea7p"
      }
    },
    {
      "cell_type": "code",
      "source": [
        "novo_data = data.copy()\n",
        "novo_data.drop(novo_data[novo_data.preco > 1000].index, axis=0, inplace=True)\n",
        "novo_data.drop(novo_data[novo_data.minimo_noites >= 100].index, axis=0, inplace=True)\n",
        "novo_data.corr()"
      ],
      "metadata": {
        "id": "1eSYgW29Duii",
        "colab": {
          "base_uri": "https://localhost:8080/",
          "height": 325
        },
        "outputId": "6d1602fc-f062-4be0-fcf2-6507f82bb612"
      },
      "execution_count": 43,
      "outputs": [
        {
          "output_type": "stream",
          "name": "stderr",
          "text": [
            "<ipython-input-43-ec9caa2373f6>:4: FutureWarning: The default value of numeric_only in DataFrame.corr is deprecated. In a future version, it will default to False. Select only valid columns or specify the value of numeric_only to silence this warning.\n",
            "  novo_data.corr()\n"
          ]
        },
        {
          "output_type": "execute_result",
          "data": {
            "text/plain": [
              "                       latitude  longitude     preco  minimo_noites  \\\n",
              "latitude               1.000000   0.084620  0.063402       0.042291   \n",
              "longitude              0.084620   1.000000 -0.258804      -0.094731   \n",
              "preco                  0.063402  -0.258804  1.000000       0.033910   \n",
              "minimo_noites          0.042291  -0.094731  0.033910       1.000000   \n",
              "numero_avaliacoes     -0.015051   0.057827 -0.058004      -0.138222   \n",
              "contagem_listas_hosts  0.019708  -0.115282  0.130792       0.275493   \n",
              "disponibilidade_365   -0.011817   0.086087  0.118099       0.219420   \n",
              "\n",
              "                       numero_avaliacoes  contagem_listas_hosts  \\\n",
              "latitude                       -0.015051               0.019708   \n",
              "longitude                       0.057827              -0.115282   \n",
              "preco                          -0.058004               0.130792   \n",
              "minimo_noites                  -0.138222               0.275493   \n",
              "numero_avaliacoes               1.000000              -0.072744   \n",
              "contagem_listas_hosts          -0.072744               1.000000   \n",
              "disponibilidade_365             0.175660               0.227697   \n",
              "\n",
              "                       disponibilidade_365  \n",
              "latitude                         -0.011817  \n",
              "longitude                         0.086087  \n",
              "preco                             0.118099  \n",
              "minimo_noites                     0.219420  \n",
              "numero_avaliacoes                 0.175660  \n",
              "contagem_listas_hosts             0.227697  \n",
              "disponibilidade_365               1.000000  "
            ],
            "text/html": [
              "\n",
              "  <div id=\"df-832fa05d-760c-4a78-a9d7-aab0acca0fdd\" class=\"colab-df-container\">\n",
              "    <div>\n",
              "<style scoped>\n",
              "    .dataframe tbody tr th:only-of-type {\n",
              "        vertical-align: middle;\n",
              "    }\n",
              "\n",
              "    .dataframe tbody tr th {\n",
              "        vertical-align: top;\n",
              "    }\n",
              "\n",
              "    .dataframe thead th {\n",
              "        text-align: right;\n",
              "    }\n",
              "</style>\n",
              "<table border=\"1\" class=\"dataframe\">\n",
              "  <thead>\n",
              "    <tr style=\"text-align: right;\">\n",
              "      <th></th>\n",
              "      <th>latitude</th>\n",
              "      <th>longitude</th>\n",
              "      <th>preco</th>\n",
              "      <th>minimo_noites</th>\n",
              "      <th>numero_avaliacoes</th>\n",
              "      <th>contagem_listas_hosts</th>\n",
              "      <th>disponibilidade_365</th>\n",
              "    </tr>\n",
              "  </thead>\n",
              "  <tbody>\n",
              "    <tr>\n",
              "      <th>latitude</th>\n",
              "      <td>1.000000</td>\n",
              "      <td>0.084620</td>\n",
              "      <td>0.063402</td>\n",
              "      <td>0.042291</td>\n",
              "      <td>-0.015051</td>\n",
              "      <td>0.019708</td>\n",
              "      <td>-0.011817</td>\n",
              "    </tr>\n",
              "    <tr>\n",
              "      <th>longitude</th>\n",
              "      <td>0.084620</td>\n",
              "      <td>1.000000</td>\n",
              "      <td>-0.258804</td>\n",
              "      <td>-0.094731</td>\n",
              "      <td>0.057827</td>\n",
              "      <td>-0.115282</td>\n",
              "      <td>0.086087</td>\n",
              "    </tr>\n",
              "    <tr>\n",
              "      <th>preco</th>\n",
              "      <td>0.063402</td>\n",
              "      <td>-0.258804</td>\n",
              "      <td>1.000000</td>\n",
              "      <td>0.033910</td>\n",
              "      <td>-0.058004</td>\n",
              "      <td>0.130792</td>\n",
              "      <td>0.118099</td>\n",
              "    </tr>\n",
              "    <tr>\n",
              "      <th>minimo_noites</th>\n",
              "      <td>0.042291</td>\n",
              "      <td>-0.094731</td>\n",
              "      <td>0.033910</td>\n",
              "      <td>1.000000</td>\n",
              "      <td>-0.138222</td>\n",
              "      <td>0.275493</td>\n",
              "      <td>0.219420</td>\n",
              "    </tr>\n",
              "    <tr>\n",
              "      <th>numero_avaliacoes</th>\n",
              "      <td>-0.015051</td>\n",
              "      <td>0.057827</td>\n",
              "      <td>-0.058004</td>\n",
              "      <td>-0.138222</td>\n",
              "      <td>1.000000</td>\n",
              "      <td>-0.072744</td>\n",
              "      <td>0.175660</td>\n",
              "    </tr>\n",
              "    <tr>\n",
              "      <th>contagem_listas_hosts</th>\n",
              "      <td>0.019708</td>\n",
              "      <td>-0.115282</td>\n",
              "      <td>0.130792</td>\n",
              "      <td>0.275493</td>\n",
              "      <td>-0.072744</td>\n",
              "      <td>1.000000</td>\n",
              "      <td>0.227697</td>\n",
              "    </tr>\n",
              "    <tr>\n",
              "      <th>disponibilidade_365</th>\n",
              "      <td>-0.011817</td>\n",
              "      <td>0.086087</td>\n",
              "      <td>0.118099</td>\n",
              "      <td>0.219420</td>\n",
              "      <td>0.175660</td>\n",
              "      <td>0.227697</td>\n",
              "      <td>1.000000</td>\n",
              "    </tr>\n",
              "  </tbody>\n",
              "</table>\n",
              "</div>\n",
              "    <div class=\"colab-df-buttons\">\n",
              "\n",
              "  <div class=\"colab-df-container\">\n",
              "    <button class=\"colab-df-convert\" onclick=\"convertToInteractive('df-832fa05d-760c-4a78-a9d7-aab0acca0fdd')\"\n",
              "            title=\"Convert this dataframe to an interactive table.\"\n",
              "            style=\"display:none;\">\n",
              "\n",
              "  <svg xmlns=\"http://www.w3.org/2000/svg\" height=\"24px\" viewBox=\"0 -960 960 960\">\n",
              "    <path d=\"M120-120v-720h720v720H120Zm60-500h600v-160H180v160Zm220 220h160v-160H400v160Zm0 220h160v-160H400v160ZM180-400h160v-160H180v160Zm440 0h160v-160H620v160ZM180-180h160v-160H180v160Zm440 0h160v-160H620v160Z\"/>\n",
              "  </svg>\n",
              "    </button>\n",
              "\n",
              "  <style>\n",
              "    .colab-df-container {\n",
              "      display:flex;\n",
              "      gap: 12px;\n",
              "    }\n",
              "\n",
              "    .colab-df-convert {\n",
              "      background-color: #E8F0FE;\n",
              "      border: none;\n",
              "      border-radius: 50%;\n",
              "      cursor: pointer;\n",
              "      display: none;\n",
              "      fill: #1967D2;\n",
              "      height: 32px;\n",
              "      padding: 0 0 0 0;\n",
              "      width: 32px;\n",
              "    }\n",
              "\n",
              "    .colab-df-convert:hover {\n",
              "      background-color: #E2EBFA;\n",
              "      box-shadow: 0px 1px 2px rgba(60, 64, 67, 0.3), 0px 1px 3px 1px rgba(60, 64, 67, 0.15);\n",
              "      fill: #174EA6;\n",
              "    }\n",
              "\n",
              "    .colab-df-buttons div {\n",
              "      margin-bottom: 4px;\n",
              "    }\n",
              "\n",
              "    [theme=dark] .colab-df-convert {\n",
              "      background-color: #3B4455;\n",
              "      fill: #D2E3FC;\n",
              "    }\n",
              "\n",
              "    [theme=dark] .colab-df-convert:hover {\n",
              "      background-color: #434B5C;\n",
              "      box-shadow: 0px 1px 3px 1px rgba(0, 0, 0, 0.15);\n",
              "      filter: drop-shadow(0px 1px 2px rgba(0, 0, 0, 0.3));\n",
              "      fill: #FFFFFF;\n",
              "    }\n",
              "  </style>\n",
              "\n",
              "    <script>\n",
              "      const buttonEl =\n",
              "        document.querySelector('#df-832fa05d-760c-4a78-a9d7-aab0acca0fdd button.colab-df-convert');\n",
              "      buttonEl.style.display =\n",
              "        google.colab.kernel.accessAllowed ? 'block' : 'none';\n",
              "\n",
              "      async function convertToInteractive(key) {\n",
              "        const element = document.querySelector('#df-832fa05d-760c-4a78-a9d7-aab0acca0fdd');\n",
              "        const dataTable =\n",
              "          await google.colab.kernel.invokeFunction('convertToInteractive',\n",
              "                                                    [key], {});\n",
              "        if (!dataTable) return;\n",
              "\n",
              "        const docLinkHtml = 'Like what you see? Visit the ' +\n",
              "          '<a target=\"_blank\" href=https://colab.research.google.com/notebooks/data_table.ipynb>data table notebook</a>'\n",
              "          + ' to learn more about interactive tables.';\n",
              "        element.innerHTML = '';\n",
              "        dataTable['output_type'] = 'display_data';\n",
              "        await google.colab.output.renderOutput(dataTable, element);\n",
              "        const docLink = document.createElement('div');\n",
              "        docLink.innerHTML = docLinkHtml;\n",
              "        element.appendChild(docLink);\n",
              "      }\n",
              "    </script>\n",
              "  </div>\n",
              "\n",
              "\n",
              "<div id=\"df-98e51afe-7edf-4b53-b25f-dea4b4ef361c\">\n",
              "  <button class=\"colab-df-quickchart\" onclick=\"quickchart('df-98e51afe-7edf-4b53-b25f-dea4b4ef361c')\"\n",
              "            title=\"Suggest charts\"\n",
              "            style=\"display:none;\">\n",
              "\n",
              "<svg xmlns=\"http://www.w3.org/2000/svg\" height=\"24px\"viewBox=\"0 0 24 24\"\n",
              "     width=\"24px\">\n",
              "    <g>\n",
              "        <path d=\"M19 3H5c-1.1 0-2 .9-2 2v14c0 1.1.9 2 2 2h14c1.1 0 2-.9 2-2V5c0-1.1-.9-2-2-2zM9 17H7v-7h2v7zm4 0h-2V7h2v10zm4 0h-2v-4h2v4z\"/>\n",
              "    </g>\n",
              "</svg>\n",
              "  </button>\n",
              "\n",
              "<style>\n",
              "  .colab-df-quickchart {\n",
              "      --bg-color: #E8F0FE;\n",
              "      --fill-color: #1967D2;\n",
              "      --hover-bg-color: #E2EBFA;\n",
              "      --hover-fill-color: #174EA6;\n",
              "      --disabled-fill-color: #AAA;\n",
              "      --disabled-bg-color: #DDD;\n",
              "  }\n",
              "\n",
              "  [theme=dark] .colab-df-quickchart {\n",
              "      --bg-color: #3B4455;\n",
              "      --fill-color: #D2E3FC;\n",
              "      --hover-bg-color: #434B5C;\n",
              "      --hover-fill-color: #FFFFFF;\n",
              "      --disabled-bg-color: #3B4455;\n",
              "      --disabled-fill-color: #666;\n",
              "  }\n",
              "\n",
              "  .colab-df-quickchart {\n",
              "    background-color: var(--bg-color);\n",
              "    border: none;\n",
              "    border-radius: 50%;\n",
              "    cursor: pointer;\n",
              "    display: none;\n",
              "    fill: var(--fill-color);\n",
              "    height: 32px;\n",
              "    padding: 0;\n",
              "    width: 32px;\n",
              "  }\n",
              "\n",
              "  .colab-df-quickchart:hover {\n",
              "    background-color: var(--hover-bg-color);\n",
              "    box-shadow: 0 1px 2px rgba(60, 64, 67, 0.3), 0 1px 3px 1px rgba(60, 64, 67, 0.15);\n",
              "    fill: var(--button-hover-fill-color);\n",
              "  }\n",
              "\n",
              "  .colab-df-quickchart-complete:disabled,\n",
              "  .colab-df-quickchart-complete:disabled:hover {\n",
              "    background-color: var(--disabled-bg-color);\n",
              "    fill: var(--disabled-fill-color);\n",
              "    box-shadow: none;\n",
              "  }\n",
              "\n",
              "  .colab-df-spinner {\n",
              "    border: 2px solid var(--fill-color);\n",
              "    border-color: transparent;\n",
              "    border-bottom-color: var(--fill-color);\n",
              "    animation:\n",
              "      spin 1s steps(1) infinite;\n",
              "  }\n",
              "\n",
              "  @keyframes spin {\n",
              "    0% {\n",
              "      border-color: transparent;\n",
              "      border-bottom-color: var(--fill-color);\n",
              "      border-left-color: var(--fill-color);\n",
              "    }\n",
              "    20% {\n",
              "      border-color: transparent;\n",
              "      border-left-color: var(--fill-color);\n",
              "      border-top-color: var(--fill-color);\n",
              "    }\n",
              "    30% {\n",
              "      border-color: transparent;\n",
              "      border-left-color: var(--fill-color);\n",
              "      border-top-color: var(--fill-color);\n",
              "      border-right-color: var(--fill-color);\n",
              "    }\n",
              "    40% {\n",
              "      border-color: transparent;\n",
              "      border-right-color: var(--fill-color);\n",
              "      border-top-color: var(--fill-color);\n",
              "    }\n",
              "    60% {\n",
              "      border-color: transparent;\n",
              "      border-right-color: var(--fill-color);\n",
              "    }\n",
              "    80% {\n",
              "      border-color: transparent;\n",
              "      border-right-color: var(--fill-color);\n",
              "      border-bottom-color: var(--fill-color);\n",
              "    }\n",
              "    90% {\n",
              "      border-color: transparent;\n",
              "      border-bottom-color: var(--fill-color);\n",
              "    }\n",
              "  }\n",
              "</style>\n",
              "\n",
              "  <script>\n",
              "    async function quickchart(key) {\n",
              "      const quickchartButtonEl =\n",
              "        document.querySelector('#' + key + ' button');\n",
              "      quickchartButtonEl.disabled = true;  // To prevent multiple clicks.\n",
              "      quickchartButtonEl.classList.add('colab-df-spinner');\n",
              "      try {\n",
              "        const charts = await google.colab.kernel.invokeFunction(\n",
              "            'suggestCharts', [key], {});\n",
              "      } catch (error) {\n",
              "        console.error('Error during call to suggestCharts:', error);\n",
              "      }\n",
              "      quickchartButtonEl.classList.remove('colab-df-spinner');\n",
              "      quickchartButtonEl.classList.add('colab-df-quickchart-complete');\n",
              "    }\n",
              "    (() => {\n",
              "      let quickchartButtonEl =\n",
              "        document.querySelector('#df-98e51afe-7edf-4b53-b25f-dea4b4ef361c button');\n",
              "      quickchartButtonEl.style.display =\n",
              "        google.colab.kernel.accessAllowed ? 'block' : 'none';\n",
              "    })();\n",
              "  </script>\n",
              "</div>\n",
              "\n",
              "    </div>\n",
              "  </div>\n"
            ],
            "application/vnd.google.colaboratory.intrinsic+json": {
              "type": "dataframe",
              "summary": "{\n  \"name\": \"novo_data\",\n  \"rows\": 7,\n  \"fields\": [\n    {\n      \"column\": \"latitude\",\n      \"properties\": {\n        \"dtype\": \"number\",\n        \"std\": 0.3682718359974389,\n        \"min\": -0.015051430399833346,\n        \"max\": 1.0,\n        \"samples\": [\n          1.0,\n          0.08462026151145483,\n          0.01970753595448672\n        ],\n        \"num_unique_values\": 7,\n        \"semantic_type\": \"\",\n        \"description\": \"\"\n      }\n    },\n    {\n      \"column\": \"longitude\",\n      \"properties\": {\n        \"dtype\": \"number\",\n        \"std\": 0.41326066632690556,\n        \"min\": -0.2588042142644272,\n        \"max\": 1.0,\n        \"samples\": [\n          0.08462026151145483,\n          1.0,\n          -0.11528231686942039\n        ],\n        \"num_unique_values\": 7,\n        \"semantic_type\": \"\",\n        \"description\": \"\"\n      }\n    },\n    {\n      \"column\": \"preco\",\n      \"properties\": {\n        \"dtype\": \"number\",\n        \"std\": 0.39899632687039377,\n        \"min\": -0.2588042142644272,\n        \"max\": 1.0,\n        \"samples\": [\n          0.06340201091170775,\n          -0.2588042142644272,\n          0.13079243411294966\n        ],\n        \"num_unique_values\": 7,\n        \"semantic_type\": \"\",\n        \"description\": \"\"\n      }\n    },\n    {\n      \"column\": \"minimo_noites\",\n      \"properties\": {\n        \"dtype\": \"number\",\n        \"std\": 0.3871366067838305,\n        \"min\": -0.1382221979193246,\n        \"max\": 1.0,\n        \"samples\": [\n          0.04229091093772287,\n          -0.0947307710111951,\n          0.2754927684636555\n        ],\n        \"num_unique_values\": 7,\n        \"semantic_type\": \"\",\n        \"description\": \"\"\n      }\n    },\n    {\n      \"column\": \"numero_avaliacoes\",\n      \"properties\": {\n        \"dtype\": \"number\",\n        \"std\": 0.39442043392490866,\n        \"min\": -0.1382221979193246,\n        \"max\": 1.0,\n        \"samples\": [\n          -0.015051430399833346,\n          0.05782671461754509,\n          -0.07274406119940745\n        ],\n        \"num_unique_values\": 7,\n        \"semantic_type\": \"\",\n        \"description\": \"\"\n      }\n    },\n    {\n      \"column\": \"contagem_listas_hosts\",\n      \"properties\": {\n        \"dtype\": \"number\",\n        \"std\": 0.37791922312502,\n        \"min\": -0.11528231686942039,\n        \"max\": 1.0,\n        \"samples\": [\n          0.01970753595448672,\n          -0.11528231686942039,\n          1.0\n        ],\n        \"num_unique_values\": 7,\n        \"semantic_type\": \"\",\n        \"description\": \"\"\n      }\n    },\n    {\n      \"column\": \"disponibilidade_365\",\n      \"properties\": {\n        \"dtype\": \"number\",\n        \"std\": 0.3370623143785722,\n        \"min\": -0.011816583293540538,\n        \"max\": 1.0,\n        \"samples\": [\n          -0.011816583293540538,\n          0.08608693476740066,\n          0.2276965952080691\n        ],\n        \"num_unique_values\": 7,\n        \"semantic_type\": \"\",\n        \"description\": \"\"\n      }\n    }\n  ]\n}"
            }
          },
          "metadata": {},
          "execution_count": 43
        }
      ]
    },
    {
      "cell_type": "code",
      "source": [
        "data.corr()"
      ],
      "metadata": {
        "colab": {
          "base_uri": "https://localhost:8080/",
          "height": 325
        },
        "id": "JiRWzoLMeHeB",
        "outputId": "64dae67e-63eb-445c-e942-20002ed08e58"
      },
      "execution_count": 44,
      "outputs": [
        {
          "output_type": "stream",
          "name": "stderr",
          "text": [
            "<ipython-input-44-c44ded798807>:1: FutureWarning: The default value of numeric_only in DataFrame.corr is deprecated. In a future version, it will default to False. Select only valid columns or specify the value of numeric_only to silence this warning.\n",
            "  data.corr()\n"
          ]
        },
        {
          "output_type": "execute_result",
          "data": {
            "text/plain": [
              "                       latitude  longitude     preco  minimo_noites  \\\n",
              "latitude               1.000000   0.084819  0.033899       0.024884   \n",
              "longitude              0.084819   1.000000 -0.149955      -0.062775   \n",
              "preco                  0.033899  -0.149955  1.000000       0.042805   \n",
              "minimo_noites          0.024884  -0.062775  0.042805       1.000000   \n",
              "numero_avaliacoes     -0.015367   0.059013 -0.047926      -0.080082   \n",
              "contagem_listas_hosts  0.019517  -0.114715  0.057462       0.127962   \n",
              "disponibilidade_365   -0.010884   0.082690  0.081851       0.144292   \n",
              "\n",
              "                       numero_avaliacoes  contagem_listas_hosts  \\\n",
              "latitude                       -0.015367               0.019517   \n",
              "longitude                       0.059013              -0.114715   \n",
              "preco                          -0.047926               0.057462   \n",
              "minimo_noites                  -0.080082               0.127962   \n",
              "numero_avaliacoes               1.000000              -0.072385   \n",
              "contagem_listas_hosts          -0.072385               1.000000   \n",
              "disponibilidade_365             0.171994               0.225722   \n",
              "\n",
              "                       disponibilidade_365  \n",
              "latitude                         -0.010884  \n",
              "longitude                         0.082690  \n",
              "preco                             0.081851  \n",
              "minimo_noites                     0.144292  \n",
              "numero_avaliacoes                 0.171994  \n",
              "contagem_listas_hosts             0.225722  \n",
              "disponibilidade_365               1.000000  "
            ],
            "text/html": [
              "\n",
              "  <div id=\"df-a06c503c-8099-452a-a618-58b034c188af\" class=\"colab-df-container\">\n",
              "    <div>\n",
              "<style scoped>\n",
              "    .dataframe tbody tr th:only-of-type {\n",
              "        vertical-align: middle;\n",
              "    }\n",
              "\n",
              "    .dataframe tbody tr th {\n",
              "        vertical-align: top;\n",
              "    }\n",
              "\n",
              "    .dataframe thead th {\n",
              "        text-align: right;\n",
              "    }\n",
              "</style>\n",
              "<table border=\"1\" class=\"dataframe\">\n",
              "  <thead>\n",
              "    <tr style=\"text-align: right;\">\n",
              "      <th></th>\n",
              "      <th>latitude</th>\n",
              "      <th>longitude</th>\n",
              "      <th>preco</th>\n",
              "      <th>minimo_noites</th>\n",
              "      <th>numero_avaliacoes</th>\n",
              "      <th>contagem_listas_hosts</th>\n",
              "      <th>disponibilidade_365</th>\n",
              "    </tr>\n",
              "  </thead>\n",
              "  <tbody>\n",
              "    <tr>\n",
              "      <th>latitude</th>\n",
              "      <td>1.000000</td>\n",
              "      <td>0.084819</td>\n",
              "      <td>0.033899</td>\n",
              "      <td>0.024884</td>\n",
              "      <td>-0.015367</td>\n",
              "      <td>0.019517</td>\n",
              "      <td>-0.010884</td>\n",
              "    </tr>\n",
              "    <tr>\n",
              "      <th>longitude</th>\n",
              "      <td>0.084819</td>\n",
              "      <td>1.000000</td>\n",
              "      <td>-0.149955</td>\n",
              "      <td>-0.062775</td>\n",
              "      <td>0.059013</td>\n",
              "      <td>-0.114715</td>\n",
              "      <td>0.082690</td>\n",
              "    </tr>\n",
              "    <tr>\n",
              "      <th>preco</th>\n",
              "      <td>0.033899</td>\n",
              "      <td>-0.149955</td>\n",
              "      <td>1.000000</td>\n",
              "      <td>0.042805</td>\n",
              "      <td>-0.047926</td>\n",
              "      <td>0.057462</td>\n",
              "      <td>0.081851</td>\n",
              "    </tr>\n",
              "    <tr>\n",
              "      <th>minimo_noites</th>\n",
              "      <td>0.024884</td>\n",
              "      <td>-0.062775</td>\n",
              "      <td>0.042805</td>\n",
              "      <td>1.000000</td>\n",
              "      <td>-0.080082</td>\n",
              "      <td>0.127962</td>\n",
              "      <td>0.144292</td>\n",
              "    </tr>\n",
              "    <tr>\n",
              "      <th>numero_avaliacoes</th>\n",
              "      <td>-0.015367</td>\n",
              "      <td>0.059013</td>\n",
              "      <td>-0.047926</td>\n",
              "      <td>-0.080082</td>\n",
              "      <td>1.000000</td>\n",
              "      <td>-0.072385</td>\n",
              "      <td>0.171994</td>\n",
              "    </tr>\n",
              "    <tr>\n",
              "      <th>contagem_listas_hosts</th>\n",
              "      <td>0.019517</td>\n",
              "      <td>-0.114715</td>\n",
              "      <td>0.057462</td>\n",
              "      <td>0.127962</td>\n",
              "      <td>-0.072385</td>\n",
              "      <td>1.000000</td>\n",
              "      <td>0.225722</td>\n",
              "    </tr>\n",
              "    <tr>\n",
              "      <th>disponibilidade_365</th>\n",
              "      <td>-0.010884</td>\n",
              "      <td>0.082690</td>\n",
              "      <td>0.081851</td>\n",
              "      <td>0.144292</td>\n",
              "      <td>0.171994</td>\n",
              "      <td>0.225722</td>\n",
              "      <td>1.000000</td>\n",
              "    </tr>\n",
              "  </tbody>\n",
              "</table>\n",
              "</div>\n",
              "    <div class=\"colab-df-buttons\">\n",
              "\n",
              "  <div class=\"colab-df-container\">\n",
              "    <button class=\"colab-df-convert\" onclick=\"convertToInteractive('df-a06c503c-8099-452a-a618-58b034c188af')\"\n",
              "            title=\"Convert this dataframe to an interactive table.\"\n",
              "            style=\"display:none;\">\n",
              "\n",
              "  <svg xmlns=\"http://www.w3.org/2000/svg\" height=\"24px\" viewBox=\"0 -960 960 960\">\n",
              "    <path d=\"M120-120v-720h720v720H120Zm60-500h600v-160H180v160Zm220 220h160v-160H400v160Zm0 220h160v-160H400v160ZM180-400h160v-160H180v160Zm440 0h160v-160H620v160ZM180-180h160v-160H180v160Zm440 0h160v-160H620v160Z\"/>\n",
              "  </svg>\n",
              "    </button>\n",
              "\n",
              "  <style>\n",
              "    .colab-df-container {\n",
              "      display:flex;\n",
              "      gap: 12px;\n",
              "    }\n",
              "\n",
              "    .colab-df-convert {\n",
              "      background-color: #E8F0FE;\n",
              "      border: none;\n",
              "      border-radius: 50%;\n",
              "      cursor: pointer;\n",
              "      display: none;\n",
              "      fill: #1967D2;\n",
              "      height: 32px;\n",
              "      padding: 0 0 0 0;\n",
              "      width: 32px;\n",
              "    }\n",
              "\n",
              "    .colab-df-convert:hover {\n",
              "      background-color: #E2EBFA;\n",
              "      box-shadow: 0px 1px 2px rgba(60, 64, 67, 0.3), 0px 1px 3px 1px rgba(60, 64, 67, 0.15);\n",
              "      fill: #174EA6;\n",
              "    }\n",
              "\n",
              "    .colab-df-buttons div {\n",
              "      margin-bottom: 4px;\n",
              "    }\n",
              "\n",
              "    [theme=dark] .colab-df-convert {\n",
              "      background-color: #3B4455;\n",
              "      fill: #D2E3FC;\n",
              "    }\n",
              "\n",
              "    [theme=dark] .colab-df-convert:hover {\n",
              "      background-color: #434B5C;\n",
              "      box-shadow: 0px 1px 3px 1px rgba(0, 0, 0, 0.15);\n",
              "      filter: drop-shadow(0px 1px 2px rgba(0, 0, 0, 0.3));\n",
              "      fill: #FFFFFF;\n",
              "    }\n",
              "  </style>\n",
              "\n",
              "    <script>\n",
              "      const buttonEl =\n",
              "        document.querySelector('#df-a06c503c-8099-452a-a618-58b034c188af button.colab-df-convert');\n",
              "      buttonEl.style.display =\n",
              "        google.colab.kernel.accessAllowed ? 'block' : 'none';\n",
              "\n",
              "      async function convertToInteractive(key) {\n",
              "        const element = document.querySelector('#df-a06c503c-8099-452a-a618-58b034c188af');\n",
              "        const dataTable =\n",
              "          await google.colab.kernel.invokeFunction('convertToInteractive',\n",
              "                                                    [key], {});\n",
              "        if (!dataTable) return;\n",
              "\n",
              "        const docLinkHtml = 'Like what you see? Visit the ' +\n",
              "          '<a target=\"_blank\" href=https://colab.research.google.com/notebooks/data_table.ipynb>data table notebook</a>'\n",
              "          + ' to learn more about interactive tables.';\n",
              "        element.innerHTML = '';\n",
              "        dataTable['output_type'] = 'display_data';\n",
              "        await google.colab.output.renderOutput(dataTable, element);\n",
              "        const docLink = document.createElement('div');\n",
              "        docLink.innerHTML = docLinkHtml;\n",
              "        element.appendChild(docLink);\n",
              "      }\n",
              "    </script>\n",
              "  </div>\n",
              "\n",
              "\n",
              "<div id=\"df-665fc74c-639d-47ae-a320-1e6d1050ee89\">\n",
              "  <button class=\"colab-df-quickchart\" onclick=\"quickchart('df-665fc74c-639d-47ae-a320-1e6d1050ee89')\"\n",
              "            title=\"Suggest charts\"\n",
              "            style=\"display:none;\">\n",
              "\n",
              "<svg xmlns=\"http://www.w3.org/2000/svg\" height=\"24px\"viewBox=\"0 0 24 24\"\n",
              "     width=\"24px\">\n",
              "    <g>\n",
              "        <path d=\"M19 3H5c-1.1 0-2 .9-2 2v14c0 1.1.9 2 2 2h14c1.1 0 2-.9 2-2V5c0-1.1-.9-2-2-2zM9 17H7v-7h2v7zm4 0h-2V7h2v10zm4 0h-2v-4h2v4z\"/>\n",
              "    </g>\n",
              "</svg>\n",
              "  </button>\n",
              "\n",
              "<style>\n",
              "  .colab-df-quickchart {\n",
              "      --bg-color: #E8F0FE;\n",
              "      --fill-color: #1967D2;\n",
              "      --hover-bg-color: #E2EBFA;\n",
              "      --hover-fill-color: #174EA6;\n",
              "      --disabled-fill-color: #AAA;\n",
              "      --disabled-bg-color: #DDD;\n",
              "  }\n",
              "\n",
              "  [theme=dark] .colab-df-quickchart {\n",
              "      --bg-color: #3B4455;\n",
              "      --fill-color: #D2E3FC;\n",
              "      --hover-bg-color: #434B5C;\n",
              "      --hover-fill-color: #FFFFFF;\n",
              "      --disabled-bg-color: #3B4455;\n",
              "      --disabled-fill-color: #666;\n",
              "  }\n",
              "\n",
              "  .colab-df-quickchart {\n",
              "    background-color: var(--bg-color);\n",
              "    border: none;\n",
              "    border-radius: 50%;\n",
              "    cursor: pointer;\n",
              "    display: none;\n",
              "    fill: var(--fill-color);\n",
              "    height: 32px;\n",
              "    padding: 0;\n",
              "    width: 32px;\n",
              "  }\n",
              "\n",
              "  .colab-df-quickchart:hover {\n",
              "    background-color: var(--hover-bg-color);\n",
              "    box-shadow: 0 1px 2px rgba(60, 64, 67, 0.3), 0 1px 3px 1px rgba(60, 64, 67, 0.15);\n",
              "    fill: var(--button-hover-fill-color);\n",
              "  }\n",
              "\n",
              "  .colab-df-quickchart-complete:disabled,\n",
              "  .colab-df-quickchart-complete:disabled:hover {\n",
              "    background-color: var(--disabled-bg-color);\n",
              "    fill: var(--disabled-fill-color);\n",
              "    box-shadow: none;\n",
              "  }\n",
              "\n",
              "  .colab-df-spinner {\n",
              "    border: 2px solid var(--fill-color);\n",
              "    border-color: transparent;\n",
              "    border-bottom-color: var(--fill-color);\n",
              "    animation:\n",
              "      spin 1s steps(1) infinite;\n",
              "  }\n",
              "\n",
              "  @keyframes spin {\n",
              "    0% {\n",
              "      border-color: transparent;\n",
              "      border-bottom-color: var(--fill-color);\n",
              "      border-left-color: var(--fill-color);\n",
              "    }\n",
              "    20% {\n",
              "      border-color: transparent;\n",
              "      border-left-color: var(--fill-color);\n",
              "      border-top-color: var(--fill-color);\n",
              "    }\n",
              "    30% {\n",
              "      border-color: transparent;\n",
              "      border-left-color: var(--fill-color);\n",
              "      border-top-color: var(--fill-color);\n",
              "      border-right-color: var(--fill-color);\n",
              "    }\n",
              "    40% {\n",
              "      border-color: transparent;\n",
              "      border-right-color: var(--fill-color);\n",
              "      border-top-color: var(--fill-color);\n",
              "    }\n",
              "    60% {\n",
              "      border-color: transparent;\n",
              "      border-right-color: var(--fill-color);\n",
              "    }\n",
              "    80% {\n",
              "      border-color: transparent;\n",
              "      border-right-color: var(--fill-color);\n",
              "      border-bottom-color: var(--fill-color);\n",
              "    }\n",
              "    90% {\n",
              "      border-color: transparent;\n",
              "      border-bottom-color: var(--fill-color);\n",
              "    }\n",
              "  }\n",
              "</style>\n",
              "\n",
              "  <script>\n",
              "    async function quickchart(key) {\n",
              "      const quickchartButtonEl =\n",
              "        document.querySelector('#' + key + ' button');\n",
              "      quickchartButtonEl.disabled = true;  // To prevent multiple clicks.\n",
              "      quickchartButtonEl.classList.add('colab-df-spinner');\n",
              "      try {\n",
              "        const charts = await google.colab.kernel.invokeFunction(\n",
              "            'suggestCharts', [key], {});\n",
              "      } catch (error) {\n",
              "        console.error('Error during call to suggestCharts:', error);\n",
              "      }\n",
              "      quickchartButtonEl.classList.remove('colab-df-spinner');\n",
              "      quickchartButtonEl.classList.add('colab-df-quickchart-complete');\n",
              "    }\n",
              "    (() => {\n",
              "      let quickchartButtonEl =\n",
              "        document.querySelector('#df-665fc74c-639d-47ae-a320-1e6d1050ee89 button');\n",
              "      quickchartButtonEl.style.display =\n",
              "        google.colab.kernel.accessAllowed ? 'block' : 'none';\n",
              "    })();\n",
              "  </script>\n",
              "</div>\n",
              "\n",
              "    </div>\n",
              "  </div>\n"
            ],
            "application/vnd.google.colaboratory.intrinsic+json": {
              "type": "dataframe",
              "summary": "{\n  \"name\": \"data\",\n  \"rows\": 7,\n  \"fields\": [\n    {\n      \"column\": \"latitude\",\n      \"properties\": {\n        \"dtype\": \"number\",\n        \"std\": 0.37082337338237426,\n        \"min\": -0.015367181173042295,\n        \"max\": 1.0,\n        \"samples\": [\n          1.0,\n          0.08481869675179761,\n          0.0195169068283275\n        ],\n        \"num_unique_values\": 7,\n        \"semantic_type\": \"\",\n        \"description\": \"\"\n      }\n    },\n    {\n      \"column\": \"longitude\",\n      \"properties\": {\n        \"dtype\": \"number\",\n        \"std\": 0.39615323983017525,\n        \"min\": -0.14995472976210214,\n        \"max\": 1.0,\n        \"samples\": [\n          0.08481869675179761,\n          1.0,\n          -0.11471543179478093\n        ],\n        \"num_unique_values\": 7,\n        \"semantic_type\": \"\",\n        \"description\": \"\"\n      }\n    },\n    {\n      \"column\": \"preco\",\n      \"properties\": {\n        \"dtype\": \"number\",\n        \"std\": 0.3850714739638276,\n        \"min\": -0.14995472976210214,\n        \"max\": 1.0,\n        \"samples\": [\n          0.03389894126733908,\n          -0.14995472976210214,\n          0.057461895821124855\n        ],\n        \"num_unique_values\": 7,\n        \"semantic_type\": \"\",\n        \"description\": \"\"\n      }\n    },\n    {\n      \"column\": \"minimo_noites\",\n      \"properties\": {\n        \"dtype\": \"number\",\n        \"std\": 0.3753406429409864,\n        \"min\": -0.0800822275310946,\n        \"max\": 1.0,\n        \"samples\": [\n          0.024884128545667406,\n          -0.06277517629645799,\n          0.127961606556354\n        ],\n        \"num_unique_values\": 7,\n        \"semantic_type\": \"\",\n        \"description\": \"\"\n      }\n    },\n    {\n      \"column\": \"numero_avaliacoes\",\n      \"properties\": {\n        \"dtype\": \"number\",\n        \"std\": 0.3872991339523265,\n        \"min\": -0.0800822275310946,\n        \"max\": 1.0,\n        \"samples\": [\n          -0.015367181173042295,\n          0.05901274106117317,\n          -0.07238495343154269\n        ],\n        \"num_unique_values\": 7,\n        \"semantic_type\": \"\",\n        \"description\": \"\"\n      }\n    },\n    {\n      \"column\": \"contagem_listas_hosts\",\n      \"properties\": {\n        \"dtype\": \"number\",\n        \"std\": 0.38045710363581225,\n        \"min\": -0.11471543179478093,\n        \"max\": 1.0,\n        \"samples\": [\n          0.0195169068283275,\n          -0.11471543179478093,\n          1.0\n        ],\n        \"num_unique_values\": 7,\n        \"semantic_type\": \"\",\n        \"description\": \"\"\n      }\n    },\n    {\n      \"column\": \"disponibilidade_365\",\n      \"properties\": {\n        \"dtype\": \"number\",\n        \"std\": 0.34260134604516573,\n        \"min\": -0.010883990903827223,\n        \"max\": 1.0,\n        \"samples\": [\n          -0.010883990903827223,\n          0.08268950958860236,\n          0.22572190583711976\n        ],\n        \"num_unique_values\": 7,\n        \"semantic_type\": \"\",\n        \"description\": \"\"\n      }\n    }\n  ]\n}"
            }
          },
          "metadata": {},
          "execution_count": 44
        }
      ]
    },
    {
      "cell_type": "markdown",
      "source": [
        "Ao realizar o tratamento dos dados, em que retirou-se os outliers das variáveis \"preço\" e \"minimo_noites\", houve um crescimento na correlação das variáveis, no entanto, a correlação ainda é considerada baixa."
      ],
      "metadata": {
        "id": "r9uZQA1YQZUf"
      }
    },
    {
      "cell_type": "markdown",
      "source": [
        "## Responda também às seguintes perguntas:\n",
        "\n",
        "a. Supondo que uma pessoa esteja pensando em investir em um\n",
        "apartamento para alugar na plataforma, onde seria mais indicada a\n",
        "compra?\n",
        "\n",
        "b. O número mínimo de noites e a disponibilidade ao longo do ano interferem no preço?\n",
        "\n",
        "c. Existe algum padrão no texto do nome do local para lugares de mais\n",
        "alto valor?\n"
      ],
      "metadata": {
        "id": "ngLhK2jpPPqT"
      }
    },
    {
      "cell_type": "markdown",
      "source": [
        "**Onde seria mais indicada a compra ?**   \n"
      ],
      "metadata": {
        "id": "Q1zvvmDbPiRb"
      }
    },
    {
      "cell_type": "code",
      "source": [
        "quantidade_bairros_unicos = novo_data['bairro'].nunique()\n",
        "\n",
        "quantidade_bairros_unicos\n"
      ],
      "metadata": {
        "colab": {
          "base_uri": "https://localhost:8080/"
        },
        "id": "7vu_lKbVKLnb",
        "outputId": "1d946343-c6a8-4dfb-a3f3-ffafd5033467"
      },
      "execution_count": 45,
      "outputs": [
        {
          "output_type": "execute_result",
          "data": {
            "text/plain": [
              "221"
            ]
          },
          "metadata": {},
          "execution_count": 45
        }
      ]
    },
    {
      "cell_type": "code",
      "source": [
        "import matplotlib.pyplot as plt\n",
        "\n",
        "# Calcular a média dos bairros com os preços mais baixos\n",
        "media_bairros_baratos = novo_data.groupby('bairro')['preco'].mean().nsmallest(6)\n",
        "\n",
        "colors = ['#1f77b4', '#ff7f0e', '#2ca02c', '#d62728', '#9467bd', '#8c564b']\n",
        "\n",
        "fig, ax = plt.subplots(figsize=(12, 10))\n",
        "\n",
        "# Usar plot() com o índice e os valores de 'media_bairros_baratos'\n",
        "ax.bar(media_bairros_baratos.index, media_bairros_baratos.values, color=colors)\n",
        "ax.set_xlabel('Bairros')\n",
        "ax.set_ylabel('Preços')\n",
        "ax.set_title('Média dos Preços dos Aluguéis nos 10 Bairros Mais Baratos')\n",
        "\n",
        "# Adicionar anotações aos valores de preço\n",
        "for i, preco in enumerate(media_bairros_baratos.values):\n",
        "    ax.annotate(f'{preco:.2f}', (i, preco), ha='center', va='bottom', fontsize=10)\n",
        "\n",
        "plt.xticks(rotation=50)\n",
        "plt.tight_layout()\n",
        "plt.show()\n",
        "\n"
      ],
      "metadata": {
        "colab": {
          "base_uri": "https://localhost:8080/",
          "height": 1000
        },
        "id": "E66eGEtyKrl5",
        "outputId": "7e3f8ecd-356a-4482-e116-5a29a6a417ad"
      },
      "execution_count": 46,
      "outputs": [
        {
          "output_type": "display_data",
          "data": {
            "text/plain": [
              "<Figure size 1200x1000 with 1 Axes>"
            ],
            "image/png": "[encoded data removed]"
          },
          "metadata": {}
        }
      ]
    },
    {
      "cell_type": "code",
      "source": [
        "\n",
        "media_bairros_caros = novo_data.groupby('bairro')['preco'].mean().nlargest(6)\n",
        "\n",
        "colors = ['#1f77b4', '#ff7f0e', '#2ca02c', '#d62728', '#9467bd', '#8c564b']\n",
        "\n",
        "fig, ax = plt.subplots(figsize=(12, 10))\n",
        "\n",
        "ax.bar(media_bairros_caros.index, media_bairros_caros.values, color=colors)\n",
        "ax.set_xlabel('Bairros')\n",
        "ax.set_ylabel('Preços')\n",
        "ax.set_title('Média dos Preços dos Aluguéis nos 10 Bairros Mais Caros')\n",
        "\n",
        "# Adicionar anotações aos valores de preço\n",
        "for i, preco in enumerate(media_bairros_caros.values):\n",
        "    ax.annotate(f'{preco:.2f}', (i, preco), ha='center', va='bottom', fontsize=10)\n",
        "\n",
        "plt.xticks(rotation=50)\n",
        "plt.tight_layout()\n",
        "plt.show()"
      ],
      "metadata": {
        "colab": {
          "base_uri": "https://localhost:8080/",
          "height": 1000
        },
        "id": "uKvrK1bwLk-B",
        "outputId": "7948fb77-ec04-4af9-dd9b-85110ed8335a"
      },
      "execution_count": 47,
      "outputs": [
        {
          "output_type": "display_data",
          "data": {
            "text/plain": [
              "<Figure size 1200x1000 with 1 Axes>"
            ],
            "image/png": "[encoded data removed]"
          },
          "metadata": {}
        }
      ]
    },
    {
      "cell_type": "code",
      "source": [
        "media_bairros_caros = novo_data.groupby('bairro')['preco'].mean().nlargest(5)\n",
        "\n",
        "# Calcular a média dos aluguéis nos 5 bairros mais caros\n",
        "media_alugueis_caros = media_bairros_caros.mean()\n",
        "\n",
        "media_alugueis_caros"
      ],
      "metadata": {
        "colab": {
          "base_uri": "https://localhost:8080/"
        },
        "id": "5G1XvOCJMN4p",
        "outputId": "7ef81450-dd02-4cf1-cf18-378b62ad0530"
      },
      "execution_count": 48,
      "outputs": [
        {
          "output_type": "execute_result",
          "data": {
            "text/plain": [
              "476.33866484392803"
            ]
          },
          "metadata": {},
          "execution_count": 48
        }
      ]
    },
    {
      "cell_type": "markdown",
      "source": [
        "**NY- distritos**"
      ],
      "metadata": {
        "id": "A8kx6XUi2t9M"
      }
    },
    {
      "cell_type": "code",
      "source": [
        "\n",
        "media_bairro_caro = novo_data.groupby('bairro_grupo')['preco'].mean().sort_values(ascending=False)[:6]\n",
        "\n",
        "colors = ['#1f77b4', '#ff7f0e', '#2ca02c', '#d62728', '#9467bd']\n",
        "\n",
        "fig, ax = plt.subplots(figsize=(12, 10))\n",
        "\n",
        "media_bairro_caro.plot(kind= 'bar', ax=ax, color= colors)\n",
        "ax.set_xlabel('Bairros')\n",
        "ax.set_ylabel('Preços')\n",
        "ax.set_title('Média dos preços dos aluguéis grupos de bairro')\n",
        "\n",
        "for i, (bairro, preco) in enumerate(media_bairro_caro.items()):\n",
        "    ax.annotate(f'{preco:.2f}', (i, preco), ha='center', va='bottom', fontsize=12)\n",
        "\n",
        "\n",
        "plt.show()"
      ],
      "metadata": {
        "colab": {
          "base_uri": "https://localhost:8080/",
          "height": 950
        },
        "id": "bHDll_PFDLgU",
        "outputId": "68fbba03-3076-4912-c6b2-9d7f5c38ef59"
      },
      "execution_count": 49,
      "outputs": [
        {
          "output_type": "display_data",
          "data": {
            "text/plain": [
              "<Figure size 1200x1000 with 1 Axes>"
            ],
            "image/png": "[encoded data removed]"
          },
          "metadata": {}
        }
      ]
    },
    {
      "cell_type": "markdown",
      "source": [
        "\n",
        "*  De acordo com a visualização da média de preços dos aluguéis , é válido dizer que o investimento em alugar um apartamento pode variar dependendo da condição de cada indivíduo(o quanto pode investir), público-alvo.\n",
        "*  Em uma situação em que um indivíduo pretende alugar em um lugar mais barato , pode-se indicar os 1 dos bairros mostrados no gráfico \"Média dos Preços dos Aluguéis mais barato VS Bairro \"\n",
        "*   Em vista dos bairros citados com a menor valor de precificação dos aluguéis, os indivíduos que querem não possuem um valor alto para investir em aluguel nesses locais, mas que podem não ter boas condições de segurança pública ou que podem ser distantes de centros turísticos importantes da cidade de New York.\n",
        "*   Em vista dos bairros citados com a maior média de precificação de aluguel, os indivíduos que tiverem um valor alto em aluguel podem prefirir e escolher esses locais, em que estes podem ser considerados locais com boa qualidade na segurança pública e perto de locais importantes e turísticos na cidade de New York.\n",
        "\n",
        "\n"
      ],
      "metadata": {
        "id": "mLR6bnIiLStx"
      }
    },
    {
      "cell_type": "markdown",
      "source": [
        "****"
      ],
      "metadata": {
        "id": "XZs9xB7-EFdo"
      }
    },
    {
      "cell_type": "markdown",
      "source": [
        "**O número mínimo de noites e a disponibilidade intereferem no preço?**\n"
      ],
      "metadata": {
        "id": "F2ah-8lvrhRp"
      }
    },
    {
      "cell_type": "code",
      "source": [
        "correlacao_noite_disponibilidade_preco = novo_data[['preco', 'minimo_noites', 'disponibilidade_365']].corr()\n",
        "\n",
        "print(correlacao_noite_disponibilidade_preco)"
      ],
      "metadata": {
        "colab": {
          "base_uri": "https://localhost:8080/"
        },
        "id": "X5-h-Y86JDul",
        "outputId": "d20a3a3f-bc34-44e3-f9f5-8b5babeadfe4"
      },
      "execution_count": 50,
      "outputs": [
        {
          "output_type": "stream",
          "name": "stdout",
          "text": [
            "                        preco  minimo_noites  disponibilidade_365\n",
            "preco                1.000000        0.03391             0.118099\n",
            "minimo_noites        0.033910        1.00000             0.219420\n",
            "disponibilidade_365  0.118099        0.21942             1.000000\n"
          ]
        }
      ]
    },
    {
      "cell_type": "markdown",
      "source": [
        "De acordo com o valores de correlação entre as variáveis, há uma baixa relação entre o número mínimo de noites e o preço do imóvel e entre a disponibilidade do imóvel e o preço."
      ],
      "metadata": {
        "id": "3k1wlukUJbsc"
      }
    },
    {
      "cell_type": "code",
      "source": [
        "# Visualização de dados mínimo de noites e preço\n",
        "plt.scatter(novo_data['minimo_noites'], novo_data['preco'])\n",
        "plt.xlabel('Número Mínimo de Noites')\n",
        "plt.ylabel('Preço ')\n",
        "plt.title('Relação entre Número Mínimo de Noites e Preço')\n",
        "plt.show()"
      ],
      "metadata": {
        "colab": {
          "base_uri": "https://localhost:8080/",
          "height": 472
        },
        "id": "H3sMbidSMMYm",
        "outputId": "3c1f0fca-cc07-461d-ab06-83015ff10e64"
      },
      "execution_count": 51,
      "outputs": [
        {
          "output_type": "display_data",
          "data": {
            "text/plain": [
              "<Figure size 640x480 with 1 Axes>"
            ],
            "image/png": "[encoded data removed]"
          },
          "metadata": {}
        }
      ]
    },
    {
      "cell_type": "markdown",
      "source": [
        "De acordo com o gráfico acima percebe-se que a relação entre a variável \"preço\" e a variável \"minimo_noites\""
      ],
      "metadata": {
        "id": "WvS5F0u7M8k9"
      }
    },
    {
      "cell_type": "code",
      "source": [
        "plt.figure(figsize=(10, 6))\n",
        "plt.scatter(novo_data['preco'], novo_data['disponibilidade_365'])\n",
        "plt.xlabel('Disponibilidade ao Longo do tempo')\n",
        "plt.ylabel('Preço')\n",
        "plt.title('Relação entre Disponibilidade ao Longo do tempo e Preço')\n",
        "plt.show()"
      ],
      "metadata": {
        "colab": {
          "base_uri": "https://localhost:8080/",
          "height": 564
        },
        "id": "7XpkVfQMMtFi",
        "outputId": "159589c0-eaf6-4d87-ba91-0b7aea8f16df"
      },
      "execution_count": 52,
      "outputs": [
        {
          "output_type": "display_data",
          "data": {
            "text/plain": [
              "<Figure size 1000x600 with 1 Axes>"
            ],
            "image/png": "[encoded data removed]"
          },
          "metadata": {}
        }
      ]
    },
    {
      "cell_type": "markdown",
      "source": [
        "**Existe algum padrão no texto do nome do local para lugares de mais alto valor?**"
      ],
      "metadata": {
        "id": "hKfYgpabTlWm"
      }
    },
    {
      "cell_type": "code",
      "source": [
        "data['Palavras'] = data['nome'].str.split()\n",
        "\n",
        "# Exibir o DataFrame resultante\n",
        "print(dados)\n"
      ],
      "metadata": {
        "id": "2b0yf-hZUChU"
      },
      "execution_count": null,
      "outputs": []
    },
    {
      "cell_type": "markdown",
      "source": [
        "## Codificação de variáveis categóricas:\n"
      ],
      "metadata": {
        "id": "T_BxxxHbJPWr"
      }
    },
    {
      "cell_type": "code",
      "source": [
        "novo_data.select_dtypes(include='object').describe()"
      ],
      "metadata": {
        "colab": {
          "base_uri": "https://localhost:8080/",
          "height": 175
        },
        "id": "ATsab10nM_zn",
        "outputId": "2786248c-596a-475a-e2af-7ce74fe08685"
      },
      "execution_count": 53,
      "outputs": [
        {
          "output_type": "execute_result",
          "data": {
            "text/plain": [
              "       bairro_grupo        bairro      tipo_quarto\n",
              "count         48466         48466            48466\n",
              "unique            5           221                3\n",
              "top       Manhattan  Williamsburg  Entire home/apt\n",
              "freq          21375          3895            25096"
            ],
            "text/html": [
              "\n",
              "  <div id=\"df-eeba8853-fe70-4035-9fa5-5fbcc4809baf\" class=\"colab-df-container\">\n",
              "    <div>\n",
              "<style scoped>\n",
              "    .dataframe tbody tr th:only-of-type {\n",
              "        vertical-align: middle;\n",
              "    }\n",
              "\n",
              "    .dataframe tbody tr th {\n",
              "        vertical-align: top;\n",
              "    }\n",
              "\n",
              "    .dataframe thead th {\n",
              "        text-align: right;\n",
              "    }\n",
              "</style>\n",
              "<table border=\"1\" class=\"dataframe\">\n",
              "  <thead>\n",
              "    <tr style=\"text-align: right;\">\n",
              "      <th></th>\n",
              "      <th>bairro_grupo</th>\n",
              "      <th>bairro</th>\n",
              "      <th>tipo_quarto</th>\n",
              "    </tr>\n",
              "  </thead>\n",
              "  <tbody>\n",
              "    <tr>\n",
              "      <th>count</th>\n",
              "      <td>48466</td>\n",
              "      <td>48466</td>\n",
              "      <td>48466</td>\n",
              "    </tr>\n",
              "    <tr>\n",
              "      <th>unique</th>\n",
              "      <td>5</td>\n",
              "      <td>221</td>\n",
              "      <td>3</td>\n",
              "    </tr>\n",
              "    <tr>\n",
              "      <th>top</th>\n",
              "      <td>Manhattan</td>\n",
              "      <td>Williamsburg</td>\n",
              "      <td>Entire home/apt</td>\n",
              "    </tr>\n",
              "    <tr>\n",
              "      <th>freq</th>\n",
              "      <td>21375</td>\n",
              "      <td>3895</td>\n",
              "      <td>25096</td>\n",
              "    </tr>\n",
              "  </tbody>\n",
              "</table>\n",
              "</div>\n",
              "    <div class=\"colab-df-buttons\">\n",
              "\n",
              "  <div class=\"colab-df-container\">\n",
              "    <button class=\"colab-df-convert\" onclick=\"convertToInteractive('df-eeba8853-fe70-4035-9fa5-5fbcc4809baf')\"\n",
              "            title=\"Convert this dataframe to an interactive table.\"\n",
              "            style=\"display:none;\">\n",
              "\n",
              "  <svg xmlns=\"http://www.w3.org/2000/svg\" height=\"24px\" viewBox=\"0 -960 960 960\">\n",
              "    <path d=\"M120-120v-720h720v720H120Zm60-500h600v-160H180v160Zm220 220h160v-160H400v160Zm0 220h160v-160H400v160ZM180-400h160v-160H180v160Zm440 0h160v-160H620v160ZM180-180h160v-160H180v160Zm440 0h160v-160H620v160Z\"/>\n",
              "  </svg>\n",
              "    </button>\n",
              "\n",
              "  <style>\n",
              "    .colab-df-container {\n",
              "      display:flex;\n",
              "      gap: 12px;\n",
              "    }\n",
              "\n",
              "    .colab-df-convert {\n",
              "      background-color: #E8F0FE;\n",
              "      border: none;\n",
              "      border-radius: 50%;\n",
              "      cursor: pointer;\n",
              "      display: none;\n",
              "      fill: #1967D2;\n",
              "      height: 32px;\n",
              "      padding: 0 0 0 0;\n",
              "      width: 32px;\n",
              "    }\n",
              "\n",
              "    .colab-df-convert:hover {\n",
              "      background-color: #E2EBFA;\n",
              "      box-shadow: 0px 1px 2px rgba(60, 64, 67, 0.3), 0px 1px 3px 1px rgba(60, 64, 67, 0.15);\n",
              "      fill: #174EA6;\n",
              "    }\n",
              "\n",
              "    .colab-df-buttons div {\n",
              "      margin-bottom: 4px;\n",
              "    }\n",
              "\n",
              "    [theme=dark] .colab-df-convert {\n",
              "      background-color: #3B4455;\n",
              "      fill: #D2E3FC;\n",
              "    }\n",
              "\n",
              "    [theme=dark] .colab-df-convert:hover {\n",
              "      background-color: #434B5C;\n",
              "      box-shadow: 0px 1px 3px 1px rgba(0, 0, 0, 0.15);\n",
              "      filter: drop-shadow(0px 1px 2px rgba(0, 0, 0, 0.3));\n",
              "      fill: #FFFFFF;\n",
              "    }\n",
              "  </style>\n",
              "\n",
              "    <script>\n",
              "      const buttonEl =\n",
              "        document.querySelector('#df-eeba8853-fe70-4035-9fa5-5fbcc4809baf button.colab-df-convert');\n",
              "      buttonEl.style.display =\n",
              "        google.colab.kernel.accessAllowed ? 'block' : 'none';\n",
              "\n",
              "      async function convertToInteractive(key) {\n",
              "        const element = document.querySelector('#df-eeba8853-fe70-4035-9fa5-5fbcc4809baf');\n",
              "        const dataTable =\n",
              "          await google.colab.kernel.invokeFunction('convertToInteractive',\n",
              "                                                    [key], {});\n",
              "        if (!dataTable) return;\n",
              "\n",
              "        const docLinkHtml = 'Like what you see? Visit the ' +\n",
              "          '<a target=\"_blank\" href=https://colab.research.google.com/notebooks/data_table.ipynb>data table notebook</a>'\n",
              "          + ' to learn more about interactive tables.';\n",
              "        element.innerHTML = '';\n",
              "        dataTable['output_type'] = 'display_data';\n",
              "        await google.colab.output.renderOutput(dataTable, element);\n",
              "        const docLink = document.createElement('div');\n",
              "        docLink.innerHTML = docLinkHtml;\n",
              "        element.appendChild(docLink);\n",
              "      }\n",
              "    </script>\n",
              "  </div>\n",
              "\n",
              "\n",
              "<div id=\"df-e4621c71-79b2-49a9-8e11-66fdea33ecec\">\n",
              "  <button class=\"colab-df-quickchart\" onclick=\"quickchart('df-e4621c71-79b2-49a9-8e11-66fdea33ecec')\"\n",
              "            title=\"Suggest charts\"\n",
              "            style=\"display:none;\">\n",
              "\n",
              "<svg xmlns=\"http://www.w3.org/2000/svg\" height=\"24px\"viewBox=\"0 0 24 24\"\n",
              "     width=\"24px\">\n",
              "    <g>\n",
              "        <path d=\"M19 3H5c-1.1 0-2 .9-2 2v14c0 1.1.9 2 2 2h14c1.1 0 2-.9 2-2V5c0-1.1-.9-2-2-2zM9 17H7v-7h2v7zm4 0h-2V7h2v10zm4 0h-2v-4h2v4z\"/>\n",
              "    </g>\n",
              "</svg>\n",
              "  </button>\n",
              "\n",
              "<style>\n",
              "  .colab-df-quickchart {\n",
              "      --bg-color: #E8F0FE;\n",
              "      --fill-color: #1967D2;\n",
              "      --hover-bg-color: #E2EBFA;\n",
              "      --hover-fill-color: #174EA6;\n",
              "      --disabled-fill-color: #AAA;\n",
              "      --disabled-bg-color: #DDD;\n",
              "  }\n",
              "\n",
              "  [theme=dark] .colab-df-quickchart {\n",
              "      --bg-color: #3B4455;\n",
              "      --fill-color: #D2E3FC;\n",
              "      --hover-bg-color: #434B5C;\n",
              "      --hover-fill-color: #FFFFFF;\n",
              "      --disabled-bg-color: #3B4455;\n",
              "      --disabled-fill-color: #666;\n",
              "  }\n",
              "\n",
              "  .colab-df-quickchart {\n",
              "    background-color: var(--bg-color);\n",
              "    border: none;\n",
              "    border-radius: 50%;\n",
              "    cursor: pointer;\n",
              "    display: none;\n",
              "    fill: var(--fill-color);\n",
              "    height: 32px;\n",
              "    padding: 0;\n",
              "    width: 32px;\n",
              "  }\n",
              "\n",
              "  .colab-df-quickchart:hover {\n",
              "    background-color: var(--hover-bg-color);\n",
              "    box-shadow: 0 1px 2px rgba(60, 64, 67, 0.3), 0 1px 3px 1px rgba(60, 64, 67, 0.15);\n",
              "    fill: var(--button-hover-fill-color);\n",
              "  }\n",
              "\n",
              "  .colab-df-quickchart-complete:disabled,\n",
              "  .colab-df-quickchart-complete:disabled:hover {\n",
              "    background-color: var(--disabled-bg-color);\n",
              "    fill: var(--disabled-fill-color);\n",
              "    box-shadow: none;\n",
              "  }\n",
              "\n",
              "  .colab-df-spinner {\n",
              "    border: 2px solid var(--fill-color);\n",
              "    border-color: transparent;\n",
              "    border-bottom-color: var(--fill-color);\n",
              "    animation:\n",
              "      spin 1s steps(1) infinite;\n",
              "  }\n",
              "\n",
              "  @keyframes spin {\n",
              "    0% {\n",
              "      border-color: transparent;\n",
              "      border-bottom-color: var(--fill-color);\n",
              "      border-left-color: var(--fill-color);\n",
              "    }\n",
              "    20% {\n",
              "      border-color: transparent;\n",
              "      border-left-color: var(--fill-color);\n",
              "      border-top-color: var(--fill-color);\n",
              "    }\n",
              "    30% {\n",
              "      border-color: transparent;\n",
              "      border-left-color: var(--fill-color);\n",
              "      border-top-color: var(--fill-color);\n",
              "      border-right-color: var(--fill-color);\n",
              "    }\n",
              "    40% {\n",
              "      border-color: transparent;\n",
              "      border-right-color: var(--fill-color);\n",
              "      border-top-color: var(--fill-color);\n",
              "    }\n",
              "    60% {\n",
              "      border-color: transparent;\n",
              "      border-right-color: var(--fill-color);\n",
              "    }\n",
              "    80% {\n",
              "      border-color: transparent;\n",
              "      border-right-color: var(--fill-color);\n",
              "      border-bottom-color: var(--fill-color);\n",
              "    }\n",
              "    90% {\n",
              "      border-color: transparent;\n",
              "      border-bottom-color: var(--fill-color);\n",
              "    }\n",
              "  }\n",
              "</style>\n",
              "\n",
              "  <script>\n",
              "    async function quickchart(key) {\n",
              "      const quickchartButtonEl =\n",
              "        document.querySelector('#' + key + ' button');\n",
              "      quickchartButtonEl.disabled = true;  // To prevent multiple clicks.\n",
              "      quickchartButtonEl.classList.add('colab-df-spinner');\n",
              "      try {\n",
              "        const charts = await google.colab.kernel.invokeFunction(\n",
              "            'suggestCharts', [key], {});\n",
              "      } catch (error) {\n",
              "        console.error('Error during call to suggestCharts:', error);\n",
              "      }\n",
              "      quickchartButtonEl.classList.remove('colab-df-spinner');\n",
              "      quickchartButtonEl.classList.add('colab-df-quickchart-complete');\n",
              "    }\n",
              "    (() => {\n",
              "      let quickchartButtonEl =\n",
              "        document.querySelector('#df-e4621c71-79b2-49a9-8e11-66fdea33ecec button');\n",
              "      quickchartButtonEl.style.display =\n",
              "        google.colab.kernel.accessAllowed ? 'block' : 'none';\n",
              "    })();\n",
              "  </script>\n",
              "</div>\n",
              "\n",
              "    </div>\n",
              "  </div>\n"
            ],
            "application/vnd.google.colaboratory.intrinsic+json": {
              "type": "dataframe",
              "summary": "{\n  \"name\": \"novo_data\",\n  \"rows\": 4,\n  \"fields\": [\n    {\n      \"column\": \"bairro_grupo\",\n      \"properties\": {\n        \"dtype\": \"string\",\n        \"samples\": [\n          5,\n          \"21375\",\n          \"48466\"\n        ],\n        \"num_unique_values\": 4,\n        \"semantic_type\": \"\",\n        \"description\": \"\"\n      }\n    },\n    {\n      \"column\": \"bairro\",\n      \"properties\": {\n        \"dtype\": \"string\",\n        \"samples\": [\n          221,\n          \"3895\",\n          \"48466\"\n        ],\n        \"num_unique_values\": 4,\n        \"semantic_type\": \"\",\n        \"description\": \"\"\n      }\n    },\n    {\n      \"column\": \"tipo_quarto\",\n      \"properties\": {\n        \"dtype\": \"string\",\n        \"samples\": [\n          3,\n          \"25096\",\n          \"48466\"\n        ],\n        \"num_unique_values\": 4,\n        \"semantic_type\": \"\",\n        \"description\": \"\"\n      }\n    }\n  ]\n}"
            }
          },
          "metadata": {},
          "execution_count": 53
        }
      ]
    },
    {
      "cell_type": "markdown",
      "source": [
        "## Tratamento de Atributos Categóricos"
      ],
      "metadata": {
        "id": "9KBKf8HZF39V"
      }
    },
    {
      "cell_type": "markdown",
      "source": [
        "### one hot encoder\n"
      ],
      "metadata": {
        "id": "1q-UWt2DGQnU"
      }
    },
    {
      "cell_type": "code",
      "source": [
        "from sklearn.preprocessing import OneHotEncoder\n",
        "from sklearn.compose import ColumnTransformer"
      ],
      "metadata": {
        "id": "FBe496K9GjLW"
      },
      "execution_count": 54,
      "outputs": []
    },
    {
      "cell_type": "code",
      "source": [
        "# criar uma instância one hot encoder\n",
        "one_hot_encoder = OneHotEncoder()\n",
        "\n",
        "# ajustar e transformar os dados\n",
        "data_codificado = one_hot_encoder.fit_transform(novo_data[['tipo_quarto']])\n",
        "\n",
        "# converter a saída para dataframe\n",
        "data_codificado_novo_DF = pd.DataFrame(data_codificado.toarray(), columns=one_hot_encoder.get_feature_names_out(['tipo_quarto']))\n",
        "\n",
        "#concatenar\n",
        "data_final = pd.concat([novo_data, data_codificado_novo_DF], axis=1)"
      ],
      "metadata": {
        "id": "KmKXeDFAHQOG"
      },
      "execution_count": 55,
      "outputs": []
    },
    {
      "cell_type": "code",
      "source": [
        "data_final.head()"
      ],
      "metadata": {
        "colab": {
          "base_uri": "https://localhost:8080/",
          "height": 313
        },
        "id": "cB3QYsp0HS-U",
        "outputId": "47ae602b-53ce-41ef-e9e9-4ee7bdde2886"
      },
      "execution_count": 56,
      "outputs": [
        {
          "output_type": "execute_result",
          "data": {
            "text/plain": [
              "  bairro_grupo        bairro  latitude  longitude      tipo_quarto  preco  \\\n",
              "0    Manhattan       Midtown  40.75362  -73.98377  Entire home/apt  225.0   \n",
              "1    Manhattan        Harlem  40.80902  -73.94190     Private room  150.0   \n",
              "2     Brooklyn  Clinton Hill  40.68514  -73.95976  Entire home/apt   89.0   \n",
              "3    Manhattan   East Harlem  40.79851  -73.94399  Entire home/apt   80.0   \n",
              "4    Manhattan   Murray Hill  40.74767  -73.97500  Entire home/apt  200.0   \n",
              "\n",
              "   minimo_noites  numero_avaliacoes  contagem_listas_hosts  \\\n",
              "0            1.0               45.0                    2.0   \n",
              "1            3.0                0.0                    1.0   \n",
              "2            1.0              270.0                    1.0   \n",
              "3           10.0                9.0                    1.0   \n",
              "4            3.0               74.0                    1.0   \n",
              "\n",
              "   disponibilidade_365  tipo_quarto_Entire home/apt  tipo_quarto_Private room  \\\n",
              "0                355.0                          1.0                       0.0   \n",
              "1                365.0                          0.0                       1.0   \n",
              "2                194.0                          1.0                       0.0   \n",
              "3                  0.0                          1.0                       0.0   \n",
              "4                129.0                          1.0                       0.0   \n",
              "\n",
              "   tipo_quarto_Shared room  \n",
              "0                      0.0  \n",
              "1                      0.0  \n",
              "2                      0.0  \n",
              "3                      0.0  \n",
              "4                      0.0  "
            ],
            "text/html": [
              "\n",
              "  <div id=\"df-55249d9d-328c-4f63-a8bc-0de69925c730\" class=\"colab-df-container\">\n",
              "    <div>\n",
              "<style scoped>\n",
              "    .dataframe tbody tr th:only-of-type {\n",
              "        vertical-align: middle;\n",
              "    }\n",
              "\n",
              "    .dataframe tbody tr th {\n",
              "        vertical-align: top;\n",
              "    }\n",
              "\n",
              "    .dataframe thead th {\n",
              "        text-align: right;\n",
              "    }\n",
              "</style>\n",
              "<table border=\"1\" class=\"dataframe\">\n",
              "  <thead>\n",
              "    <tr style=\"text-align: right;\">\n",
              "      <th></th>\n",
              "      <th>bairro_grupo</th>\n",
              "      <th>bairro</th>\n",
              "      <th>latitude</th>\n",
              "      <th>longitude</th>\n",
              "      <th>tipo_quarto</th>\n",
              "      <th>preco</th>\n",
              "      <th>minimo_noites</th>\n",
              "      <th>numero_avaliacoes</th>\n",
              "      <th>contagem_listas_hosts</th>\n",
              "      <th>disponibilidade_365</th>\n",
              "      <th>tipo_quarto_Entire home/apt</th>\n",
              "      <th>tipo_quarto_Private room</th>\n",
              "      <th>tipo_quarto_Shared room</th>\n",
              "    </tr>\n",
              "  </thead>\n",
              "  <tbody>\n",
              "    <tr>\n",
              "      <th>0</th>\n",
              "      <td>Manhattan</td>\n",
              "      <td>Midtown</td>\n",
              "      <td>40.75362</td>\n",
              "      <td>-73.98377</td>\n",
              "      <td>Entire home/apt</td>\n",
              "      <td>225.0</td>\n",
              "      <td>1.0</td>\n",
              "      <td>45.0</td>\n",
              "      <td>2.0</td>\n",
              "      <td>355.0</td>\n",
              "      <td>1.0</td>\n",
              "      <td>0.0</td>\n",
              "      <td>0.0</td>\n",
              "    </tr>\n",
              "    <tr>\n",
              "      <th>1</th>\n",
              "      <td>Manhattan</td>\n",
              "      <td>Harlem</td>\n",
              "      <td>40.80902</td>\n",
              "      <td>-73.94190</td>\n",
              "      <td>Private room</td>\n",
              "      <td>150.0</td>\n",
              "      <td>3.0</td>\n",
              "      <td>0.0</td>\n",
              "      <td>1.0</td>\n",
              "      <td>365.0</td>\n",
              "      <td>0.0</td>\n",
              "      <td>1.0</td>\n",
              "      <td>0.0</td>\n",
              "    </tr>\n",
              "    <tr>\n",
              "      <th>2</th>\n",
              "      <td>Brooklyn</td>\n",
              "      <td>Clinton Hill</td>\n",
              "      <td>40.68514</td>\n",
              "      <td>-73.95976</td>\n",
              "      <td>Entire home/apt</td>\n",
              "      <td>89.0</td>\n",
              "      <td>1.0</td>\n",
              "      <td>270.0</td>\n",
              "      <td>1.0</td>\n",
              "      <td>194.0</td>\n",
              "      <td>1.0</td>\n",
              "      <td>0.0</td>\n",
              "      <td>0.0</td>\n",
              "    </tr>\n",
              "    <tr>\n",
              "      <th>3</th>\n",
              "      <td>Manhattan</td>\n",
              "      <td>East Harlem</td>\n",
              "      <td>40.79851</td>\n",
              "      <td>-73.94399</td>\n",
              "      <td>Entire home/apt</td>\n",
              "      <td>80.0</td>\n",
              "      <td>10.0</td>\n",
              "      <td>9.0</td>\n",
              "      <td>1.0</td>\n",
              "      <td>0.0</td>\n",
              "      <td>1.0</td>\n",
              "      <td>0.0</td>\n",
              "      <td>0.0</td>\n",
              "    </tr>\n",
              "    <tr>\n",
              "      <th>4</th>\n",
              "      <td>Manhattan</td>\n",
              "      <td>Murray Hill</td>\n",
              "      <td>40.74767</td>\n",
              "      <td>-73.97500</td>\n",
              "      <td>Entire home/apt</td>\n",
              "      <td>200.0</td>\n",
              "      <td>3.0</td>\n",
              "      <td>74.0</td>\n",
              "      <td>1.0</td>\n",
              "      <td>129.0</td>\n",
              "      <td>1.0</td>\n",
              "      <td>0.0</td>\n",
              "      <td>0.0</td>\n",
              "    </tr>\n",
              "  </tbody>\n",
              "</table>\n",
              "</div>\n",
              "    <div class=\"colab-df-buttons\">\n",
              "\n",
              "  <div class=\"colab-df-container\">\n",
              "    <button class=\"colab-df-convert\" onclick=\"convertToInteractive('df-55249d9d-328c-4f63-a8bc-0de69925c730')\"\n",
              "            title=\"Convert this dataframe to an interactive table.\"\n",
              "            style=\"display:none;\">\n",
              "\n",
              "  <svg xmlns=\"http://www.w3.org/2000/svg\" height=\"24px\" viewBox=\"0 -960 960 960\">\n",
              "    <path d=\"M120-120v-720h720v720H120Zm60-500h600v-160H180v160Zm220 220h160v-160H400v160Zm0 220h160v-160H400v160ZM180-400h160v-160H180v160Zm440 0h160v-160H620v160ZM180-180h160v-160H180v160Zm440 0h160v-160H620v160Z\"/>\n",
              "  </svg>\n",
              "    </button>\n",
              "\n",
              "  <style>\n",
              "    .colab-df-container {\n",
              "      display:flex;\n",
              "      gap: 12px;\n",
              "    }\n",
              "\n",
              "    .colab-df-convert {\n",
              "      background-color: #E8F0FE;\n",
              "      border: none;\n",
              "      border-radius: 50%;\n",
              "      cursor: pointer;\n",
              "      display: none;\n",
              "      fill: #1967D2;\n",
              "      height: 32px;\n",
              "      padding: 0 0 0 0;\n",
              "      width: 32px;\n",
              "    }\n",
              "\n",
              "    .colab-df-convert:hover {\n",
              "      background-color: #E2EBFA;\n",
              "      box-shadow: 0px 1px 2px rgba(60, 64, 67, 0.3), 0px 1px 3px 1px rgba(60, 64, 67, 0.15);\n",
              "      fill: #174EA6;\n",
              "    }\n",
              "\n",
              "    .colab-df-buttons div {\n",
              "      margin-bottom: 4px;\n",
              "    }\n",
              "\n",
              "    [theme=dark] .colab-df-convert {\n",
              "      background-color: #3B4455;\n",
              "      fill: #D2E3FC;\n",
              "    }\n",
              "\n",
              "    [theme=dark] .colab-df-convert:hover {\n",
              "      background-color: #434B5C;\n",
              "      box-shadow: 0px 1px 3px 1px rgba(0, 0, 0, 0.15);\n",
              "      filter: drop-shadow(0px 1px 2px rgba(0, 0, 0, 0.3));\n",
              "      fill: #FFFFFF;\n",
              "    }\n",
              "  </style>\n",
              "\n",
              "    <script>\n",
              "      const buttonEl =\n",
              "        document.querySelector('#df-55249d9d-328c-4f63-a8bc-0de69925c730 button.colab-df-convert');\n",
              "      buttonEl.style.display =\n",
              "        google.colab.kernel.accessAllowed ? 'block' : 'none';\n",
              "\n",
              "      async function convertToInteractive(key) {\n",
              "        const element = document.querySelector('#df-55249d9d-328c-4f63-a8bc-0de69925c730');\n",
              "        const dataTable =\n",
              "          await google.colab.kernel.invokeFunction('convertToInteractive',\n",
              "                                                    [key], {});\n",
              "        if (!dataTable) return;\n",
              "\n",
              "        const docLinkHtml = 'Like what you see? Visit the ' +\n",
              "          '<a target=\"_blank\" href=https://colab.research.google.com/notebooks/data_table.ipynb>data table notebook</a>'\n",
              "          + ' to learn more about interactive tables.';\n",
              "        element.innerHTML = '';\n",
              "        dataTable['output_type'] = 'display_data';\n",
              "        await google.colab.output.renderOutput(dataTable, element);\n",
              "        const docLink = document.createElement('div');\n",
              "        docLink.innerHTML = docLinkHtml;\n",
              "        element.appendChild(docLink);\n",
              "      }\n",
              "    </script>\n",
              "  </div>\n",
              "\n",
              "\n",
              "<div id=\"df-c40ad1f7-cae3-4061-a181-85c8eaca3dda\">\n",
              "  <button class=\"colab-df-quickchart\" onclick=\"quickchart('df-c40ad1f7-cae3-4061-a181-85c8eaca3dda')\"\n",
              "            title=\"Suggest charts\"\n",
              "            style=\"display:none;\">\n",
              "\n",
              "<svg xmlns=\"http://www.w3.org/2000/svg\" height=\"24px\"viewBox=\"0 0 24 24\"\n",
              "     width=\"24px\">\n",
              "    <g>\n",
              "        <path d=\"M19 3H5c-1.1 0-2 .9-2 2v14c0 1.1.9 2 2 2h14c1.1 0 2-.9 2-2V5c0-1.1-.9-2-2-2zM9 17H7v-7h2v7zm4 0h-2V7h2v10zm4 0h-2v-4h2v4z\"/>\n",
              "    </g>\n",
              "</svg>\n",
              "  </button>\n",
              "\n",
              "<style>\n",
              "  .colab-df-quickchart {\n",
              "      --bg-color: #E8F0FE;\n",
              "      --fill-color: #1967D2;\n",
              "      --hover-bg-color: #E2EBFA;\n",
              "      --hover-fill-color: #174EA6;\n",
              "      --disabled-fill-color: #AAA;\n",
              "      --disabled-bg-color: #DDD;\n",
              "  }\n",
              "\n",
              "  [theme=dark] .colab-df-quickchart {\n",
              "      --bg-color: #3B4455;\n",
              "      --fill-color: #D2E3FC;\n",
              "      --hover-bg-color: #434B5C;\n",
              "      --hover-fill-color: #FFFFFF;\n",
              "      --disabled-bg-color: #3B4455;\n",
              "      --disabled-fill-color: #666;\n",
              "  }\n",
              "\n",
              "  .colab-df-quickchart {\n",
              "    background-color: var(--bg-color);\n",
              "    border: none;\n",
              "    border-radius: 50%;\n",
              "    cursor: pointer;\n",
              "    display: none;\n",
              "    fill: var(--fill-color);\n",
              "    height: 32px;\n",
              "    padding: 0;\n",
              "    width: 32px;\n",
              "  }\n",
              "\n",
              "  .colab-df-quickchart:hover {\n",
              "    background-color: var(--hover-bg-color);\n",
              "    box-shadow: 0 1px 2px rgba(60, 64, 67, 0.3), 0 1px 3px 1px rgba(60, 64, 67, 0.15);\n",
              "    fill: var(--button-hover-fill-color);\n",
              "  }\n",
              "\n",
              "  .colab-df-quickchart-complete:disabled,\n",
              "  .colab-df-quickchart-complete:disabled:hover {\n",
              "    background-color: var(--disabled-bg-color);\n",
              "    fill: var(--disabled-fill-color);\n",
              "    box-shadow: none;\n",
              "  }\n",
              "\n",
              "  .colab-df-spinner {\n",
              "    border: 2px solid var(--fill-color);\n",
              "    border-color: transparent;\n",
              "    border-bottom-color: var(--fill-color);\n",
              "    animation:\n",
              "      spin 1s steps(1) infinite;\n",
              "  }\n",
              "\n",
              "  @keyframes spin {\n",
              "    0% {\n",
              "      border-color: transparent;\n",
              "      border-bottom-color: var(--fill-color);\n",
              "      border-left-color: var(--fill-color);\n",
              "    }\n",
              "    20% {\n",
              "      border-color: transparent;\n",
              "      border-left-color: var(--fill-color);\n",
              "      border-top-color: var(--fill-color);\n",
              "    }\n",
              "    30% {\n",
              "      border-color: transparent;\n",
              "      border-left-color: var(--fill-color);\n",
              "      border-top-color: var(--fill-color);\n",
              "      border-right-color: var(--fill-color);\n",
              "    }\n",
              "    40% {\n",
              "      border-color: transparent;\n",
              "      border-right-color: var(--fill-color);\n",
              "      border-top-color: var(--fill-color);\n",
              "    }\n",
              "    60% {\n",
              "      border-color: transparent;\n",
              "      border-right-color: var(--fill-color);\n",
              "    }\n",
              "    80% {\n",
              "      border-color: transparent;\n",
              "      border-right-color: var(--fill-color);\n",
              "      border-bottom-color: var(--fill-color);\n",
              "    }\n",
              "    90% {\n",
              "      border-color: transparent;\n",
              "      border-bottom-color: var(--fill-color);\n",
              "    }\n",
              "  }\n",
              "</style>\n",
              "\n",
              "  <script>\n",
              "    async function quickchart(key) {\n",
              "      const quickchartButtonEl =\n",
              "        document.querySelector('#' + key + ' button');\n",
              "      quickchartButtonEl.disabled = true;  // To prevent multiple clicks.\n",
              "      quickchartButtonEl.classList.add('colab-df-spinner');\n",
              "      try {\n",
              "        const charts = await google.colab.kernel.invokeFunction(\n",
              "            'suggestCharts', [key], {});\n",
              "      } catch (error) {\n",
              "        console.error('Error during call to suggestCharts:', error);\n",
              "      }\n",
              "      quickchartButtonEl.classList.remove('colab-df-spinner');\n",
              "      quickchartButtonEl.classList.add('colab-df-quickchart-complete');\n",
              "    }\n",
              "    (() => {\n",
              "      let quickchartButtonEl =\n",
              "        document.querySelector('#df-c40ad1f7-cae3-4061-a181-85c8eaca3dda button');\n",
              "      quickchartButtonEl.style.display =\n",
              "        google.colab.kernel.accessAllowed ? 'block' : 'none';\n",
              "    })();\n",
              "  </script>\n",
              "</div>\n",
              "\n",
              "    </div>\n",
              "  </div>\n"
            ],
            "application/vnd.google.colaboratory.intrinsic+json": {
              "type": "dataframe",
              "variable_name": "data_final",
              "summary": "{\n  \"name\": \"data_final\",\n  \"rows\": 48892,\n  \"fields\": [\n    {\n      \"column\": \"bairro_grupo\",\n      \"properties\": {\n        \"dtype\": \"category\",\n        \"samples\": [\n          \"Brooklyn\",\n          \"Bronx\",\n          \"Queens\"\n        ],\n        \"num_unique_values\": 5,\n        \"semantic_type\": \"\",\n        \"description\": \"\"\n      }\n    },\n    {\n      \"column\": \"bairro\",\n      \"properties\": {\n        \"dtype\": \"category\",\n        \"samples\": [\n          \"Stuyvesant Town\",\n          \"Fresh Meadows\",\n          \"Stapleton\"\n        ],\n        \"num_unique_values\": 221,\n        \"semantic_type\": \"\",\n        \"description\": \"\"\n      }\n    },\n    {\n      \"column\": \"latitude\",\n      \"properties\": {\n        \"dtype\": \"number\",\n        \"std\": 0.05457325402074134,\n        \"min\": 40.49979,\n        \"max\": 40.91306,\n        \"samples\": [\n          40.79009,\n          40.72453,\n          40.71624\n        ],\n        \"num_unique_values\": 18990,\n        \"semantic_type\": \"\",\n        \"description\": \"\"\n      }\n    },\n    {\n      \"column\": \"longitude\",\n      \"properties\": {\n        \"dtype\": \"number\",\n        \"std\": 0.04620200869969919,\n        \"min\": -74.24442,\n        \"max\": -73.71299,\n        \"samples\": [\n          -73.91251,\n          -73.87599,\n          -73.84073\n        ],\n        \"num_unique_values\": 14686,\n        \"semantic_type\": \"\",\n        \"description\": \"\"\n      }\n    },\n    {\n      \"column\": \"tipo_quarto\",\n      \"properties\": {\n        \"dtype\": \"category\",\n        \"samples\": [\n          \"Entire home/apt\",\n          \"Private room\",\n          \"Shared room\"\n        ],\n        \"num_unique_values\": 3,\n        \"semantic_type\": \"\",\n        \"description\": \"\"\n      }\n    },\n    {\n      \"column\": \"preco\",\n      \"properties\": {\n        \"dtype\": \"number\",\n        \"std\": 116.76551940874204,\n        \"min\": 10.0,\n        \"max\": 1000.0,\n        \"samples\": [\n          148.0,\n          83.0,\n          149.0\n        ],\n        \"num_unique_values\": 569,\n        \"semantic_type\": \"\",\n        \"description\": \"\"\n      }\n    },\n    {\n      \"column\": \"minimo_noites\",\n      \"properties\": {\n        \"dtype\": \"number\",\n        \"std\": 9.859110119179455,\n        \"min\": 1.0,\n        \"max\": 99.0,\n        \"samples\": [\n          47.0,\n          33.0,\n          1.0\n        ],\n        \"num_unique_values\": 65,\n        \"semantic_type\": \"\",\n        \"description\": \"\"\n      }\n    },\n    {\n      \"column\": \"numero_avaliacoes\",\n      \"properties\": {\n        \"dtype\": \"number\",\n        \"std\": 44.652918276354974,\n        \"min\": 0.0,\n        \"max\": 629.0,\n        \"samples\": [\n          467.0,\n          144.0,\n          153.0\n        ],\n        \"num_unique_values\": 394,\n        \"semantic_type\": \"\",\n        \"description\": \"\"\n      }\n    },\n    {\n      \"column\": \"contagem_listas_hosts\",\n      \"properties\": {\n        \"dtype\": \"number\",\n        \"std\": 33.05201297729983,\n        \"min\": 1.0,\n        \"max\": 327.0,\n        \"samples\": [\n          37.0,\n          17.0,\n          121.0\n        ],\n        \"num_unique_values\": 47,\n        \"semantic_type\": \"\",\n        \"description\": \"\"\n      }\n    },\n    {\n      \"column\": \"disponibilidade_365\",\n      \"properties\": {\n        \"dtype\": \"number\",\n        \"std\": 131.24006709221842,\n        \"min\": 0.0,\n        \"max\": 365.0,\n        \"samples\": [\n          282.0,\n          309.0,\n          249.0\n        ],\n        \"num_unique_values\": 366,\n        \"semantic_type\": \"\",\n        \"description\": \"\"\n      }\n    },\n    {\n      \"column\": \"tipo_quarto_Entire home/apt\",\n      \"properties\": {\n        \"dtype\": \"number\",\n        \"std\": 0.49968799024958754,\n        \"min\": 0.0,\n        \"max\": 1.0,\n        \"samples\": [\n          0.0,\n          1.0\n        ],\n        \"num_unique_values\": 2,\n        \"semantic_type\": \"\",\n        \"description\": \"\"\n      }\n    },\n    {\n      \"column\": \"tipo_quarto_Private room\",\n      \"properties\": {\n        \"dtype\": \"number\",\n        \"std\": 0.4982804966483419,\n        \"min\": 0.0,\n        \"max\": 1.0,\n        \"samples\": [\n          1.0,\n          0.0\n        ],\n        \"num_unique_values\": 2,\n        \"semantic_type\": \"\",\n        \"description\": \"\"\n      }\n    },\n    {\n      \"column\": \"tipo_quarto_Shared room\",\n      \"properties\": {\n        \"dtype\": \"number\",\n        \"std\": 0.1520727629259197,\n        \"min\": 0.0,\n        \"max\": 1.0,\n        \"samples\": [\n          1.0,\n          0.0\n        ],\n        \"num_unique_values\": 2,\n        \"semantic_type\": \"\",\n        \"description\": \"\"\n      }\n    }\n  ]\n}"
            }
          },
          "metadata": {},
          "execution_count": 56
        }
      ]
    },
    {
      "cell_type": "code",
      "source": [
        "data_final = data_final.dropna(subset=['preco'])\n",
        "data_final = data_final.dropna(subset=['tipo_quarto_Entire home/apt', 'tipo_quarto_Private room', 'tipo_quarto_Shared room'])\n",
        "linhas_preco_faltante = data_final[data_final['preco'].isnull()]\n",
        "\n",
        "print(\"Linhas onde o preço é faltante:\")\n",
        "print(linhas_preco_faltante)\n",
        "\n",
        "valores_ausentes2 = data_final.isnull().sum()\n",
        "valores_ausentes2"
      ],
      "metadata": {
        "colab": {
          "base_uri": "https://localhost:8080/"
        },
        "id": "X-G6e0QkGpix",
        "outputId": "3d630e41-3386-45e3-aa99-51224ae1bc0f"
      },
      "execution_count": 57,
      "outputs": [
        {
          "output_type": "stream",
          "name": "stdout",
          "text": [
            "Linhas onde o preço é faltante:\n",
            "Empty DataFrame\n",
            "Columns: [bairro_grupo, bairro, latitude, longitude, tipo_quarto, preco, minimo_noites, numero_avaliacoes, contagem_listas_hosts, disponibilidade_365, tipo_quarto_Entire home/apt, tipo_quarto_Private room, tipo_quarto_Shared room]\n",
            "Index: []\n"
          ]
        },
        {
          "output_type": "execute_result",
          "data": {
            "text/plain": [
              "bairro_grupo                   0\n",
              "bairro                         0\n",
              "latitude                       0\n",
              "longitude                      0\n",
              "tipo_quarto                    0\n",
              "preco                          0\n",
              "minimo_noites                  0\n",
              "numero_avaliacoes              0\n",
              "contagem_listas_hosts          0\n",
              "disponibilidade_365            0\n",
              "tipo_quarto_Entire home/apt    0\n",
              "tipo_quarto_Private room       0\n",
              "tipo_quarto_Shared room        0\n",
              "dtype: int64"
            ]
          },
          "metadata": {},
          "execution_count": 57
        }
      ]
    },
    {
      "cell_type": "code",
      "source": [
        "data_final.head()"
      ],
      "metadata": {
        "colab": {
          "base_uri": "https://localhost:8080/",
          "height": 313
        },
        "id": "I9_AAiSPO5V-",
        "outputId": "ad8aa678-3e88-40e0-ea48-6f292adf2467"
      },
      "execution_count": 58,
      "outputs": [
        {
          "output_type": "execute_result",
          "data": {
            "text/plain": [
              "  bairro_grupo        bairro  latitude  longitude      tipo_quarto  preco  \\\n",
              "0    Manhattan       Midtown  40.75362  -73.98377  Entire home/apt  225.0   \n",
              "1    Manhattan        Harlem  40.80902  -73.94190     Private room  150.0   \n",
              "2     Brooklyn  Clinton Hill  40.68514  -73.95976  Entire home/apt   89.0   \n",
              "3    Manhattan   East Harlem  40.79851  -73.94399  Entire home/apt   80.0   \n",
              "4    Manhattan   Murray Hill  40.74767  -73.97500  Entire home/apt  200.0   \n",
              "\n",
              "   minimo_noites  numero_avaliacoes  contagem_listas_hosts  \\\n",
              "0            1.0               45.0                    2.0   \n",
              "1            3.0                0.0                    1.0   \n",
              "2            1.0              270.0                    1.0   \n",
              "3           10.0                9.0                    1.0   \n",
              "4            3.0               74.0                    1.0   \n",
              "\n",
              "   disponibilidade_365  tipo_quarto_Entire home/apt  tipo_quarto_Private room  \\\n",
              "0                355.0                          1.0                       0.0   \n",
              "1                365.0                          0.0                       1.0   \n",
              "2                194.0                          1.0                       0.0   \n",
              "3                  0.0                          1.0                       0.0   \n",
              "4                129.0                          1.0                       0.0   \n",
              "\n",
              "   tipo_quarto_Shared room  \n",
              "0                      0.0  \n",
              "1                      0.0  \n",
              "2                      0.0  \n",
              "3                      0.0  \n",
              "4                      0.0  "
            ],
            "text/html": [
              "\n",
              "  <div id=\"df-c5858513-91f7-4445-9537-4f092e8b035e\" class=\"colab-df-container\">\n",
              "    <div>\n",
              "<style scoped>\n",
              "    .dataframe tbody tr th:only-of-type {\n",
              "        vertical-align: middle;\n",
              "    }\n",
              "\n",
              "    .dataframe tbody tr th {\n",
              "        vertical-align: top;\n",
              "    }\n",
              "\n",
              "    .dataframe thead th {\n",
              "        text-align: right;\n",
              "    }\n",
              "</style>\n",
              "<table border=\"1\" class=\"dataframe\">\n",
              "  <thead>\n",
              "    <tr style=\"text-align: right;\">\n",
              "      <th></th>\n",
              "      <th>bairro_grupo</th>\n",
              "      <th>bairro</th>\n",
              "      <th>latitude</th>\n",
              "      <th>longitude</th>\n",
              "      <th>tipo_quarto</th>\n",
              "      <th>preco</th>\n",
              "      <th>minimo_noites</th>\n",
              "      <th>numero_avaliacoes</th>\n",
              "      <th>contagem_listas_hosts</th>\n",
              "      <th>disponibilidade_365</th>\n",
              "      <th>tipo_quarto_Entire home/apt</th>\n",
              "      <th>tipo_quarto_Private room</th>\n",
              "      <th>tipo_quarto_Shared room</th>\n",
              "    </tr>\n",
              "  </thead>\n",
              "  <tbody>\n",
              "    <tr>\n",
              "      <th>0</th>\n",
              "      <td>Manhattan</td>\n",
              "      <td>Midtown</td>\n",
              "      <td>40.75362</td>\n",
              "      <td>-73.98377</td>\n",
              "      <td>Entire home/apt</td>\n",
              "      <td>225.0</td>\n",
              "      <td>1.0</td>\n",
              "      <td>45.0</td>\n",
              "      <td>2.0</td>\n",
              "      <td>355.0</td>\n",
              "      <td>1.0</td>\n",
              "      <td>0.0</td>\n",
              "      <td>0.0</td>\n",
              "    </tr>\n",
              "    <tr>\n",
              "      <th>1</th>\n",
              "      <td>Manhattan</td>\n",
              "      <td>Harlem</td>\n",
              "      <td>40.80902</td>\n",
              "      <td>-73.94190</td>\n",
              "      <td>Private room</td>\n",
              "      <td>150.0</td>\n",
              "      <td>3.0</td>\n",
              "      <td>0.0</td>\n",
              "      <td>1.0</td>\n",
              "      <td>365.0</td>\n",
              "      <td>0.0</td>\n",
              "      <td>1.0</td>\n",
              "      <td>0.0</td>\n",
              "    </tr>\n",
              "    <tr>\n",
              "      <th>2</th>\n",
              "      <td>Brooklyn</td>\n",
              "      <td>Clinton Hill</td>\n",
              "      <td>40.68514</td>\n",
              "      <td>-73.95976</td>\n",
              "      <td>Entire home/apt</td>\n",
              "      <td>89.0</td>\n",
              "      <td>1.0</td>\n",
              "      <td>270.0</td>\n",
              "      <td>1.0</td>\n",
              "      <td>194.0</td>\n",
              "      <td>1.0</td>\n",
              "      <td>0.0</td>\n",
              "      <td>0.0</td>\n",
              "    </tr>\n",
              "    <tr>\n",
              "      <th>3</th>\n",
              "      <td>Manhattan</td>\n",
              "      <td>East Harlem</td>\n",
              "      <td>40.79851</td>\n",
              "      <td>-73.94399</td>\n",
              "      <td>Entire home/apt</td>\n",
              "      <td>80.0</td>\n",
              "      <td>10.0</td>\n",
              "      <td>9.0</td>\n",
              "      <td>1.0</td>\n",
              "      <td>0.0</td>\n",
              "      <td>1.0</td>\n",
              "      <td>0.0</td>\n",
              "      <td>0.0</td>\n",
              "    </tr>\n",
              "    <tr>\n",
              "      <th>4</th>\n",
              "      <td>Manhattan</td>\n",
              "      <td>Murray Hill</td>\n",
              "      <td>40.74767</td>\n",
              "      <td>-73.97500</td>\n",
              "      <td>Entire home/apt</td>\n",
              "      <td>200.0</td>\n",
              "      <td>3.0</td>\n",
              "      <td>74.0</td>\n",
              "      <td>1.0</td>\n",
              "      <td>129.0</td>\n",
              "      <td>1.0</td>\n",
              "      <td>0.0</td>\n",
              "      <td>0.0</td>\n",
              "    </tr>\n",
              "  </tbody>\n",
              "</table>\n",
              "</div>\n",
              "    <div class=\"colab-df-buttons\">\n",
              "\n",
              "  <div class=\"colab-df-container\">\n",
              "    <button class=\"colab-df-convert\" onclick=\"convertToInteractive('df-c5858513-91f7-4445-9537-4f092e8b035e')\"\n",
              "            title=\"Convert this dataframe to an interactive table.\"\n",
              "            style=\"display:none;\">\n",
              "\n",
              "  <svg xmlns=\"http://www.w3.org/2000/svg\" height=\"24px\" viewBox=\"0 -960 960 960\">\n",
              "    <path d=\"M120-120v-720h720v720H120Zm60-500h600v-160H180v160Zm220 220h160v-160H400v160Zm0 220h160v-160H400v160ZM180-400h160v-160H180v160Zm440 0h160v-160H620v160ZM180-180h160v-160H180v160Zm440 0h160v-160H620v160Z\"/>\n",
              "  </svg>\n",
              "    </button>\n",
              "\n",
              "  <style>\n",
              "    .colab-df-container {\n",
              "      display:flex;\n",
              "      gap: 12px;\n",
              "    }\n",
              "\n",
              "    .colab-df-convert {\n",
              "      background-color: #E8F0FE;\n",
              "      border: none;\n",
              "      border-radius: 50%;\n",
              "      cursor: pointer;\n",
              "      display: none;\n",
              "      fill: #1967D2;\n",
              "      height: 32px;\n",
              "      padding: 0 0 0 0;\n",
              "      width: 32px;\n",
              "    }\n",
              "\n",
              "    .colab-df-convert:hover {\n",
              "      background-color: #E2EBFA;\n",
              "      box-shadow: 0px 1px 2px rgba(60, 64, 67, 0.3), 0px 1px 3px 1px rgba(60, 64, 67, 0.15);\n",
              "      fill: #174EA6;\n",
              "    }\n",
              "\n",
              "    .colab-df-buttons div {\n",
              "      margin-bottom: 4px;\n",
              "    }\n",
              "\n",
              "    [theme=dark] .colab-df-convert {\n",
              "      background-color: #3B4455;\n",
              "      fill: #D2E3FC;\n",
              "    }\n",
              "\n",
              "    [theme=dark] .colab-df-convert:hover {\n",
              "      background-color: #434B5C;\n",
              "      box-shadow: 0px 1px 3px 1px rgba(0, 0, 0, 0.15);\n",
              "      filter: drop-shadow(0px 1px 2px rgba(0, 0, 0, 0.3));\n",
              "      fill: #FFFFFF;\n",
              "    }\n",
              "  </style>\n",
              "\n",
              "    <script>\n",
              "      const buttonEl =\n",
              "        document.querySelector('#df-c5858513-91f7-4445-9537-4f092e8b035e button.colab-df-convert');\n",
              "      buttonEl.style.display =\n",
              "        google.colab.kernel.accessAllowed ? 'block' : 'none';\n",
              "\n",
              "      async function convertToInteractive(key) {\n",
              "        const element = document.querySelector('#df-c5858513-91f7-4445-9537-4f092e8b035e');\n",
              "        const dataTable =\n",
              "          await google.colab.kernel.invokeFunction('convertToInteractive',\n",
              "                                                    [key], {});\n",
              "        if (!dataTable) return;\n",
              "\n",
              "        const docLinkHtml = 'Like what you see? Visit the ' +\n",
              "          '<a target=\"_blank\" href=https://colab.research.google.com/notebooks/data_table.ipynb>data table notebook</a>'\n",
              "          + ' to learn more about interactive tables.';\n",
              "        element.innerHTML = '';\n",
              "        dataTable['output_type'] = 'display_data';\n",
              "        await google.colab.output.renderOutput(dataTable, element);\n",
              "        const docLink = document.createElement('div');\n",
              "        docLink.innerHTML = docLinkHtml;\n",
              "        element.appendChild(docLink);\n",
              "      }\n",
              "    </script>\n",
              "  </div>\n",
              "\n",
              "\n",
              "<div id=\"df-1ff53499-c19b-4397-a52b-5cd13ce35c8b\">\n",
              "  <button class=\"colab-df-quickchart\" onclick=\"quickchart('df-1ff53499-c19b-4397-a52b-5cd13ce35c8b')\"\n",
              "            title=\"Suggest charts\"\n",
              "            style=\"display:none;\">\n",
              "\n",
              "<svg xmlns=\"http://www.w3.org/2000/svg\" height=\"24px\"viewBox=\"0 0 24 24\"\n",
              "     width=\"24px\">\n",
              "    <g>\n",
              "        <path d=\"M19 3H5c-1.1 0-2 .9-2 2v14c0 1.1.9 2 2 2h14c1.1 0 2-.9 2-2V5c0-1.1-.9-2-2-2zM9 17H7v-7h2v7zm4 0h-2V7h2v10zm4 0h-2v-4h2v4z\"/>\n",
              "    </g>\n",
              "</svg>\n",
              "  </button>\n",
              "\n",
              "<style>\n",
              "  .colab-df-quickchart {\n",
              "      --bg-color: #E8F0FE;\n",
              "      --fill-color: #1967D2;\n",
              "      --hover-bg-color: #E2EBFA;\n",
              "      --hover-fill-color: #174EA6;\n",
              "      --disabled-fill-color: #AAA;\n",
              "      --disabled-bg-color: #DDD;\n",
              "  }\n",
              "\n",
              "  [theme=dark] .colab-df-quickchart {\n",
              "      --bg-color: #3B4455;\n",
              "      --fill-color: #D2E3FC;\n",
              "      --hover-bg-color: #434B5C;\n",
              "      --hover-fill-color: #FFFFFF;\n",
              "      --disabled-bg-color: #3B4455;\n",
              "      --disabled-fill-color: #666;\n",
              "  }\n",
              "\n",
              "  .colab-df-quickchart {\n",
              "    background-color: var(--bg-color);\n",
              "    border: none;\n",
              "    border-radius: 50%;\n",
              "    cursor: pointer;\n",
              "    display: none;\n",
              "    fill: var(--fill-color);\n",
              "    height: 32px;\n",
              "    padding: 0;\n",
              "    width: 32px;\n",
              "  }\n",
              "\n",
              "  .colab-df-quickchart:hover {\n",
              "    background-color: var(--hover-bg-color);\n",
              "    box-shadow: 0 1px 2px rgba(60, 64, 67, 0.3), 0 1px 3px 1px rgba(60, 64, 67, 0.15);\n",
              "    fill: var(--button-hover-fill-color);\n",
              "  }\n",
              "\n",
              "  .colab-df-quickchart-complete:disabled,\n",
              "  .colab-df-quickchart-complete:disabled:hover {\n",
              "    background-color: var(--disabled-bg-color);\n",
              "    fill: var(--disabled-fill-color);\n",
              "    box-shadow: none;\n",
              "  }\n",
              "\n",
              "  .colab-df-spinner {\n",
              "    border: 2px solid var(--fill-color);\n",
              "    border-color: transparent;\n",
              "    border-bottom-color: var(--fill-color);\n",
              "    animation:\n",
              "      spin 1s steps(1) infinite;\n",
              "  }\n",
              "\n",
              "  @keyframes spin {\n",
              "    0% {\n",
              "      border-color: transparent;\n",
              "      border-bottom-color: var(--fill-color);\n",
              "      border-left-color: var(--fill-color);\n",
              "    }\n",
              "    20% {\n",
              "      border-color: transparent;\n",
              "      border-left-color: var(--fill-color);\n",
              "      border-top-color: var(--fill-color);\n",
              "    }\n",
              "    30% {\n",
              "      border-color: transparent;\n",
              "      border-left-color: var(--fill-color);\n",
              "      border-top-color: var(--fill-color);\n",
              "      border-right-color: var(--fill-color);\n",
              "    }\n",
              "    40% {\n",
              "      border-color: transparent;\n",
              "      border-right-color: var(--fill-color);\n",
              "      border-top-color: var(--fill-color);\n",
              "    }\n",
              "    60% {\n",
              "      border-color: transparent;\n",
              "      border-right-color: var(--fill-color);\n",
              "    }\n",
              "    80% {\n",
              "      border-color: transparent;\n",
              "      border-right-color: var(--fill-color);\n",
              "      border-bottom-color: var(--fill-color);\n",
              "    }\n",
              "    90% {\n",
              "      border-color: transparent;\n",
              "      border-bottom-color: var(--fill-color);\n",
              "    }\n",
              "  }\n",
              "</style>\n",
              "\n",
              "  <script>\n",
              "    async function quickchart(key) {\n",
              "      const quickchartButtonEl =\n",
              "        document.querySelector('#' + key + ' button');\n",
              "      quickchartButtonEl.disabled = true;  // To prevent multiple clicks.\n",
              "      quickchartButtonEl.classList.add('colab-df-spinner');\n",
              "      try {\n",
              "        const charts = await google.colab.kernel.invokeFunction(\n",
              "            'suggestCharts', [key], {});\n",
              "      } catch (error) {\n",
              "        console.error('Error during call to suggestCharts:', error);\n",
              "      }\n",
              "      quickchartButtonEl.classList.remove('colab-df-spinner');\n",
              "      quickchartButtonEl.classList.add('colab-df-quickchart-complete');\n",
              "    }\n",
              "    (() => {\n",
              "      let quickchartButtonEl =\n",
              "        document.querySelector('#df-1ff53499-c19b-4397-a52b-5cd13ce35c8b button');\n",
              "      quickchartButtonEl.style.display =\n",
              "        google.colab.kernel.accessAllowed ? 'block' : 'none';\n",
              "    })();\n",
              "  </script>\n",
              "</div>\n",
              "\n",
              "    </div>\n",
              "  </div>\n"
            ],
            "application/vnd.google.colaboratory.intrinsic+json": {
              "type": "dataframe",
              "variable_name": "data_final",
              "summary": "{\n  \"name\": \"data_final\",\n  \"rows\": 48040,\n  \"fields\": [\n    {\n      \"column\": \"bairro_grupo\",\n      \"properties\": {\n        \"dtype\": \"category\",\n        \"samples\": [\n          \"Brooklyn\",\n          \"Bronx\",\n          \"Queens\"\n        ],\n        \"num_unique_values\": 5,\n        \"semantic_type\": \"\",\n        \"description\": \"\"\n      }\n    },\n    {\n      \"column\": \"bairro\",\n      \"properties\": {\n        \"dtype\": \"category\",\n        \"samples\": [\n          \"Stuyvesant Town\",\n          \"Fresh Meadows\",\n          \"Stapleton\"\n        ],\n        \"num_unique_values\": 221,\n        \"semantic_type\": \"\",\n        \"description\": \"\"\n      }\n    },\n    {\n      \"column\": \"latitude\",\n      \"properties\": {\n        \"dtype\": \"number\",\n        \"std\": 0.05454315319659884,\n        \"min\": 40.49979,\n        \"max\": 40.91306,\n        \"samples\": [\n          40.68685,\n          40.71797,\n          40.83013\n        ],\n        \"num_unique_values\": 18916,\n        \"semantic_type\": \"\",\n        \"description\": \"\"\n      }\n    },\n    {\n      \"column\": \"longitude\",\n      \"properties\": {\n        \"dtype\": \"number\",\n        \"std\": 0.04612886036341873,\n        \"min\": -74.24442,\n        \"max\": -73.71299,\n        \"samples\": [\n          -74.11756,\n          -73.7393,\n          -73.90014\n        ],\n        \"num_unique_values\": 14630,\n        \"semantic_type\": \"\",\n        \"description\": \"\"\n      }\n    },\n    {\n      \"column\": \"tipo_quarto\",\n      \"properties\": {\n        \"dtype\": \"category\",\n        \"samples\": [\n          \"Entire home/apt\",\n          \"Private room\",\n          \"Shared room\"\n        ],\n        \"num_unique_values\": 3,\n        \"semantic_type\": \"\",\n        \"description\": \"\"\n      }\n    },\n    {\n      \"column\": \"preco\",\n      \"properties\": {\n        \"dtype\": \"number\",\n        \"std\": 116.74377217281338,\n        \"min\": 10.0,\n        \"max\": 1000.0,\n        \"samples\": [\n          78.0,\n          189.0,\n          211.0\n        ],\n        \"num_unique_values\": 568,\n        \"semantic_type\": \"\",\n        \"description\": \"\"\n      }\n    },\n    {\n      \"column\": \"minimo_noites\",\n      \"properties\": {\n        \"dtype\": \"number\",\n        \"std\": 9.865000975876711,\n        \"min\": 1.0,\n        \"max\": 99.0,\n        \"samples\": [\n          47.0,\n          33.0,\n          1.0\n        ],\n        \"num_unique_values\": 65,\n        \"semantic_type\": \"\",\n        \"description\": \"\"\n      }\n    },\n    {\n      \"column\": \"numero_avaliacoes\",\n      \"properties\": {\n        \"dtype\": \"number\",\n        \"std\": 44.79605577259874,\n        \"min\": 0.0,\n        \"max\": 629.0,\n        \"samples\": [\n          467.0,\n          144.0,\n          153.0\n        ],\n        \"num_unique_values\": 394,\n        \"semantic_type\": \"\",\n        \"description\": \"\"\n      }\n    },\n    {\n      \"column\": \"contagem_listas_hosts\",\n      \"properties\": {\n        \"dtype\": \"number\",\n        \"std\": 32.96328644576758,\n        \"min\": 1.0,\n        \"max\": 327.0,\n        \"samples\": [\n          37.0,\n          17.0,\n          121.0\n        ],\n        \"num_unique_values\": 47,\n        \"semantic_type\": \"\",\n        \"description\": \"\"\n      }\n    },\n    {\n      \"column\": \"disponibilidade_365\",\n      \"properties\": {\n        \"dtype\": \"number\",\n        \"std\": 131.25409341466897,\n        \"min\": 0.0,\n        \"max\": 365.0,\n        \"samples\": [\n          282.0,\n          309.0,\n          249.0\n        ],\n        \"num_unique_values\": 366,\n        \"semantic_type\": \"\",\n        \"description\": \"\"\n      }\n    },\n    {\n      \"column\": \"tipo_quarto_Entire home/apt\",\n      \"properties\": {\n        \"dtype\": \"number\",\n        \"std\": 0.49968387916668505,\n        \"min\": 0.0,\n        \"max\": 1.0,\n        \"samples\": [\n          0.0,\n          1.0\n        ],\n        \"num_unique_values\": 2,\n        \"semantic_type\": \"\",\n        \"description\": \"\"\n      }\n    },\n    {\n      \"column\": \"tipo_quarto_Private room\",\n      \"properties\": {\n        \"dtype\": \"number\",\n        \"std\": 0.4982811037844544,\n        \"min\": 0.0,\n        \"max\": 1.0,\n        \"samples\": [\n          1.0,\n          0.0\n        ],\n        \"num_unique_values\": 2,\n        \"semantic_type\": \"\",\n        \"description\": \"\"\n      }\n    },\n    {\n      \"column\": \"tipo_quarto_Shared room\",\n      \"properties\": {\n        \"dtype\": \"number\",\n        \"std\": 0.15168694096814142,\n        \"min\": 0.0,\n        \"max\": 1.0,\n        \"samples\": [\n          1.0,\n          0.0\n        ],\n        \"num_unique_values\": 2,\n        \"semantic_type\": \"\",\n        \"description\": \"\"\n      }\n    }\n  ]\n}"
            }
          },
          "metadata": {},
          "execution_count": 58
        }
      ]
    },
    {
      "cell_type": "markdown",
      "source": [
        "## Divisão de previsores e classe"
      ],
      "metadata": {
        "id": "bm5fZs0jG_lk"
      }
    },
    {
      "cell_type": "code",
      "source": [
        "data_final.columns"
      ],
      "metadata": {
        "colab": {
          "base_uri": "https://localhost:8080/"
        },
        "id": "VWe5y39UJE_O",
        "outputId": "764abe9a-8649-4e2b-b60e-ce3e35d34f4f"
      },
      "execution_count": 59,
      "outputs": [
        {
          "output_type": "execute_result",
          "data": {
            "text/plain": [
              "Index(['bairro_grupo', 'bairro', 'latitude', 'longitude', 'tipo_quarto',\n",
              "       'preco', 'minimo_noites', 'numero_avaliacoes', 'contagem_listas_hosts',\n",
              "       'disponibilidade_365', 'tipo_quarto_Entire home/apt',\n",
              "       'tipo_quarto_Private room', 'tipo_quarto_Shared room'],\n",
              "      dtype='object')"
            ]
          },
          "metadata": {},
          "execution_count": 59
        }
      ]
    },
    {
      "cell_type": "code",
      "source": [
        "nova_ordem_colunas = ['bairro_grupo', 'bairro', 'latitude', 'longitude',\n",
        "                      'minimo_noites', 'numero_avaliacoes',\n",
        "                      'contagem_listas_hosts',\n",
        "                      'disponibilidade_365', 'tipo_quarto_Entire home/apt',\n",
        "                      'tipo_quarto_Private room', 'tipo_quarto_Shared room', 'preco']\n",
        "\n",
        "data_final = data_final[nova_ordem_colunas]"
      ],
      "metadata": {
        "id": "FkJkmmG7JiAO"
      },
      "execution_count": 60,
      "outputs": []
    },
    {
      "cell_type": "code",
      "source": [
        "X = data_final.iloc[:, 0:11].values\n",
        "X[0]\n"
      ],
      "metadata": {
        "colab": {
          "base_uri": "https://localhost:8080/"
        },
        "id": "b8e1a3zNG99W",
        "outputId": "5f9e61ff-ee5c-4b22-9d6f-8a491a7bcea6"
      },
      "execution_count": 61,
      "outputs": [
        {
          "output_type": "execute_result",
          "data": {
            "text/plain": [
              "array(['Manhattan', 'Midtown', 40.75362, -73.98377, 1.0, 45.0, 2.0, 355.0,\n",
              "       1.0, 0.0, 0.0], dtype=object)"
            ]
          },
          "metadata": {},
          "execution_count": 61
        }
      ]
    },
    {
      "cell_type": "code",
      "source": [
        "y = data_final.iloc[:,11].values\n",
        "y"
      ],
      "metadata": {
        "colab": {
          "base_uri": "https://localhost:8080/"
        },
        "id": "Mu3jNBXUhM5l",
        "outputId": "85ab8c08-cdfb-4ecc-af6f-05d490b020eb"
      },
      "execution_count": 62,
      "outputs": [
        {
          "output_type": "execute_result",
          "data": {
            "text/plain": [
              "array([225., 150.,  89., ...,  55., 150., 100.])"
            ]
          },
          "metadata": {},
          "execution_count": 62
        }
      ]
    },
    {
      "cell_type": "markdown",
      "source": [
        "### label encoder"
      ],
      "metadata": {
        "id": "8DqBabOlGLtH"
      }
    },
    {
      "cell_type": "code",
      "source": [
        "from sklearn.preprocessing import LabelEncoder"
      ],
      "metadata": {
        "id": "oRj0rqN3GLNt"
      },
      "execution_count": 63,
      "outputs": []
    },
    {
      "cell_type": "code",
      "source": [
        "label_encoder_bairro_grupo = LabelEncoder()\n",
        "label_encoder_bairro = LabelEncoder()"
      ],
      "metadata": {
        "id": "kTVD3YNbKW6h"
      },
      "execution_count": 64,
      "outputs": []
    },
    {
      "cell_type": "code",
      "source": [
        "X[:,0]"
      ],
      "metadata": {
        "colab": {
          "base_uri": "https://localhost:8080/"
        },
        "id": "1NZmLQCYKxFT",
        "outputId": "a5623e7c-dfea-4326-e78c-51a7b861b052"
      },
      "execution_count": 65,
      "outputs": [
        {
          "output_type": "execute_result",
          "data": {
            "text/plain": [
              "array(['Manhattan', 'Manhattan', 'Brooklyn', ..., 'Brooklyn', 'Brooklyn',\n",
              "       'Brooklyn'], dtype=object)"
            ]
          },
          "metadata": {},
          "execution_count": 65
        }
      ]
    },
    {
      "cell_type": "code",
      "source": [
        "X[:,1]"
      ],
      "metadata": {
        "colab": {
          "base_uri": "https://localhost:8080/"
        },
        "id": "22xoQbE9Oiyd",
        "outputId": "7e33717d-2ce6-493a-a121-85370df4ef0f"
      },
      "execution_count": 66,
      "outputs": [
        {
          "output_type": "execute_result",
          "data": {
            "text/plain": [
              "array(['Midtown', 'Harlem', 'Clinton Hill', ..., 'East Flatbush',\n",
              "       'Crown Heights', 'Gowanus'], dtype=object)"
            ]
          },
          "metadata": {},
          "execution_count": 66
        }
      ]
    },
    {
      "cell_type": "code",
      "source": [
        "X[:,0] = label_encoder_bairro_grupo.fit_transform(X[:,0])\n",
        "X[:,1] = label_encoder_bairro.fit_transform(X[:,1])"
      ],
      "metadata": {
        "id": "dNr9T6HOKYCm"
      },
      "execution_count": 67,
      "outputs": []
    },
    {
      "cell_type": "code",
      "source": [
        "X[:,0]"
      ],
      "metadata": {
        "colab": {
          "base_uri": "https://localhost:8080/"
        },
        "id": "e7S-UUp3T9jB",
        "outputId": "20986cc4-62c1-4cb9-f7e6-21fbe6fa8b22"
      },
      "execution_count": 68,
      "outputs": [
        {
          "output_type": "execute_result",
          "data": {
            "text/plain": [
              "array([2, 2, 1, ..., 1, 1, 1], dtype=object)"
            ]
          },
          "metadata": {},
          "execution_count": 68
        }
      ]
    },
    {
      "cell_type": "code",
      "source": [
        "X[:,1]"
      ],
      "metadata": {
        "colab": {
          "base_uri": "https://localhost:8080/"
        },
        "id": "CmZqHVeKT_tS",
        "outputId": "0498aa77-c47a-4ef3-9e3f-848e69698fdc"
      },
      "execution_count": 69,
      "outputs": [
        {
          "output_type": "execute_result",
          "data": {
            "text/plain": [
              "array([127, 94, 41, ..., 60, 51, 85], dtype=object)"
            ]
          },
          "metadata": {},
          "execution_count": 69
        }
      ]
    },
    {
      "cell_type": "markdown",
      "source": [
        "## Separação em dados de teste e treinamento"
      ],
      "metadata": {
        "id": "UdjkJoYhNjwn"
      }
    },
    {
      "cell_type": "code",
      "source": [
        "from sklearn.model_selection import train_test_split\n",
        "\n",
        "X_treinamento, X_teste, y_treinamento, y_teste = train_test_split(X,y,test_size = 0.15,random_state = 0)\n"
      ],
      "metadata": {
        "id": "bU60-Z14EoBl"
      },
      "execution_count": 70,
      "outputs": []
    },
    {
      "cell_type": "code",
      "source": [
        "X_treinamento.shape,y_treinamento.shape\n"
      ],
      "metadata": {
        "colab": {
          "base_uri": "https://localhost:8080/"
        },
        "id": "cSd2DSphEqlm",
        "outputId": "2420e13f-d3a3-4229-8d01-355b75959ac9"
      },
      "execution_count": 71,
      "outputs": [
        {
          "output_type": "execute_result",
          "data": {
            "text/plain": [
              "((40834, 11), (40834,))"
            ]
          },
          "metadata": {},
          "execution_count": 71
        }
      ]
    },
    {
      "cell_type": "code",
      "source": [
        "X_teste.shape,y_teste.shape"
      ],
      "metadata": {
        "colab": {
          "base_uri": "https://localhost:8080/"
        },
        "id": "lvtVkFhIErg1",
        "outputId": "05c2b39b-9dfe-4311-ac1c-19e5d15bb3dc"
      },
      "execution_count": 72,
      "outputs": [
        {
          "output_type": "execute_result",
          "data": {
            "text/plain": [
              "((7206, 11), (7206,))"
            ]
          },
          "metadata": {},
          "execution_count": 72
        }
      ]
    },
    {
      "cell_type": "markdown",
      "source": [
        "## Salvar variáveis"
      ],
      "metadata": {
        "id": "JnnXWDoJEODw"
      }
    },
    {
      "cell_type": "code",
      "source": [
        "import pickle"
      ],
      "metadata": {
        "id": "zrRIZ81tETHQ"
      },
      "execution_count": 73,
      "outputs": []
    },
    {
      "cell_type": "code",
      "source": [
        "with open('precificacao_aluguel.pkl',mode='wb')as f:\n",
        "  pickle.dump([X_treinamento,y_treinamento,X_teste,y_teste],f)"
      ],
      "metadata": {
        "id": "8HCIXM1WEU1D"
      },
      "execution_count": 74,
      "outputs": []
    },
    {
      "cell_type": "markdown",
      "source": [
        "## MODELAGEM - SVM\n",
        "\n",
        "\n"
      ],
      "metadata": {
        "id": "4bz4C0mQEtEn"
      }
    },
    {
      "cell_type": "code",
      "source": [
        "from sklearn.svm import SVC\n",
        "from sklearn.metrics import accuracy_score, classification_report, confusion_matrix"
      ],
      "metadata": {
        "id": "ZmSK5emnPnrl"
      },
      "execution_count": 75,
      "outputs": []
    },
    {
      "cell_type": "code",
      "source": [
        "svm = SVC(kernel='rbf', random_state=1, C = 2.0)\n",
        "svm.fit(X_treinamento, y_treinamento)"
      ],
      "metadata": {
        "colab": {
          "base_uri": "https://localhost:8080/",
          "height": 74
        },
        "id": "vHwvJ6QyEX6T",
        "outputId": "1457de04-4800-4d3e-841d-ca6aec22eaa2"
      },
      "execution_count": 76,
      "outputs": [
        {
          "output_type": "execute_result",
          "data": {
            "text/plain": [
              "SVC(C=2.0, random_state=1)"
            ],
            "text/html": [
              "<style>#sk-container-id-1 {color: black;background-color: white;}#sk-container-id-1 pre{padding: 0;}#sk-container-id-1 div.sk-toggleable {background-color: white;}#sk-container-id-1 label.sk-toggleable__label {cursor: pointer;display: block;width: 100%;margin-bottom: 0;padding: 0.3em;box-sizing: border-box;text-align: center;}#sk-container-id-1 label.sk-toggleable__label-arrow:before {content: \"▸\";float: left;margin-right: 0.25em;color: #696969;}#sk-container-id-1 label.sk-toggleable__label-arrow:hover:before {color: black;}#sk-container-id-1 div.sk-estimator:hover label.sk-toggleable__label-arrow:before {color: black;}#sk-container-id-1 div.sk-toggleable__content {max-height: 0;max-width: 0;overflow: hidden;text-align: left;background-color: #f0f8ff;}#sk-container-id-1 div.sk-toggleable__content pre {margin: 0.2em;color: black;border-radius: 0.25em;background-color: #f0f8ff;}#sk-container-id-1 input.sk-toggleable__control:checked~div.sk-toggleable__content {max-height: 200px;max-width: 100%;overflow: auto;}#sk-container-id-1 input.sk-toggleable__control:checked~label.sk-toggleable__label-arrow:before {content: \"▾\";}#sk-container-id-1 div.sk-estimator input.sk-toggleable__control:checked~label.sk-toggleable__label {background-color: #d4ebff;}#sk-container-id-1 div.sk-label input.sk-toggleable__control:checked~label.sk-toggleable__label {background-color: #d4ebff;}#sk-container-id-1 input.sk-hidden--visually {border: 0;clip: rect(1px 1px 1px 1px);clip: rect(1px, 1px, 1px, 1px);height: 1px;margin: -1px;overflow: hidden;padding: 0;position: absolute;width: 1px;}#sk-container-id-1 div.sk-estimator {font-family: monospace;background-color: #f0f8ff;border: 1px dotted black;border-radius: 0.25em;box-sizing: border-box;margin-bottom: 0.5em;}#sk-container-id-1 div.sk-estimator:hover {background-color: #d4ebff;}#sk-container-id-1 div.sk-parallel-item::after {content: \"\";width: 100%;border-bottom: 1px solid gray;flex-grow: 1;}#sk-container-id-1 div.sk-label:hover label.sk-toggleable__label {background-color: #d4ebff;}#sk-container-id-1 div.sk-serial::before {content: \"\";position: absolute;border-left: 1px solid gray;box-sizing: border-box;top: 0;bottom: 0;left: 50%;z-index: 0;}#sk-container-id-1 div.sk-serial {display: flex;flex-direction: column;align-items: center;background-color: white;padding-right: 0.2em;padding-left: 0.2em;position: relative;}#sk-container-id-1 div.sk-item {position: relative;z-index: 1;}#sk-container-id-1 div.sk-parallel {display: flex;align-items: stretch;justify-content: center;background-color: white;position: relative;}#sk-container-id-1 div.sk-item::before, #sk-container-id-1 div.sk-parallel-item::before {content: \"\";position: absolute;border-left: 1px solid gray;box-sizing: border-box;top: 0;bottom: 0;left: 50%;z-index: -1;}#sk-container-id-1 div.sk-parallel-item {display: flex;flex-direction: column;z-index: 1;position: relative;background-color: white;}#sk-container-id-1 div.sk-parallel-item:first-child::after {align-self: flex-end;width: 50%;}#sk-container-id-1 div.sk-parallel-item:last-child::after {align-self: flex-start;width: 50%;}#sk-container-id-1 div.sk-parallel-item:only-child::after {width: 0;}#sk-container-id-1 div.sk-dashed-wrapped {border: 1px dashed gray;margin: 0 0.4em 0.5em 0.4em;box-sizing: border-box;padding-bottom: 0.4em;background-color: white;}#sk-container-id-1 div.sk-label label {font-family: monospace;font-weight: bold;display: inline-block;line-height: 1.2em;}#sk-container-id-1 div.sk-label-container {text-align: center;}#sk-container-id-1 div.sk-container {/* jupyter's `normalize.less` sets `[hidden] { display: none; }` but bootstrap.min.css set `[hidden] { display: none !important; }` so we also need the `!important` here to be able to override the default hidden behavior on the sphinx rendered scikit-learn.org. See: https://github.com/scikit-learn/scikit-learn/issues/21755 */display: inline-block !important;position: relative;}#sk-container-id-1 div.sk-text-repr-fallback {display: none;}</style><div id=\"sk-container-id-1\" class=\"sk-top-container\"><div class=\"sk-text-repr-fallback\"><pre>SVC(C=2.0, random_state=1)</pre><b>In a Jupyter environment, please rerun this cell to show the HTML representation or trust the notebook. <br />On GitHub, the HTML representation is unable to render, please try loading this page with nbviewer.org.</b></div><div class=\"sk-container\" hidden><div class=\"sk-item\"><div class=\"sk-estimator sk-toggleable\"><input class=\"sk-toggleable__control sk-hidden--visually\" id=\"sk-estimator-id-1\" type=\"checkbox\" checked><label for=\"sk-estimator-id-1\" class=\"sk-toggleable__label sk-toggleable__label-arrow\">SVC</label><div class=\"sk-toggleable__content\"><pre>SVC(C=2.0, random_state=1)</pre></div></div></div></div></div>"
            ]
          },
          "metadata": {},
          "execution_count": 76
        }
      ]
    },
    {
      "cell_type": "code",
      "source": [
        "from sklearn.svm import SVC\n",
        "from sklearn.metrics import accuracy_score\n",
        "\n",
        "# Crie e treine o modelo SVM\n",
        "svm_model = SVC(kernel='linear')\n",
        "svm_model.fit(X_treinamento, y_treinamento)"
      ],
      "metadata": {
        "id": "zEzoyMM2HWZe"
      },
      "execution_count": null,
      "outputs": []
    },
    {
      "cell_type": "code",
      "source": [
        "y_pred = svm_model.predict(X_teste)\n",
        "\n",
        "# Avalie o desempenho do modelo\n",
        "accuracy = accuracy_score(y_teste, y_pred)\n",
        "print(\"Accuracy:\", accuracy)"
      ],
      "metadata": {
        "id": "1Zfb72KHGkAa"
      },
      "execution_count": null,
      "outputs": []
    },
    {
      "cell_type": "code",
      "source": [
        "from sklearn.model_selection import GridSearchCV\n",
        "from sklearn.svm import SVC\n",
        "from sklearn.metrics import accuracy_score, classification_report, confusion_matrix\n",
        "\n",
        "# Defina os valores que deseja testar para os hiperparâmetros\n",
        "param_grid = {'C': [0.1, 1, 10, 100], 'gamma': [0.001, 0.01, 0.1, 1], 'kernel': ['rbf', 'linear', 'poly']}\n",
        "\n",
        "# Crie o objeto GridSearchCV\n",
        "grid_search = GridSearchCV(SVC(random_state=1), param_grid, cv=5, scoring='accuracy')\n",
        "\n",
        "# Execute o grid search\n",
        "grid_search.fit(X_treinamento, y_treinamento)\n",
        "\n",
        "# Melhores parâmetros encontrados\n",
        "print(\"Melhores parâmetros:\", grid_search.best_params_)\n",
        "\n",
        "# Melhor pontuação de validação cruzada\n",
        "print(\"Melhor pontuação de validação cruzada:\", grid_search.best_score_)\n",
        "\n",
        "# Use o melhor modelo para fazer previsões\n",
        "melhor_modelo = grid_search.best_estimator_\n",
        "y_pred = melhor_modelo.predict(X_teste)\n",
        "\n",
        "# Avalie o desempenho do modelo\n",
        "print(\"Acurácia:\", accuracy_score(y_teste, y_pred))\n",
        "print(\"Relatório de classificação:\")\n",
        "print(classification_report(y_teste, y_pred))\n",
        "print(\"Matriz de confusão:\")\n",
        "print(confusion_matrix(y_teste, y_pred))\n"
      ],
      "metadata": {
        "id": "FFnqASsfS-Ml"
      },
      "execution_count": null,
      "outputs": []
    }
  ]
}